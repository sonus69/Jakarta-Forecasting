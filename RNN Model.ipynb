{
  "nbformat": 4,
  "nbformat_minor": 0,
  "metadata": {
    "colab": {
      "provenance": [],
      "toc_visible": true
    },
    "kernelspec": {
      "name": "python3",
      "display_name": "Python 3"
    },
    "language_info": {
      "name": "python"
    }
  },
  "cells": [
    {
      "cell_type": "markdown",
      "source": [
        "# Import Library and Dataset"
      ],
      "metadata": {
        "id": "bpRqgtEJmnTb"
      }
    },
    {
      "cell_type": "code",
      "execution_count": null,
      "metadata": {
        "id": "xN24_rlf4iE_"
      },
      "outputs": [],
      "source": [
        "import numpy as np\n",
        "from tensorflow.keras.models import Sequential\n",
        "from keras.layers import Dense,Dropout,SimpleRNN\n",
        "import pandas as pd\n",
        "from matplotlib import pyplot as plt\n",
        "from sklearn.preprocessing import StandardScaler\n",
        "from sklearn.model_selection import train_test_split\n",
        "import seaborn as sns\n",
        "from sklearn.metrics import mean_absolute_error, mean_squared_error\n",
        "from sklearn import preprocessing\n",
        "from keras.layers import LeakyReLU\n",
        "from keras.callbacks import EarlyStopping\n",
        "from sklearn.model_selection import GridSearchCV\n",
        "from tabulate import tabulate"
      ]
    },
    {
      "cell_type": "code",
      "source": [
        "from google.colab import files\n",
        "uploaded = files.upload()"
      ],
      "metadata": {
        "colab": {
          "base_uri": "https://localhost:8080/",
          "height": 73
        },
        "id": "VosJXLnu93gG",
        "outputId": "9dff490e-d0fe-4862-c41c-2af3b800fbfe"
      },
      "execution_count": null,
      "outputs": [
        {
          "output_type": "display_data",
          "data": {
            "text/plain": [
              "<IPython.core.display.HTML object>"
            ],
            "text/html": [
              "\n",
              "     <input type=\"file\" id=\"files-34a75fae-ddc0-4279-af4d-99a0bfa5e8b9\" name=\"files[]\" multiple disabled\n",
              "        style=\"border:none\" />\n",
              "     <output id=\"result-34a75fae-ddc0-4279-af4d-99a0bfa5e8b9\">\n",
              "      Upload widget is only available when the cell has been executed in the\n",
              "      current browser session. Please rerun this cell to enable.\n",
              "      </output>\n",
              "      <script>// Copyright 2017 Google LLC\n",
              "//\n",
              "// Licensed under the Apache License, Version 2.0 (the \"License\");\n",
              "// you may not use this file except in compliance with the License.\n",
              "// You may obtain a copy of the License at\n",
              "//\n",
              "//      http://www.apache.org/licenses/LICENSE-2.0\n",
              "//\n",
              "// Unless required by applicable law or agreed to in writing, software\n",
              "// distributed under the License is distributed on an \"AS IS\" BASIS,\n",
              "// WITHOUT WARRANTIES OR CONDITIONS OF ANY KIND, either express or implied.\n",
              "// See the License for the specific language governing permissions and\n",
              "// limitations under the License.\n",
              "\n",
              "/**\n",
              " * @fileoverview Helpers for google.colab Python module.\n",
              " */\n",
              "(function(scope) {\n",
              "function span(text, styleAttributes = {}) {\n",
              "  const element = document.createElement('span');\n",
              "  element.textContent = text;\n",
              "  for (const key of Object.keys(styleAttributes)) {\n",
              "    element.style[key] = styleAttributes[key];\n",
              "  }\n",
              "  return element;\n",
              "}\n",
              "\n",
              "// Max number of bytes which will be uploaded at a time.\n",
              "const MAX_PAYLOAD_SIZE = 100 * 1024;\n",
              "\n",
              "function _uploadFiles(inputId, outputId) {\n",
              "  const steps = uploadFilesStep(inputId, outputId);\n",
              "  const outputElement = document.getElementById(outputId);\n",
              "  // Cache steps on the outputElement to make it available for the next call\n",
              "  // to uploadFilesContinue from Python.\n",
              "  outputElement.steps = steps;\n",
              "\n",
              "  return _uploadFilesContinue(outputId);\n",
              "}\n",
              "\n",
              "// This is roughly an async generator (not supported in the browser yet),\n",
              "// where there are multiple asynchronous steps and the Python side is going\n",
              "// to poll for completion of each step.\n",
              "// This uses a Promise to block the python side on completion of each step,\n",
              "// then passes the result of the previous step as the input to the next step.\n",
              "function _uploadFilesContinue(outputId) {\n",
              "  const outputElement = document.getElementById(outputId);\n",
              "  const steps = outputElement.steps;\n",
              "\n",
              "  const next = steps.next(outputElement.lastPromiseValue);\n",
              "  return Promise.resolve(next.value.promise).then((value) => {\n",
              "    // Cache the last promise value to make it available to the next\n",
              "    // step of the generator.\n",
              "    outputElement.lastPromiseValue = value;\n",
              "    return next.value.response;\n",
              "  });\n",
              "}\n",
              "\n",
              "/**\n",
              " * Generator function which is called between each async step of the upload\n",
              " * process.\n",
              " * @param {string} inputId Element ID of the input file picker element.\n",
              " * @param {string} outputId Element ID of the output display.\n",
              " * @return {!Iterable<!Object>} Iterable of next steps.\n",
              " */\n",
              "function* uploadFilesStep(inputId, outputId) {\n",
              "  const inputElement = document.getElementById(inputId);\n",
              "  inputElement.disabled = false;\n",
              "\n",
              "  const outputElement = document.getElementById(outputId);\n",
              "  outputElement.innerHTML = '';\n",
              "\n",
              "  const pickedPromise = new Promise((resolve) => {\n",
              "    inputElement.addEventListener('change', (e) => {\n",
              "      resolve(e.target.files);\n",
              "    });\n",
              "  });\n",
              "\n",
              "  const cancel = document.createElement('button');\n",
              "  inputElement.parentElement.appendChild(cancel);\n",
              "  cancel.textContent = 'Cancel upload';\n",
              "  const cancelPromise = new Promise((resolve) => {\n",
              "    cancel.onclick = () => {\n",
              "      resolve(null);\n",
              "    };\n",
              "  });\n",
              "\n",
              "  // Wait for the user to pick the files.\n",
              "  const files = yield {\n",
              "    promise: Promise.race([pickedPromise, cancelPromise]),\n",
              "    response: {\n",
              "      action: 'starting',\n",
              "    }\n",
              "  };\n",
              "\n",
              "  cancel.remove();\n",
              "\n",
              "  // Disable the input element since further picks are not allowed.\n",
              "  inputElement.disabled = true;\n",
              "\n",
              "  if (!files) {\n",
              "    return {\n",
              "      response: {\n",
              "        action: 'complete',\n",
              "      }\n",
              "    };\n",
              "  }\n",
              "\n",
              "  for (const file of files) {\n",
              "    const li = document.createElement('li');\n",
              "    li.append(span(file.name, {fontWeight: 'bold'}));\n",
              "    li.append(span(\n",
              "        `(${file.type || 'n/a'}) - ${file.size} bytes, ` +\n",
              "        `last modified: ${\n",
              "            file.lastModifiedDate ? file.lastModifiedDate.toLocaleDateString() :\n",
              "                                    'n/a'} - `));\n",
              "    const percent = span('0% done');\n",
              "    li.appendChild(percent);\n",
              "\n",
              "    outputElement.appendChild(li);\n",
              "\n",
              "    const fileDataPromise = new Promise((resolve) => {\n",
              "      const reader = new FileReader();\n",
              "      reader.onload = (e) => {\n",
              "        resolve(e.target.result);\n",
              "      };\n",
              "      reader.readAsArrayBuffer(file);\n",
              "    });\n",
              "    // Wait for the data to be ready.\n",
              "    let fileData = yield {\n",
              "      promise: fileDataPromise,\n",
              "      response: {\n",
              "        action: 'continue',\n",
              "      }\n",
              "    };\n",
              "\n",
              "    // Use a chunked sending to avoid message size limits. See b/62115660.\n",
              "    let position = 0;\n",
              "    do {\n",
              "      const length = Math.min(fileData.byteLength - position, MAX_PAYLOAD_SIZE);\n",
              "      const chunk = new Uint8Array(fileData, position, length);\n",
              "      position += length;\n",
              "\n",
              "      const base64 = btoa(String.fromCharCode.apply(null, chunk));\n",
              "      yield {\n",
              "        response: {\n",
              "          action: 'append',\n",
              "          file: file.name,\n",
              "          data: base64,\n",
              "        },\n",
              "      };\n",
              "\n",
              "      let percentDone = fileData.byteLength === 0 ?\n",
              "          100 :\n",
              "          Math.round((position / fileData.byteLength) * 100);\n",
              "      percent.textContent = `${percentDone}% done`;\n",
              "\n",
              "    } while (position < fileData.byteLength);\n",
              "  }\n",
              "\n",
              "  // All done.\n",
              "  yield {\n",
              "    response: {\n",
              "      action: 'complete',\n",
              "    }\n",
              "  };\n",
              "}\n",
              "\n",
              "scope.google = scope.google || {};\n",
              "scope.google.colab = scope.google.colab || {};\n",
              "scope.google.colab._files = {\n",
              "  _uploadFiles,\n",
              "  _uploadFilesContinue,\n",
              "};\n",
              "})(self);\n",
              "</script> "
            ]
          },
          "metadata": {}
        },
        {
          "output_type": "stream",
          "name": "stdout",
          "text": [
            "Saving Jakarta 2015 - 2022.csv to Jakarta 2015 - 2022.csv\n"
          ]
        }
      ]
    },
    {
      "cell_type": "markdown",
      "source": [
        "# Load Dataset and Preprocessing"
      ],
      "metadata": {
        "id": "Gy99xqzEmryB"
      }
    },
    {
      "cell_type": "code",
      "source": [
        "data = pd.read_csv(\"Jakarta 2015 - 2022.csv\",delimiter=',')\n",
        "data"
      ],
      "metadata": {
        "colab": {
          "base_uri": "https://localhost:8080/",
          "height": 424
        },
        "id": "uRegYHGm9_EW",
        "outputId": "8c15da22-e588-475b-fd6b-8245e1196645"
      },
      "execution_count": null,
      "outputs": [
        {
          "output_type": "execute_result",
          "data": {
            "text/plain": [
              "      datetime  total_visitor  total_accomodation\n",
              "0     1/1/2014         193017               16332\n",
              "1     2/1/2014         185851               17101\n",
              "2     3/1/2014         204004               17438\n",
              "3     4/1/2014         186373               17943\n",
              "4     5/1/2014         190716               18123\n",
              "..         ...            ...                 ...\n",
              "103   8/1/2022         121438               68569\n",
              "104   9/1/2022         111139               69382\n",
              "105  10/1/2022         112588               69626\n",
              "106  11/1/2022         113958               69843\n",
              "107  12/1/2022         124555               71203\n",
              "\n",
              "[108 rows x 3 columns]"
            ],
            "text/html": [
              "\n",
              "  <div id=\"df-d0499d52-ade3-4ebc-bb01-a0f3a79ddbc2\" class=\"colab-df-container\">\n",
              "    <div>\n",
              "<style scoped>\n",
              "    .dataframe tbody tr th:only-of-type {\n",
              "        vertical-align: middle;\n",
              "    }\n",
              "\n",
              "    .dataframe tbody tr th {\n",
              "        vertical-align: top;\n",
              "    }\n",
              "\n",
              "    .dataframe thead th {\n",
              "        text-align: right;\n",
              "    }\n",
              "</style>\n",
              "<table border=\"1\" class=\"dataframe\">\n",
              "  <thead>\n",
              "    <tr style=\"text-align: right;\">\n",
              "      <th></th>\n",
              "      <th>datetime</th>\n",
              "      <th>total_visitor</th>\n",
              "      <th>total_accomodation</th>\n",
              "    </tr>\n",
              "  </thead>\n",
              "  <tbody>\n",
              "    <tr>\n",
              "      <th>0</th>\n",
              "      <td>1/1/2014</td>\n",
              "      <td>193017</td>\n",
              "      <td>16332</td>\n",
              "    </tr>\n",
              "    <tr>\n",
              "      <th>1</th>\n",
              "      <td>2/1/2014</td>\n",
              "      <td>185851</td>\n",
              "      <td>17101</td>\n",
              "    </tr>\n",
              "    <tr>\n",
              "      <th>2</th>\n",
              "      <td>3/1/2014</td>\n",
              "      <td>204004</td>\n",
              "      <td>17438</td>\n",
              "    </tr>\n",
              "    <tr>\n",
              "      <th>3</th>\n",
              "      <td>4/1/2014</td>\n",
              "      <td>186373</td>\n",
              "      <td>17943</td>\n",
              "    </tr>\n",
              "    <tr>\n",
              "      <th>4</th>\n",
              "      <td>5/1/2014</td>\n",
              "      <td>190716</td>\n",
              "      <td>18123</td>\n",
              "    </tr>\n",
              "    <tr>\n",
              "      <th>...</th>\n",
              "      <td>...</td>\n",
              "      <td>...</td>\n",
              "      <td>...</td>\n",
              "    </tr>\n",
              "    <tr>\n",
              "      <th>103</th>\n",
              "      <td>8/1/2022</td>\n",
              "      <td>121438</td>\n",
              "      <td>68569</td>\n",
              "    </tr>\n",
              "    <tr>\n",
              "      <th>104</th>\n",
              "      <td>9/1/2022</td>\n",
              "      <td>111139</td>\n",
              "      <td>69382</td>\n",
              "    </tr>\n",
              "    <tr>\n",
              "      <th>105</th>\n",
              "      <td>10/1/2022</td>\n",
              "      <td>112588</td>\n",
              "      <td>69626</td>\n",
              "    </tr>\n",
              "    <tr>\n",
              "      <th>106</th>\n",
              "      <td>11/1/2022</td>\n",
              "      <td>113958</td>\n",
              "      <td>69843</td>\n",
              "    </tr>\n",
              "    <tr>\n",
              "      <th>107</th>\n",
              "      <td>12/1/2022</td>\n",
              "      <td>124555</td>\n",
              "      <td>71203</td>\n",
              "    </tr>\n",
              "  </tbody>\n",
              "</table>\n",
              "<p>108 rows × 3 columns</p>\n",
              "</div>\n",
              "    <div class=\"colab-df-buttons\">\n",
              "\n",
              "  <div class=\"colab-df-container\">\n",
              "    <button class=\"colab-df-convert\" onclick=\"convertToInteractive('df-d0499d52-ade3-4ebc-bb01-a0f3a79ddbc2')\"\n",
              "            title=\"Convert this dataframe to an interactive table.\"\n",
              "            style=\"display:none;\">\n",
              "\n",
              "  <svg xmlns=\"http://www.w3.org/2000/svg\" height=\"24px\" viewBox=\"0 -960 960 960\">\n",
              "    <path d=\"M120-120v-720h720v720H120Zm60-500h600v-160H180v160Zm220 220h160v-160H400v160Zm0 220h160v-160H400v160ZM180-400h160v-160H180v160Zm440 0h160v-160H620v160ZM180-180h160v-160H180v160Zm440 0h160v-160H620v160Z\"/>\n",
              "  </svg>\n",
              "    </button>\n",
              "\n",
              "  <style>\n",
              "    .colab-df-container {\n",
              "      display:flex;\n",
              "      gap: 12px;\n",
              "    }\n",
              "\n",
              "    .colab-df-convert {\n",
              "      background-color: #E8F0FE;\n",
              "      border: none;\n",
              "      border-radius: 50%;\n",
              "      cursor: pointer;\n",
              "      display: none;\n",
              "      fill: #1967D2;\n",
              "      height: 32px;\n",
              "      padding: 0 0 0 0;\n",
              "      width: 32px;\n",
              "    }\n",
              "\n",
              "    .colab-df-convert:hover {\n",
              "      background-color: #E2EBFA;\n",
              "      box-shadow: 0px 1px 2px rgba(60, 64, 67, 0.3), 0px 1px 3px 1px rgba(60, 64, 67, 0.15);\n",
              "      fill: #174EA6;\n",
              "    }\n",
              "\n",
              "    .colab-df-buttons div {\n",
              "      margin-bottom: 4px;\n",
              "    }\n",
              "\n",
              "    [theme=dark] .colab-df-convert {\n",
              "      background-color: #3B4455;\n",
              "      fill: #D2E3FC;\n",
              "    }\n",
              "\n",
              "    [theme=dark] .colab-df-convert:hover {\n",
              "      background-color: #434B5C;\n",
              "      box-shadow: 0px 1px 3px 1px rgba(0, 0, 0, 0.15);\n",
              "      filter: drop-shadow(0px 1px 2px rgba(0, 0, 0, 0.3));\n",
              "      fill: #FFFFFF;\n",
              "    }\n",
              "  </style>\n",
              "\n",
              "    <script>\n",
              "      const buttonEl =\n",
              "        document.querySelector('#df-d0499d52-ade3-4ebc-bb01-a0f3a79ddbc2 button.colab-df-convert');\n",
              "      buttonEl.style.display =\n",
              "        google.colab.kernel.accessAllowed ? 'block' : 'none';\n",
              "\n",
              "      async function convertToInteractive(key) {\n",
              "        const element = document.querySelector('#df-d0499d52-ade3-4ebc-bb01-a0f3a79ddbc2');\n",
              "        const dataTable =\n",
              "          await google.colab.kernel.invokeFunction('convertToInteractive',\n",
              "                                                    [key], {});\n",
              "        if (!dataTable) return;\n",
              "\n",
              "        const docLinkHtml = 'Like what you see? Visit the ' +\n",
              "          '<a target=\"_blank\" href=https://colab.research.google.com/notebooks/data_table.ipynb>data table notebook</a>'\n",
              "          + ' to learn more about interactive tables.';\n",
              "        element.innerHTML = '';\n",
              "        dataTable['output_type'] = 'display_data';\n",
              "        await google.colab.output.renderOutput(dataTable, element);\n",
              "        const docLink = document.createElement('div');\n",
              "        docLink.innerHTML = docLinkHtml;\n",
              "        element.appendChild(docLink);\n",
              "      }\n",
              "    </script>\n",
              "  </div>\n",
              "\n",
              "\n",
              "<div id=\"df-26e417db-a847-4618-929a-cf9e1e25d978\">\n",
              "  <button class=\"colab-df-quickchart\" onclick=\"quickchart('df-26e417db-a847-4618-929a-cf9e1e25d978')\"\n",
              "            title=\"Suggest charts\"\n",
              "            style=\"display:none;\">\n",
              "\n",
              "<svg xmlns=\"http://www.w3.org/2000/svg\" height=\"24px\"viewBox=\"0 0 24 24\"\n",
              "     width=\"24px\">\n",
              "    <g>\n",
              "        <path d=\"M19 3H5c-1.1 0-2 .9-2 2v14c0 1.1.9 2 2 2h14c1.1 0 2-.9 2-2V5c0-1.1-.9-2-2-2zM9 17H7v-7h2v7zm4 0h-2V7h2v10zm4 0h-2v-4h2v4z\"/>\n",
              "    </g>\n",
              "</svg>\n",
              "  </button>\n",
              "\n",
              "<style>\n",
              "  .colab-df-quickchart {\n",
              "      --bg-color: #E8F0FE;\n",
              "      --fill-color: #1967D2;\n",
              "      --hover-bg-color: #E2EBFA;\n",
              "      --hover-fill-color: #174EA6;\n",
              "      --disabled-fill-color: #AAA;\n",
              "      --disabled-bg-color: #DDD;\n",
              "  }\n",
              "\n",
              "  [theme=dark] .colab-df-quickchart {\n",
              "      --bg-color: #3B4455;\n",
              "      --fill-color: #D2E3FC;\n",
              "      --hover-bg-color: #434B5C;\n",
              "      --hover-fill-color: #FFFFFF;\n",
              "      --disabled-bg-color: #3B4455;\n",
              "      --disabled-fill-color: #666;\n",
              "  }\n",
              "\n",
              "  .colab-df-quickchart {\n",
              "    background-color: var(--bg-color);\n",
              "    border: none;\n",
              "    border-radius: 50%;\n",
              "    cursor: pointer;\n",
              "    display: none;\n",
              "    fill: var(--fill-color);\n",
              "    height: 32px;\n",
              "    padding: 0;\n",
              "    width: 32px;\n",
              "  }\n",
              "\n",
              "  .colab-df-quickchart:hover {\n",
              "    background-color: var(--hover-bg-color);\n",
              "    box-shadow: 0 1px 2px rgba(60, 64, 67, 0.3), 0 1px 3px 1px rgba(60, 64, 67, 0.15);\n",
              "    fill: var(--button-hover-fill-color);\n",
              "  }\n",
              "\n",
              "  .colab-df-quickchart-complete:disabled,\n",
              "  .colab-df-quickchart-complete:disabled:hover {\n",
              "    background-color: var(--disabled-bg-color);\n",
              "    fill: var(--disabled-fill-color);\n",
              "    box-shadow: none;\n",
              "  }\n",
              "\n",
              "  .colab-df-spinner {\n",
              "    border: 2px solid var(--fill-color);\n",
              "    border-color: transparent;\n",
              "    border-bottom-color: var(--fill-color);\n",
              "    animation:\n",
              "      spin 1s steps(1) infinite;\n",
              "  }\n",
              "\n",
              "  @keyframes spin {\n",
              "    0% {\n",
              "      border-color: transparent;\n",
              "      border-bottom-color: var(--fill-color);\n",
              "      border-left-color: var(--fill-color);\n",
              "    }\n",
              "    20% {\n",
              "      border-color: transparent;\n",
              "      border-left-color: var(--fill-color);\n",
              "      border-top-color: var(--fill-color);\n",
              "    }\n",
              "    30% {\n",
              "      border-color: transparent;\n",
              "      border-left-color: var(--fill-color);\n",
              "      border-top-color: var(--fill-color);\n",
              "      border-right-color: var(--fill-color);\n",
              "    }\n",
              "    40% {\n",
              "      border-color: transparent;\n",
              "      border-right-color: var(--fill-color);\n",
              "      border-top-color: var(--fill-color);\n",
              "    }\n",
              "    60% {\n",
              "      border-color: transparent;\n",
              "      border-right-color: var(--fill-color);\n",
              "    }\n",
              "    80% {\n",
              "      border-color: transparent;\n",
              "      border-right-color: var(--fill-color);\n",
              "      border-bottom-color: var(--fill-color);\n",
              "    }\n",
              "    90% {\n",
              "      border-color: transparent;\n",
              "      border-bottom-color: var(--fill-color);\n",
              "    }\n",
              "  }\n",
              "</style>\n",
              "\n",
              "  <script>\n",
              "    async function quickchart(key) {\n",
              "      const quickchartButtonEl =\n",
              "        document.querySelector('#' + key + ' button');\n",
              "      quickchartButtonEl.disabled = true;  // To prevent multiple clicks.\n",
              "      quickchartButtonEl.classList.add('colab-df-spinner');\n",
              "      try {\n",
              "        const charts = await google.colab.kernel.invokeFunction(\n",
              "            'suggestCharts', [key], {});\n",
              "      } catch (error) {\n",
              "        console.error('Error during call to suggestCharts:', error);\n",
              "      }\n",
              "      quickchartButtonEl.classList.remove('colab-df-spinner');\n",
              "      quickchartButtonEl.classList.add('colab-df-quickchart-complete');\n",
              "    }\n",
              "    (() => {\n",
              "      let quickchartButtonEl =\n",
              "        document.querySelector('#df-26e417db-a847-4618-929a-cf9e1e25d978 button');\n",
              "      quickchartButtonEl.style.display =\n",
              "        google.colab.kernel.accessAllowed ? 'block' : 'none';\n",
              "    })();\n",
              "  </script>\n",
              "</div>\n",
              "    </div>\n",
              "  </div>\n"
            ]
          },
          "metadata": {},
          "execution_count": 4
        }
      ]
    },
    {
      "cell_type": "code",
      "source": [
        "data_original = data.copy()\n",
        "train_datetime = pd.to_datetime(data['datetime'])\n",
        "data = data.set_index('datetime')\n",
        "data.head(10)"
      ],
      "metadata": {
        "colab": {
          "base_uri": "https://localhost:8080/",
          "height": 394
        },
        "id": "dQqfd9LPBOjr",
        "outputId": "5f2618ec-0849-433d-d3af-f35a0b161b09"
      },
      "execution_count": null,
      "outputs": [
        {
          "output_type": "execute_result",
          "data": {
            "text/plain": [
              "           total_visitor  total_accomodation\n",
              "datetime                                    \n",
              "1/1/2014          193017               16332\n",
              "2/1/2014          185851               17101\n",
              "3/1/2014          204004               17438\n",
              "4/1/2014          186373               17943\n",
              "5/1/2014          190716               18123\n",
              "6/1/2014          213950               18293\n",
              "7/1/2014          173914               18592\n",
              "8/1/2014          224492               18872\n",
              "9/1/2014          179723               19102\n",
              "10/1/2014         184012               19282"
            ],
            "text/html": [
              "\n",
              "  <div id=\"df-25f1d7dc-4c31-4613-9347-8882aef1ee7d\" class=\"colab-df-container\">\n",
              "    <div>\n",
              "<style scoped>\n",
              "    .dataframe tbody tr th:only-of-type {\n",
              "        vertical-align: middle;\n",
              "    }\n",
              "\n",
              "    .dataframe tbody tr th {\n",
              "        vertical-align: top;\n",
              "    }\n",
              "\n",
              "    .dataframe thead th {\n",
              "        text-align: right;\n",
              "    }\n",
              "</style>\n",
              "<table border=\"1\" class=\"dataframe\">\n",
              "  <thead>\n",
              "    <tr style=\"text-align: right;\">\n",
              "      <th></th>\n",
              "      <th>total_visitor</th>\n",
              "      <th>total_accomodation</th>\n",
              "    </tr>\n",
              "    <tr>\n",
              "      <th>datetime</th>\n",
              "      <th></th>\n",
              "      <th></th>\n",
              "    </tr>\n",
              "  </thead>\n",
              "  <tbody>\n",
              "    <tr>\n",
              "      <th>1/1/2014</th>\n",
              "      <td>193017</td>\n",
              "      <td>16332</td>\n",
              "    </tr>\n",
              "    <tr>\n",
              "      <th>2/1/2014</th>\n",
              "      <td>185851</td>\n",
              "      <td>17101</td>\n",
              "    </tr>\n",
              "    <tr>\n",
              "      <th>3/1/2014</th>\n",
              "      <td>204004</td>\n",
              "      <td>17438</td>\n",
              "    </tr>\n",
              "    <tr>\n",
              "      <th>4/1/2014</th>\n",
              "      <td>186373</td>\n",
              "      <td>17943</td>\n",
              "    </tr>\n",
              "    <tr>\n",
              "      <th>5/1/2014</th>\n",
              "      <td>190716</td>\n",
              "      <td>18123</td>\n",
              "    </tr>\n",
              "    <tr>\n",
              "      <th>6/1/2014</th>\n",
              "      <td>213950</td>\n",
              "      <td>18293</td>\n",
              "    </tr>\n",
              "    <tr>\n",
              "      <th>7/1/2014</th>\n",
              "      <td>173914</td>\n",
              "      <td>18592</td>\n",
              "    </tr>\n",
              "    <tr>\n",
              "      <th>8/1/2014</th>\n",
              "      <td>224492</td>\n",
              "      <td>18872</td>\n",
              "    </tr>\n",
              "    <tr>\n",
              "      <th>9/1/2014</th>\n",
              "      <td>179723</td>\n",
              "      <td>19102</td>\n",
              "    </tr>\n",
              "    <tr>\n",
              "      <th>10/1/2014</th>\n",
              "      <td>184012</td>\n",
              "      <td>19282</td>\n",
              "    </tr>\n",
              "  </tbody>\n",
              "</table>\n",
              "</div>\n",
              "    <div class=\"colab-df-buttons\">\n",
              "\n",
              "  <div class=\"colab-df-container\">\n",
              "    <button class=\"colab-df-convert\" onclick=\"convertToInteractive('df-25f1d7dc-4c31-4613-9347-8882aef1ee7d')\"\n",
              "            title=\"Convert this dataframe to an interactive table.\"\n",
              "            style=\"display:none;\">\n",
              "\n",
              "  <svg xmlns=\"http://www.w3.org/2000/svg\" height=\"24px\" viewBox=\"0 -960 960 960\">\n",
              "    <path d=\"M120-120v-720h720v720H120Zm60-500h600v-160H180v160Zm220 220h160v-160H400v160Zm0 220h160v-160H400v160ZM180-400h160v-160H180v160Zm440 0h160v-160H620v160ZM180-180h160v-160H180v160Zm440 0h160v-160H620v160Z\"/>\n",
              "  </svg>\n",
              "    </button>\n",
              "\n",
              "  <style>\n",
              "    .colab-df-container {\n",
              "      display:flex;\n",
              "      gap: 12px;\n",
              "    }\n",
              "\n",
              "    .colab-df-convert {\n",
              "      background-color: #E8F0FE;\n",
              "      border: none;\n",
              "      border-radius: 50%;\n",
              "      cursor: pointer;\n",
              "      display: none;\n",
              "      fill: #1967D2;\n",
              "      height: 32px;\n",
              "      padding: 0 0 0 0;\n",
              "      width: 32px;\n",
              "    }\n",
              "\n",
              "    .colab-df-convert:hover {\n",
              "      background-color: #E2EBFA;\n",
              "      box-shadow: 0px 1px 2px rgba(60, 64, 67, 0.3), 0px 1px 3px 1px rgba(60, 64, 67, 0.15);\n",
              "      fill: #174EA6;\n",
              "    }\n",
              "\n",
              "    .colab-df-buttons div {\n",
              "      margin-bottom: 4px;\n",
              "    }\n",
              "\n",
              "    [theme=dark] .colab-df-convert {\n",
              "      background-color: #3B4455;\n",
              "      fill: #D2E3FC;\n",
              "    }\n",
              "\n",
              "    [theme=dark] .colab-df-convert:hover {\n",
              "      background-color: #434B5C;\n",
              "      box-shadow: 0px 1px 3px 1px rgba(0, 0, 0, 0.15);\n",
              "      filter: drop-shadow(0px 1px 2px rgba(0, 0, 0, 0.3));\n",
              "      fill: #FFFFFF;\n",
              "    }\n",
              "  </style>\n",
              "\n",
              "    <script>\n",
              "      const buttonEl =\n",
              "        document.querySelector('#df-25f1d7dc-4c31-4613-9347-8882aef1ee7d button.colab-df-convert');\n",
              "      buttonEl.style.display =\n",
              "        google.colab.kernel.accessAllowed ? 'block' : 'none';\n",
              "\n",
              "      async function convertToInteractive(key) {\n",
              "        const element = document.querySelector('#df-25f1d7dc-4c31-4613-9347-8882aef1ee7d');\n",
              "        const dataTable =\n",
              "          await google.colab.kernel.invokeFunction('convertToInteractive',\n",
              "                                                    [key], {});\n",
              "        if (!dataTable) return;\n",
              "\n",
              "        const docLinkHtml = 'Like what you see? Visit the ' +\n",
              "          '<a target=\"_blank\" href=https://colab.research.google.com/notebooks/data_table.ipynb>data table notebook</a>'\n",
              "          + ' to learn more about interactive tables.';\n",
              "        element.innerHTML = '';\n",
              "        dataTable['output_type'] = 'display_data';\n",
              "        await google.colab.output.renderOutput(dataTable, element);\n",
              "        const docLink = document.createElement('div');\n",
              "        docLink.innerHTML = docLinkHtml;\n",
              "        element.appendChild(docLink);\n",
              "      }\n",
              "    </script>\n",
              "  </div>\n",
              "\n",
              "\n",
              "<div id=\"df-a991b6d1-f5d1-43fc-a440-4bd643756eca\">\n",
              "  <button class=\"colab-df-quickchart\" onclick=\"quickchart('df-a991b6d1-f5d1-43fc-a440-4bd643756eca')\"\n",
              "            title=\"Suggest charts\"\n",
              "            style=\"display:none;\">\n",
              "\n",
              "<svg xmlns=\"http://www.w3.org/2000/svg\" height=\"24px\"viewBox=\"0 0 24 24\"\n",
              "     width=\"24px\">\n",
              "    <g>\n",
              "        <path d=\"M19 3H5c-1.1 0-2 .9-2 2v14c0 1.1.9 2 2 2h14c1.1 0 2-.9 2-2V5c0-1.1-.9-2-2-2zM9 17H7v-7h2v7zm4 0h-2V7h2v10zm4 0h-2v-4h2v4z\"/>\n",
              "    </g>\n",
              "</svg>\n",
              "  </button>\n",
              "\n",
              "<style>\n",
              "  .colab-df-quickchart {\n",
              "      --bg-color: #E8F0FE;\n",
              "      --fill-color: #1967D2;\n",
              "      --hover-bg-color: #E2EBFA;\n",
              "      --hover-fill-color: #174EA6;\n",
              "      --disabled-fill-color: #AAA;\n",
              "      --disabled-bg-color: #DDD;\n",
              "  }\n",
              "\n",
              "  [theme=dark] .colab-df-quickchart {\n",
              "      --bg-color: #3B4455;\n",
              "      --fill-color: #D2E3FC;\n",
              "      --hover-bg-color: #434B5C;\n",
              "      --hover-fill-color: #FFFFFF;\n",
              "      --disabled-bg-color: #3B4455;\n",
              "      --disabled-fill-color: #666;\n",
              "  }\n",
              "\n",
              "  .colab-df-quickchart {\n",
              "    background-color: var(--bg-color);\n",
              "    border: none;\n",
              "    border-radius: 50%;\n",
              "    cursor: pointer;\n",
              "    display: none;\n",
              "    fill: var(--fill-color);\n",
              "    height: 32px;\n",
              "    padding: 0;\n",
              "    width: 32px;\n",
              "  }\n",
              "\n",
              "  .colab-df-quickchart:hover {\n",
              "    background-color: var(--hover-bg-color);\n",
              "    box-shadow: 0 1px 2px rgba(60, 64, 67, 0.3), 0 1px 3px 1px rgba(60, 64, 67, 0.15);\n",
              "    fill: var(--button-hover-fill-color);\n",
              "  }\n",
              "\n",
              "  .colab-df-quickchart-complete:disabled,\n",
              "  .colab-df-quickchart-complete:disabled:hover {\n",
              "    background-color: var(--disabled-bg-color);\n",
              "    fill: var(--disabled-fill-color);\n",
              "    box-shadow: none;\n",
              "  }\n",
              "\n",
              "  .colab-df-spinner {\n",
              "    border: 2px solid var(--fill-color);\n",
              "    border-color: transparent;\n",
              "    border-bottom-color: var(--fill-color);\n",
              "    animation:\n",
              "      spin 1s steps(1) infinite;\n",
              "  }\n",
              "\n",
              "  @keyframes spin {\n",
              "    0% {\n",
              "      border-color: transparent;\n",
              "      border-bottom-color: var(--fill-color);\n",
              "      border-left-color: var(--fill-color);\n",
              "    }\n",
              "    20% {\n",
              "      border-color: transparent;\n",
              "      border-left-color: var(--fill-color);\n",
              "      border-top-color: var(--fill-color);\n",
              "    }\n",
              "    30% {\n",
              "      border-color: transparent;\n",
              "      border-left-color: var(--fill-color);\n",
              "      border-top-color: var(--fill-color);\n",
              "      border-right-color: var(--fill-color);\n",
              "    }\n",
              "    40% {\n",
              "      border-color: transparent;\n",
              "      border-right-color: var(--fill-color);\n",
              "      border-top-color: var(--fill-color);\n",
              "    }\n",
              "    60% {\n",
              "      border-color: transparent;\n",
              "      border-right-color: var(--fill-color);\n",
              "    }\n",
              "    80% {\n",
              "      border-color: transparent;\n",
              "      border-right-color: var(--fill-color);\n",
              "      border-bottom-color: var(--fill-color);\n",
              "    }\n",
              "    90% {\n",
              "      border-color: transparent;\n",
              "      border-bottom-color: var(--fill-color);\n",
              "    }\n",
              "  }\n",
              "</style>\n",
              "\n",
              "  <script>\n",
              "    async function quickchart(key) {\n",
              "      const quickchartButtonEl =\n",
              "        document.querySelector('#' + key + ' button');\n",
              "      quickchartButtonEl.disabled = true;  // To prevent multiple clicks.\n",
              "      quickchartButtonEl.classList.add('colab-df-spinner');\n",
              "      try {\n",
              "        const charts = await google.colab.kernel.invokeFunction(\n",
              "            'suggestCharts', [key], {});\n",
              "      } catch (error) {\n",
              "        console.error('Error during call to suggestCharts:', error);\n",
              "      }\n",
              "      quickchartButtonEl.classList.remove('colab-df-spinner');\n",
              "      quickchartButtonEl.classList.add('colab-df-quickchart-complete');\n",
              "    }\n",
              "    (() => {\n",
              "      let quickchartButtonEl =\n",
              "        document.querySelector('#df-a991b6d1-f5d1-43fc-a440-4bd643756eca button');\n",
              "      quickchartButtonEl.style.display =\n",
              "        google.colab.kernel.accessAllowed ? 'block' : 'none';\n",
              "    })();\n",
              "  </script>\n",
              "</div>\n",
              "    </div>\n",
              "  </div>\n"
            ]
          },
          "metadata": {},
          "execution_count": 5
        }
      ]
    },
    {
      "cell_type": "code",
      "source": [
        "col = list(data)[0:3]"
      ],
      "metadata": {
        "id": "Uie83i2xLdNM"
      },
      "execution_count": null,
      "outputs": []
    },
    {
      "cell_type": "code",
      "source": [
        "data_training = data[col].astype(float)"
      ],
      "metadata": {
        "id": "ilqQsaFTe8Mg"
      },
      "execution_count": null,
      "outputs": []
    },
    {
      "cell_type": "code",
      "source": [
        "data_training.isna().sum()"
      ],
      "metadata": {
        "id": "yJPq-IUyG1W-",
        "colab": {
          "base_uri": "https://localhost:8080/"
        },
        "outputId": "b99d4149-3e15-4e0f-e121-55d1769b9cfa"
      },
      "execution_count": null,
      "outputs": [
        {
          "output_type": "execute_result",
          "data": {
            "text/plain": [
              "total_visitor         0\n",
              "total_accomodation    0\n",
              "dtype: int64"
            ]
          },
          "metadata": {},
          "execution_count": 8
        }
      ]
    },
    {
      "cell_type": "code",
      "source": [
        "scaler = StandardScaler()\n",
        "scaler = scaler.fit(data_training)\n",
        "scaled_data_train = scaler.transform(data_training)"
      ],
      "metadata": {
        "id": "Df91c2IXKmcb"
      },
      "execution_count": null,
      "outputs": []
    },
    {
      "cell_type": "code",
      "source": [
        "scaled_data_train"
      ],
      "metadata": {
        "colab": {
          "base_uri": "https://localhost:8080/"
        },
        "id": "h_ZgH6hfGKBA",
        "outputId": "7fde20fd-202f-4efd-fcbe-c1bb7aecc440"
      },
      "execution_count": null,
      "outputs": [
        {
          "output_type": "execute_result",
          "data": {
            "text/plain": [
              "array([[ 4.61138731e-01, -1.59836885e+00],\n",
              "       [ 3.79450936e-01, -1.55219148e+00],\n",
              "       [ 5.86383470e-01, -1.53195511e+00],\n",
              "       [ 3.85401400e-01, -1.50163057e+00],\n",
              "       [ 4.34908809e-01, -1.49082183e+00],\n",
              "       [ 6.99761478e-01, -1.48061357e+00],\n",
              "       [ 2.43376807e-01, -1.46265904e+00],\n",
              "       [ 8.19933503e-01, -1.44584544e+00],\n",
              "       [ 3.09595674e-01, -1.43203426e+00],\n",
              "       [ 3.58487518e-01, -1.42122552e+00],\n",
              "       [ 3.91921833e-01, -1.38843899e+00],\n",
              "       [ 4.98540022e-01, -1.36417936e+00],\n",
              "       [ 2.50341814e-01, -1.33643691e+00],\n",
              "       [ 2.91368102e-01, -1.32418700e+00],\n",
              "       [ 6.33987186e-01, -1.27218492e+00],\n",
              "       [ 1.62498367e-01, -1.23363373e+00],\n",
              "       [ 4.85738544e-01, -1.21988260e+00],\n",
              "       [ 3.07042218e-01, -1.20132759e+00],\n",
              "       [ 3.10758408e-01, -1.15268823e+00],\n",
              "       [ 1.21234498e+00, -1.13617487e+00],\n",
              "       [ 7.45860479e-01, -1.11539806e+00],\n",
              "       [ 5.79999830e-01, -1.09570212e+00],\n",
              "       [ 8.03985802e-01, -1.08117037e+00],\n",
              "       [ 4.45350621e-01, -1.04778335e+00],\n",
              "       [ 7.20900636e-02, -1.03331164e+00],\n",
              "       [ 2.16234937e-01, -1.01926027e+00],\n",
              "       [ 6.40917995e-01, -1.00622973e+00],\n",
              "       [ 4.69380466e-01, -9.53567118e-01],\n",
              "       [ 4.63316008e-01, -9.32369967e-01],\n",
              "       [ 4.28849101e-02, -8.97661883e-01],\n",
              "       [ 7.93065218e-01, -8.50343596e-01],\n",
              "       [ 1.41005543e+00, -8.02364775e-01],\n",
              "       [ 9.38429823e-01, -7.52584496e-01],\n",
              "       [ 1.03099260e+00, -7.20038162e-01],\n",
              "       [ 8.29121385e-01, -7.06407133e-01],\n",
              "       [ 8.59181491e-01, -6.77163471e-01],\n",
              "       [ 4.69927635e-01, -6.26362366e-01],\n",
              "       [ 4.20340431e-01, -6.04264486e-01],\n",
              "       [ 7.87194549e-01, -5.55625130e-01],\n",
              "       [ 7.31155308e-01, -5.27522391e-01],\n",
              "       [ 6.61516634e-01, -4.88190566e-01],\n",
              "       [ 1.11360850e-01, -4.35047567e-01],\n",
              "       [ 1.51804155e+00, -3.98958366e-01],\n",
              "       [ 1.52524594e+00, -3.58365521e-01],\n",
              "       [ 8.24071470e-01, -3.04201695e-01],\n",
              "       [ 7.80833707e-01, -2.54121173e-01],\n",
              "       [ 8.15225569e-01, -2.08604344e-01],\n",
              "       [ 7.85632837e-01, -1.62006640e-01],\n",
              "       [ 6.65939585e-01, -1.42190607e-01],\n",
              "       [ 5.79703446e-01, -1.08383252e-01],\n",
              "       [ 1.04928857e+00, -5.40392805e-02],\n",
              "       [ 8.13960240e-01, -4.15892067e-04],\n",
              "       [ 4.30565654e-01,  2.91280129e-02],\n",
              "       [ 3.46301605e-01,  6.34157562e-02],\n",
              "       [ 7.87319942e-01,  7.71668827e-02],\n",
              "       [ 1.77696655e+00,  9.81238396e-02],\n",
              "       [ 1.11276019e+00,  1.27907939e-01],\n",
              "       [ 1.05271978e+00,  1.40578191e-01],\n",
              "       [ 6.19453005e-01,  1.83332785e-01],\n",
              "       [ 8.26590728e-01,  2.35935347e-01],\n",
              "       [ 2.57569007e-01,  2.54730555e-01],\n",
              "       [ 4.98505824e-01,  2.77969359e-01],\n",
              "       [ 7.04503611e-01,  3.03610105e-01],\n",
              "       [ 5.07819099e-01,  3.34234885e-01],\n",
              "       [ 4.82426081e-02,  3.52129364e-01],\n",
              "       [ 4.28114792e-01,  3.67441754e-01],\n",
              "       [ 1.31028826e+00,  4.16861741e-01],\n",
              "       [ 1.13131835e+00,  4.68743720e-01],\n",
              "       [ 6.77031159e-01,  5.05133164e-01],\n",
              "       [ 4.20203638e-01,  5.21286234e-01],\n",
              "       [ 3.55706074e-01,  5.52031111e-01],\n",
              "       [ 3.90382920e-01,  5.81394870e-01],\n",
              "       [ 2.39957000e-01,  6.26311213e-01],\n",
              "       [-2.43113566e-01,  6.47208122e-01],\n",
              "       [-1.13814551e+00,  6.87260529e-01],\n",
              "       [-1.73429770e+00,  7.13922102e-01],\n",
              "       [-1.73441169e+00,  7.55415676e-01],\n",
              "       [-1.72859802e+00,  7.97870027e-01],\n",
              "       [-1.70326865e+00,  8.31797479e-01],\n",
              "       [-1.68798211e+00,  8.72750615e-01],\n",
              "       [-1.65331666e+00,  8.96830099e-01],\n",
              "       [-1.61910719e+00,  9.18087299e-01],\n",
              "       [-1.57537926e+00,  9.57118881e-01],\n",
              "       [-1.48996387e+00,  9.99212940e-01],\n",
              "       [-1.72490463e+00,  1.01560620e+00],\n",
              "       [-1.67112246e+00,  1.04539030e+00],\n",
              "       [-1.62288038e+00,  1.05842085e+00],\n",
              "       [-1.56264618e+00,  1.10892171e+00],\n",
              "       [-1.59342444e+00,  1.13396197e+00],\n",
              "       [-1.58543349e+00,  1.14963465e+00],\n",
              "       [-1.67676514e+00,  1.19863430e+00],\n",
              "       [-1.72692232e+00,  1.21316606e+00],\n",
              "       [-1.69199468e+00,  1.22667699e+00],\n",
              "       [-1.58260645e+00,  1.24102860e+00],\n",
              "       [-1.52201887e+00,  1.26090468e+00],\n",
              "       [-1.54820319e+00,  1.30281860e+00],\n",
              "       [-1.57852548e+00,  1.32857944e+00],\n",
              "       [-1.56351253e+00,  1.34707441e+00],\n",
              "       [-1.47329801e+00,  1.36941248e+00],\n",
              "       [-1.32805880e+00,  1.40754333e+00],\n",
              "       [-1.07974660e+00,  1.44825628e+00],\n",
              "       [-7.63494229e-01,  1.46639095e+00],\n",
              "       [-3.80361829e-01,  1.50986613e+00],\n",
              "       [-3.54815869e-01,  1.53838921e+00],\n",
              "       [-4.72217850e-01,  1.58720871e+00],\n",
              "       [-4.55700182e-01,  1.60186056e+00],\n",
              "       [-4.40083062e-01,  1.61489111e+00],\n",
              "       [-3.19284072e-01,  1.69655718e+00]])"
            ]
          },
          "metadata": {},
          "execution_count": 10
        }
      ]
    },
    {
      "cell_type": "code",
      "source": [
        "len(scaled_data_train)"
      ],
      "metadata": {
        "colab": {
          "base_uri": "https://localhost:8080/"
        },
        "id": "tpEStSzbK4Tj",
        "outputId": "8c153bf7-c219-4e1b-8121-af939e0d4862"
      },
      "execution_count": null,
      "outputs": [
        {
          "output_type": "execute_result",
          "data": {
            "text/plain": [
              "108"
            ]
          },
          "metadata": {},
          "execution_count": 11
        }
      ]
    },
    {
      "cell_type": "markdown",
      "source": [
        "# Scenario 1- 80%train : 20%test"
      ],
      "metadata": {
        "id": "rML8971tnAvm"
      }
    },
    {
      "cell_type": "code",
      "source": [
        "# Define sequence length and features\n",
        "sequence_length = 12  # Number of time steps in each sequence\n",
        "\n",
        "# Create sequences and corresponding labels\n",
        "sequences = []\n",
        "labels = []\n",
        "\n",
        "for i in range(len(scaled_data_train) - sequence_length):\n",
        "    seq = scaled_data_train[i:i+sequence_length]\n",
        "    label = scaled_data_train[i+sequence_length][1]\n",
        "    sequences.append(seq)\n",
        "    labels.append(label)\n",
        "\n",
        "# Convert to numpy arrays\n",
        "sequences = np.array(sequences)\n",
        "labels = np.array(labels)\n",
        "\n",
        "# Split the data into training and testing setsS\n",
        "X_train, X_test, Y_train, Y_test = train_test_split(sequences, labels, test_size=0.2, random_state=42)\n",
        "\n",
        "print(\"Train X shape:\", X_train.shape)\n",
        "print(\"Train Y shape:\", Y_train.shape)\n",
        "print(\"Test X shape:\", X_test.shape)\n",
        "print(\"Test Y shape:\", Y_test.shape)\n"
      ],
      "metadata": {
        "colab": {
          "base_uri": "https://localhost:8080/"
        },
        "id": "yP40NXvQM1HC",
        "outputId": "32430b4a-33d1-4d5b-e5d8-a15833c162c5"
      },
      "execution_count": null,
      "outputs": [
        {
          "output_type": "stream",
          "name": "stdout",
          "text": [
            "Train X shape: (76, 12, 2)\n",
            "Train Y shape: (76,)\n",
            "Test X shape: (20, 12, 2)\n",
            "Test Y shape: (20,)\n"
          ]
        }
      ]
    },
    {
      "cell_type": "code",
      "source": [
        "X_train"
      ],
      "metadata": {
        "colab": {
          "base_uri": "https://localhost:8080/"
        },
        "id": "kAbcMkOkM6Yr",
        "outputId": "ffd6e332-06be-4ade-97b8-e3e7636913aa"
      },
      "execution_count": null,
      "outputs": [
        {
          "output_type": "execute_result",
          "data": {
            "text/plain": [
              "array([[[ 6.61516634e-01, -4.88190566e-01],\n",
              "        [ 1.11360850e-01, -4.35047567e-01],\n",
              "        [ 1.51804155e+00, -3.98958366e-01],\n",
              "        ...,\n",
              "        [ 5.79703446e-01, -1.08383252e-01],\n",
              "        [ 1.04928857e+00, -5.40392805e-02],\n",
              "        [ 8.13960240e-01, -4.15892067e-04]],\n",
              "\n",
              "       [[ 1.13131835e+00,  4.68743720e-01],\n",
              "        [ 6.77031159e-01,  5.05133164e-01],\n",
              "        [ 4.20203638e-01,  5.21286234e-01],\n",
              "        ...,\n",
              "        [-1.73441169e+00,  7.55415676e-01],\n",
              "        [-1.72859802e+00,  7.97870027e-01],\n",
              "        [-1.70326865e+00,  8.31797479e-01]],\n",
              "\n",
              "       [[ 1.62498367e-01, -1.23363373e+00],\n",
              "        [ 4.85738544e-01, -1.21988260e+00],\n",
              "        [ 3.07042218e-01, -1.20132759e+00],\n",
              "        ...,\n",
              "        [ 7.20900636e-02, -1.03331164e+00],\n",
              "        [ 2.16234937e-01, -1.01926027e+00],\n",
              "        [ 6.40917995e-01, -1.00622973e+00]],\n",
              "\n",
              "       ...,\n",
              "\n",
              "       [[ 6.33987186e-01, -1.27218492e+00],\n",
              "        [ 1.62498367e-01, -1.23363373e+00],\n",
              "        [ 4.85738544e-01, -1.21988260e+00],\n",
              "        ...,\n",
              "        [ 4.45350621e-01, -1.04778335e+00],\n",
              "        [ 7.20900636e-02, -1.03331164e+00],\n",
              "        [ 2.16234937e-01, -1.01926027e+00]],\n",
              "\n",
              "       [[-1.69199468e+00,  1.22667699e+00],\n",
              "        [-1.58260645e+00,  1.24102860e+00],\n",
              "        [-1.52201887e+00,  1.26090468e+00],\n",
              "        ...,\n",
              "        [-7.63494229e-01,  1.46639095e+00],\n",
              "        [-3.80361829e-01,  1.50986613e+00],\n",
              "        [-3.54815869e-01,  1.53838921e+00]],\n",
              "\n",
              "       [[ 8.13960240e-01, -4.15892067e-04],\n",
              "        [ 4.30565654e-01,  2.91280129e-02],\n",
              "        [ 3.46301605e-01,  6.34157562e-02],\n",
              "        ...,\n",
              "        [ 2.57569007e-01,  2.54730555e-01],\n",
              "        [ 4.98505824e-01,  2.77969359e-01],\n",
              "        [ 7.04503611e-01,  3.03610105e-01]]])"
            ]
          },
          "metadata": {},
          "execution_count": 13
        }
      ]
    },
    {
      "cell_type": "code",
      "source": [
        "Y_train"
      ],
      "metadata": {
        "colab": {
          "base_uri": "https://localhost:8080/"
        },
        "id": "U0UEGCcHMhEQ",
        "outputId": "868d741c-578e-42dc-e8a5-e197ad0ddb3a"
      },
      "execution_count": null,
      "outputs": [
        {
          "output_type": "execute_result",
          "data": {
            "text/plain": [
              "array([ 2.91280129e-02,  8.72750615e-01, -9.53567118e-01,  8.96830099e-01,\n",
              "        1.44825628e+00, -1.09570212e+00, -4.15892067e-04, -1.04778335e+00,\n",
              "        1.40578191e-01,  4.68743720e-01, -4.88190566e-01,  1.01560620e+00,\n",
              "        9.57118881e-01, -1.20132759e+00,  1.27907939e-01,  2.77969359e-01,\n",
              "       -1.62006640e-01, -9.32369967e-01,  2.35935347e-01, -2.08604344e-01,\n",
              "       -1.13617487e+00,  1.53838921e+00, -5.27522391e-01, -8.02364775e-01,\n",
              "        1.19863430e+00, -6.04264486e-01,  1.46639095e+00, -1.01926027e+00,\n",
              "       -6.26362366e-01, -1.23363373e+00, -8.97661883e-01, -5.40392805e-02,\n",
              "       -1.11539806e+00,  1.10892171e+00, -1.15268823e+00,  6.87260529e-01,\n",
              "       -1.42190607e-01,  1.32857944e+00,  5.05133164e-01,  1.69655718e+00,\n",
              "        4.16861741e-01,  9.81238396e-02,  3.03610105e-01,  7.97870027e-01,\n",
              "        1.83332785e-01,  8.31797479e-01,  6.47208122e-01,  1.60186056e+00,\n",
              "        1.13396197e+00,  6.34157562e-02,  5.52031111e-01,  2.54730555e-01,\n",
              "        1.30281860e+00,  5.21286234e-01, -3.04201695e-01,  1.50986613e+00,\n",
              "        5.81394870e-01,  7.13922102e-01,  1.24102860e+00, -1.08383252e-01,\n",
              "       -4.35047567e-01, -1.32418700e+00,  3.52129364e-01, -7.20038162e-01,\n",
              "       -1.27218492e+00, -6.77163471e-01,  1.40754333e+00,  1.05842085e+00,\n",
              "        1.36941248e+00,  1.26090468e+00, -7.52584496e-01,  6.26311213e-01,\n",
              "        9.99212940e-01, -1.00622973e+00,  1.58720871e+00,  3.34234885e-01])"
            ]
          },
          "metadata": {},
          "execution_count": 14
        }
      ]
    },
    {
      "cell_type": "code",
      "source": [
        "#Create the RNN model\n",
        "model = Sequential()\n",
        "\n",
        "#Add RNN layers with dropout\n",
        "model.add(SimpleRNN(60,activation=\"tanh\",return_sequences=True, input_shape=(X_train.shape[1], X_train.shape[2]))) # Unit = 12,24,36,48 (Bebas)\n",
        "model.add(SimpleRNN(48,activation=\"tanh\",return_sequences=True))\n",
        "model.add(SimpleRNN(48,activation=\"tanh\",return_sequences=False))\n",
        "model.add(Dense(1))\n",
        "\n",
        "model.compile(optimizer=\"adam\",loss=\"MSE\")\n",
        "model.summary()"
      ],
      "metadata": {
        "colab": {
          "base_uri": "https://localhost:8080/"
        },
        "id": "ZH7FkySNx4Sj",
        "outputId": "09d199c2-28bb-4959-e6a2-6656413c271b"
      },
      "execution_count": null,
      "outputs": [
        {
          "output_type": "stream",
          "name": "stdout",
          "text": [
            "Model: \"sequential\"\n",
            "_________________________________________________________________\n",
            " Layer (type)                Output Shape              Param #   \n",
            "=================================================================\n",
            " simple_rnn (SimpleRNN)      (None, 12, 60)            3780      \n",
            "                                                                 \n",
            " simple_rnn_1 (SimpleRNN)    (None, 12, 48)            5232      \n",
            "                                                                 \n",
            " simple_rnn_2 (SimpleRNN)    (None, 48)                4656      \n",
            "                                                                 \n",
            " dense (Dense)               (None, 1)                 49        \n",
            "                                                                 \n",
            "=================================================================\n",
            "Total params: 13717 (53.58 KB)\n",
            "Trainable params: 13717 (53.58 KB)\n",
            "Non-trainable params: 0 (0.00 Byte)\n",
            "_________________________________________________________________\n"
          ]
        }
      ]
    },
    {
      "cell_type": "code",
      "source": [
        "# Define callbacks\n",
        "early_stopping = EarlyStopping(monitor='val_loss', patience=15, restore_best_weights=True)\n",
        "\n",
        "history = model.fit(X_train, Y_train, epochs =100, batch_size = 12, validation_split=0.2,  # Use part of the training data as validation\n",
        "    callbacks=[early_stopping])"
      ],
      "metadata": {
        "colab": {
          "base_uri": "https://localhost:8080/"
        },
        "id": "uxYiZd_9zP1r",
        "outputId": "ba491456-4758-45bc-b6a8-abd62cd0d03f"
      },
      "execution_count": null,
      "outputs": [
        {
          "output_type": "stream",
          "name": "stdout",
          "text": [
            "Epoch 1/100\n",
            "5/5 [==============================] - 4s 186ms/step - loss: 0.8827 - val_loss: 0.2674\n",
            "Epoch 2/100\n",
            "5/5 [==============================] - 0s 25ms/step - loss: 0.1758 - val_loss: 0.1108\n",
            "Epoch 3/100\n",
            "5/5 [==============================] - 0s 29ms/step - loss: 0.0703 - val_loss: 0.0398\n",
            "Epoch 4/100\n",
            "5/5 [==============================] - 0s 28ms/step - loss: 0.0368 - val_loss: 0.0201\n",
            "Epoch 5/100\n",
            "5/5 [==============================] - 0s 28ms/step - loss: 0.0136 - val_loss: 0.0099\n",
            "Epoch 6/100\n",
            "5/5 [==============================] - 0s 29ms/step - loss: 0.0103 - val_loss: 0.0121\n",
            "Epoch 7/100\n",
            "5/5 [==============================] - 0s 27ms/step - loss: 0.0092 - val_loss: 0.0076\n",
            "Epoch 8/100\n",
            "5/5 [==============================] - 0s 26ms/step - loss: 0.0057 - val_loss: 0.0099\n",
            "Epoch 9/100\n",
            "5/5 [==============================] - 0s 30ms/step - loss: 0.0040 - val_loss: 0.0062\n",
            "Epoch 10/100\n",
            "5/5 [==============================] - 0s 30ms/step - loss: 0.0037 - val_loss: 0.0037\n",
            "Epoch 11/100\n",
            "5/5 [==============================] - 0s 28ms/step - loss: 0.0034 - val_loss: 0.0034\n",
            "Epoch 12/100\n",
            "5/5 [==============================] - 0s 27ms/step - loss: 0.0026 - val_loss: 0.0036\n",
            "Epoch 13/100\n",
            "5/5 [==============================] - 0s 30ms/step - loss: 0.0023 - val_loss: 0.0033\n",
            "Epoch 14/100\n",
            "5/5 [==============================] - 0s 28ms/step - loss: 0.0019 - val_loss: 0.0028\n",
            "Epoch 15/100\n",
            "5/5 [==============================] - 0s 26ms/step - loss: 0.0018 - val_loss: 0.0031\n",
            "Epoch 16/100\n",
            "5/5 [==============================] - 0s 28ms/step - loss: 0.0016 - val_loss: 0.0026\n",
            "Epoch 17/100\n",
            "5/5 [==============================] - 0s 25ms/step - loss: 0.0014 - val_loss: 0.0019\n",
            "Epoch 18/100\n",
            "5/5 [==============================] - 0s 29ms/step - loss: 0.0014 - val_loss: 0.0019\n",
            "Epoch 19/100\n",
            "5/5 [==============================] - 0s 32ms/step - loss: 0.0014 - val_loss: 0.0026\n",
            "Epoch 20/100\n",
            "5/5 [==============================] - 0s 37ms/step - loss: 0.0012 - val_loss: 0.0019\n",
            "Epoch 21/100\n",
            "5/5 [==============================] - 0s 26ms/step - loss: 0.0011 - val_loss: 0.0021\n",
            "Epoch 22/100\n",
            "5/5 [==============================] - 0s 30ms/step - loss: 0.0011 - val_loss: 0.0019\n",
            "Epoch 23/100\n",
            "5/5 [==============================] - 0s 31ms/step - loss: 0.0010 - val_loss: 0.0017\n",
            "Epoch 24/100\n",
            "5/5 [==============================] - 0s 29ms/step - loss: 0.0011 - val_loss: 0.0016\n",
            "Epoch 25/100\n",
            "5/5 [==============================] - 0s 20ms/step - loss: 0.0010 - val_loss: 0.0017\n",
            "Epoch 26/100\n",
            "5/5 [==============================] - 0s 18ms/step - loss: 7.9422e-04 - val_loss: 0.0014\n",
            "Epoch 27/100\n",
            "5/5 [==============================] - 0s 20ms/step - loss: 8.9554e-04 - val_loss: 0.0014\n",
            "Epoch 28/100\n",
            "5/5 [==============================] - 0s 17ms/step - loss: 8.0201e-04 - val_loss: 0.0019\n",
            "Epoch 29/100\n",
            "5/5 [==============================] - 0s 21ms/step - loss: 7.5239e-04 - val_loss: 0.0015\n",
            "Epoch 30/100\n",
            "5/5 [==============================] - 0s 16ms/step - loss: 7.9381e-04 - val_loss: 0.0018\n",
            "Epoch 31/100\n",
            "5/5 [==============================] - 0s 16ms/step - loss: 7.4619e-04 - val_loss: 0.0017\n",
            "Epoch 32/100\n",
            "5/5 [==============================] - 0s 20ms/step - loss: 8.7003e-04 - val_loss: 0.0019\n",
            "Epoch 33/100\n",
            "5/5 [==============================] - 0s 17ms/step - loss: 9.3214e-04 - val_loss: 0.0014\n",
            "Epoch 34/100\n",
            "5/5 [==============================] - 0s 20ms/step - loss: 6.4693e-04 - val_loss: 0.0015\n",
            "Epoch 35/100\n",
            "5/5 [==============================] - 0s 20ms/step - loss: 5.2245e-04 - val_loss: 0.0014\n",
            "Epoch 36/100\n",
            "5/5 [==============================] - 0s 20ms/step - loss: 5.4827e-04 - val_loss: 0.0014\n",
            "Epoch 37/100\n",
            "5/5 [==============================] - 0s 20ms/step - loss: 6.6319e-04 - val_loss: 0.0016\n",
            "Epoch 38/100\n",
            "5/5 [==============================] - 0s 20ms/step - loss: 5.1072e-04 - val_loss: 0.0013\n",
            "Epoch 39/100\n",
            "5/5 [==============================] - 0s 16ms/step - loss: 4.8847e-04 - val_loss: 0.0014\n",
            "Epoch 40/100\n",
            "5/5 [==============================] - 0s 18ms/step - loss: 4.5548e-04 - val_loss: 0.0014\n",
            "Epoch 41/100\n",
            "5/5 [==============================] - 0s 16ms/step - loss: 4.3970e-04 - val_loss: 0.0013\n",
            "Epoch 42/100\n",
            "5/5 [==============================] - 0s 21ms/step - loss: 4.2629e-04 - val_loss: 0.0013\n",
            "Epoch 43/100\n",
            "5/5 [==============================] - 0s 21ms/step - loss: 4.3044e-04 - val_loss: 0.0012\n",
            "Epoch 44/100\n",
            "5/5 [==============================] - 0s 17ms/step - loss: 4.2843e-04 - val_loss: 0.0015\n",
            "Epoch 45/100\n",
            "5/5 [==============================] - 0s 21ms/step - loss: 4.0323e-04 - val_loss: 0.0012\n",
            "Epoch 46/100\n",
            "5/5 [==============================] - 0s 16ms/step - loss: 4.2183e-04 - val_loss: 0.0016\n",
            "Epoch 47/100\n",
            "5/5 [==============================] - 0s 16ms/step - loss: 3.8924e-04 - val_loss: 0.0012\n",
            "Epoch 48/100\n",
            "5/5 [==============================] - 0s 19ms/step - loss: 4.4482e-04 - val_loss: 0.0014\n",
            "Epoch 49/100\n",
            "5/5 [==============================] - 0s 19ms/step - loss: 3.9524e-04 - val_loss: 0.0017\n",
            "Epoch 50/100\n",
            "5/5 [==============================] - 0s 20ms/step - loss: 4.2674e-04 - val_loss: 0.0013\n",
            "Epoch 51/100\n",
            "5/5 [==============================] - 0s 16ms/step - loss: 5.3709e-04 - val_loss: 0.0016\n",
            "Epoch 52/100\n",
            "5/5 [==============================] - 0s 21ms/step - loss: 3.4855e-04 - val_loss: 0.0013\n",
            "Epoch 53/100\n",
            "5/5 [==============================] - 0s 19ms/step - loss: 3.2151e-04 - val_loss: 0.0013\n",
            "Epoch 54/100\n",
            "5/5 [==============================] - 0s 16ms/step - loss: 3.0615e-04 - val_loss: 0.0015\n",
            "Epoch 55/100\n",
            "5/5 [==============================] - 0s 17ms/step - loss: 3.2866e-04 - val_loss: 0.0012\n",
            "Epoch 56/100\n",
            "5/5 [==============================] - 0s 20ms/step - loss: 3.4097e-04 - val_loss: 0.0016\n",
            "Epoch 57/100\n",
            "5/5 [==============================] - 0s 20ms/step - loss: 2.8384e-04 - val_loss: 0.0012\n",
            "Epoch 58/100\n",
            "5/5 [==============================] - 0s 16ms/step - loss: 2.6053e-04 - val_loss: 0.0015\n",
            "Epoch 59/100\n",
            "5/5 [==============================] - 0s 16ms/step - loss: 2.5111e-04 - val_loss: 0.0013\n",
            "Epoch 60/100\n",
            "5/5 [==============================] - 0s 23ms/step - loss: 4.0583e-04 - val_loss: 0.0015\n"
          ]
        }
      ]
    },
    {
      "cell_type": "code",
      "source": [
        "# Extract epoch information\n",
        "epoch_info = pd.DataFrame({\n",
        "    'Epoch': list(range(1, len(history.history['loss']) + 1)),\n",
        "    'Loss': history.history['loss'],\n",
        "    'Validation Loss': history.history['val_loss']\n",
        "})\n",
        "\n",
        "# Display the epoch information table\n",
        "print(\"Epoch Information Table:\")\n",
        "print(epoch_info.to_markdown(index=False))\n"
      ],
      "metadata": {
        "colab": {
          "base_uri": "https://localhost:8080/"
        },
        "id": "q4rOwis7F_Xd",
        "outputId": "b8db86fb-a2e7-44cb-be5c-b0c96b5e8256"
      },
      "execution_count": null,
      "outputs": [
        {
          "output_type": "stream",
          "name": "stdout",
          "text": [
            "Epoch Information Table:\n",
            "|   Epoch |        Loss |   Validation Loss |\n",
            "|--------:|------------:|------------------:|\n",
            "|       1 | 0.882652    |        0.26739    |\n",
            "|       2 | 0.175844    |        0.110758   |\n",
            "|       3 | 0.0702864   |        0.0398261  |\n",
            "|       4 | 0.0368034   |        0.0201128  |\n",
            "|       5 | 0.0135893   |        0.0099038  |\n",
            "|       6 | 0.0103082   |        0.0120892  |\n",
            "|       7 | 0.00923362  |        0.00757201 |\n",
            "|       8 | 0.00569496  |        0.00990589 |\n",
            "|       9 | 0.00402697  |        0.00615652 |\n",
            "|      10 | 0.00371785  |        0.00369676 |\n",
            "|      11 | 0.00343845  |        0.00339935 |\n",
            "|      12 | 0.00263263  |        0.0035567  |\n",
            "|      13 | 0.00231589  |        0.00325337 |\n",
            "|      14 | 0.00186096  |        0.0027508  |\n",
            "|      15 | 0.00182931  |        0.00312381 |\n",
            "|      16 | 0.0016165   |        0.00261743 |\n",
            "|      17 | 0.00143833  |        0.00191421 |\n",
            "|      18 | 0.00142473  |        0.00194226 |\n",
            "|      19 | 0.00137742  |        0.00262662 |\n",
            "|      20 | 0.00123979  |        0.00192571 |\n",
            "|      21 | 0.00106643  |        0.00210997 |\n",
            "|      22 | 0.00114532  |        0.00187915 |\n",
            "|      23 | 0.00100802  |        0.00171559 |\n",
            "|      24 | 0.0010626   |        0.00163532 |\n",
            "|      25 | 0.00104841  |        0.00173401 |\n",
            "|      26 | 0.000794216 |        0.00135627 |\n",
            "|      27 | 0.000895544 |        0.00137565 |\n",
            "|      28 | 0.00080201  |        0.00185653 |\n",
            "|      29 | 0.000752386 |        0.00146788 |\n",
            "|      30 | 0.000793811 |        0.00179191 |\n",
            "|      31 | 0.000746193 |        0.00166646 |\n",
            "|      32 | 0.00087003  |        0.00188458 |\n",
            "|      33 | 0.000932137 |        0.00142099 |\n",
            "|      34 | 0.000646934 |        0.00147717 |\n",
            "|      35 | 0.000522453 |        0.00141837 |\n",
            "|      36 | 0.000548267 |        0.00138558 |\n",
            "|      37 | 0.000663194 |        0.00160579 |\n",
            "|      38 | 0.000510721 |        0.00127879 |\n",
            "|      39 | 0.000488473 |        0.00137221 |\n",
            "|      40 | 0.00045548  |        0.001434   |\n",
            "|      41 | 0.000439697 |        0.00129076 |\n",
            "|      42 | 0.000426292 |        0.00130276 |\n",
            "|      43 | 0.000430438 |        0.00123392 |\n",
            "|      44 | 0.000428429 |        0.00149421 |\n",
            "|      45 | 0.000403229 |        0.00115502 |\n",
            "|      46 | 0.000421829 |        0.00156863 |\n",
            "|      47 | 0.00038924  |        0.00118789 |\n",
            "|      48 | 0.00044482  |        0.00143006 |\n",
            "|      49 | 0.000395235 |        0.00169757 |\n",
            "|      50 | 0.000426738 |        0.0013119  |\n",
            "|      51 | 0.000537088 |        0.00163318 |\n",
            "|      52 | 0.000348554 |        0.00134237 |\n",
            "|      53 | 0.000321514 |        0.00127459 |\n",
            "|      54 | 0.000306154 |        0.0014575  |\n",
            "|      55 | 0.000328662 |        0.00122402 |\n",
            "|      56 | 0.000340968 |        0.00160559 |\n",
            "|      57 | 0.000283845 |        0.00124798 |\n",
            "|      58 | 0.000260525 |        0.00145333 |\n",
            "|      59 | 0.000251111 |        0.00128756 |\n",
            "|      60 | 0.000405834 |        0.00150072 |\n"
          ]
        }
      ]
    },
    {
      "cell_type": "code",
      "source": [
        "# Plot training & validation loss values\n",
        "plt.plot(history.history['loss'])\n",
        "plt.plot(history.history['val_loss'])\n",
        "plt.title('Model Loss')\n",
        "plt.xlabel('Epoch')\n",
        "plt.ylabel('Loss')\n",
        "plt.legend(['Train', 'Validation'], loc='upper right')\n",
        "#plt.show()"
      ],
      "metadata": {
        "colab": {
          "base_uri": "https://localhost:8080/",
          "height": 489
        },
        "id": "2fEXmuX_GZiU",
        "outputId": "5135e060-8a7f-4115-e6e6-58916cafcf5c"
      },
      "execution_count": null,
      "outputs": [
        {
          "output_type": "execute_result",
          "data": {
            "text/plain": [
              "<matplotlib.legend.Legend at 0x7e1ec41f3d60>"
            ]
          },
          "metadata": {},
          "execution_count": 18
        },
        {
          "output_type": "display_data",
          "data": {
            "text/plain": [
              "<Figure size 640x480 with 1 Axes>"
            ],
            "image/png": "[encoded data removed]"
          },
          "metadata": {}
        }
      ]
    },
    {
      "cell_type": "code",
      "source": [
        "# Predict for 12 month\n",
        "n_past = 1\n",
        "n_month_for_prediction = 12\n",
        "predict_period_month = pd.date_range(list(train_datetime)[-n_past], periods=n_month_for_prediction, freq='M').tolist()\n",
        "print(predict_period_month)"
      ],
      "metadata": {
        "id": "TPbUkLx81bct",
        "colab": {
          "base_uri": "https://localhost:8080/"
        },
        "outputId": "70fb6713-d884-4f34-a830-dfc004f24cbb"
      },
      "execution_count": null,
      "outputs": [
        {
          "output_type": "stream",
          "name": "stdout",
          "text": [
            "[Timestamp('2022-12-31 00:00:00', freq='M'), Timestamp('2023-01-31 00:00:00', freq='M'), Timestamp('2023-02-28 00:00:00', freq='M'), Timestamp('2023-03-31 00:00:00', freq='M'), Timestamp('2023-04-30 00:00:00', freq='M'), Timestamp('2023-05-31 00:00:00', freq='M'), Timestamp('2023-06-30 00:00:00', freq='M'), Timestamp('2023-07-31 00:00:00', freq='M'), Timestamp('2023-08-31 00:00:00', freq='M'), Timestamp('2023-09-30 00:00:00', freq='M'), Timestamp('2023-10-31 00:00:00', freq='M'), Timestamp('2023-11-30 00:00:00', freq='M')]\n"
          ]
        }
      ]
    },
    {
      "cell_type": "code",
      "source": [
        "prediction = model.predict(X_train[-n_month_for_prediction:])\n",
        "mse = mean_squared_error(Y_train[-n_month_for_prediction:], prediction)\n",
        "fmape = np.mean(np.abs((mse) / prediction)) * 100\n",
        "mape = f\"{(fmape*100):.2f}%\"\n",
        "mae = np.mean(np.abs((mse) / prediction))\n",
        "\n",
        "print(\"MSE:\", mse)\n",
        "print(\"MAPE:\", mape)\n",
        "print(\"MAE:\", mae)\n",
        "\n"
      ],
      "metadata": {
        "id": "BoPb__pSioMk",
        "colab": {
          "base_uri": "https://localhost:8080/"
        },
        "outputId": "853058f6-aa81-4c74-c93e-3dc4a55bfa5c"
      },
      "execution_count": null,
      "outputs": [
        {
          "output_type": "stream",
          "name": "stdout",
          "text": [
            "1/1 [==============================] - 0s 399ms/step\n",
            "MSE: 0.0010340978481810602\n",
            "MAPE: 12.09%\n",
            "MAE: 0.0012090437\n"
          ]
        }
      ]
    },
    {
      "cell_type": "code",
      "source": [
        "prediction_copies = np.repeat(prediction, data_training.shape[1], axis=-1)\n",
        "y_pred_future = scaler.inverse_transform(prediction_copies)[:,0]"
      ],
      "metadata": {
        "id": "mpvCFdL_iux9"
      },
      "execution_count": null,
      "outputs": []
    },
    {
      "cell_type": "code",
      "source": [
        "prediction_copies.shape"
      ],
      "metadata": {
        "colab": {
          "base_uri": "https://localhost:8080/"
        },
        "id": "MOJkwO7GGpIo",
        "outputId": "19a30d04-aa3f-447d-d391-2ddcb4d03987"
      },
      "execution_count": null,
      "outputs": [
        {
          "output_type": "execute_result",
          "data": {
            "text/plain": [
              "(12, 2)"
            ]
          },
          "metadata": {},
          "execution_count": 46
        }
      ]
    },
    {
      "cell_type": "code",
      "source": [
        "data_training.shape[1]"
      ],
      "metadata": {
        "id": "f8PQiJKGGrwp",
        "outputId": "fe4fbf67-6625-4be4-91dd-70441c696897",
        "colab": {
          "base_uri": "https://localhost:8080/"
        }
      },
      "execution_count": null,
      "outputs": [
        {
          "output_type": "execute_result",
          "data": {
            "text/plain": [
              "2"
            ]
          },
          "metadata": {},
          "execution_count": 48
        }
      ]
    },
    {
      "cell_type": "code",
      "source": [
        "forecast_dates = []\n",
        "\n",
        "for time_i in predict_period_month:\n",
        "    forecast_dates.append(time_i.date())\n",
        "\n",
        "df_forecast = pd.DataFrame({'Date': forecast_dates, 'total_visitor': y_pred_future})\n",
        "df_forecast['date'] = pd.to_datetime(df_forecast['Date'])\n",
        "\n",
        "# Assuming 'original' contains the original data with 'Datetime' and 'jumlah_penderita' columns\n",
        "original = data_original[['datetime', 'total_visitor']]\n",
        "original['datetime'] = pd.to_datetime(original['datetime'])\n",
        "original = original.loc[original['datetime'] >= '2014-01-01']\n",
        "\n",
        "sns.lineplot(data=original, x='datetime', y='total_visitor', label='Original')\n",
        "sns.lineplot(data=df_forecast, x='date', y='total_visitor', label='Forecast')\n",
        "\n",
        "plt.xlabel('Year')\n",
        "plt.ylabel('total visitor')\n",
        "plt.title('Forecasted Data 1 Year with 80:20 split')\n",
        "plt.legend()\n",
        "plt.show()\n",
        "\n",
        "# Generate the forecast dates from January 2023 to December 2023\n",
        "forecast_dates = pd.date_range(start='2023-01-01', end='2023-12-01', freq='MS')\n",
        "\n",
        "# Create a list of forecast dates and prediction values\n",
        "data = list(zip(forecast_dates, y_pred_future))"
      ],
      "metadata": {
        "id": "28nNECcoi4WB",
        "colab": {
          "base_uri": "https://localhost:8080/",
          "height": 576
        },
        "outputId": "c71631f7-9f13-4d58-c79b-80fd123c79e7"
      },
      "execution_count": null,
      "outputs": [
        {
          "output_type": "stream",
          "name": "stderr",
          "text": [
            "<ipython-input-22-58f27a549218>:11: SettingWithCopyWarning: \n",
            "A value is trying to be set on a copy of a slice from a DataFrame.\n",
            "Try using .loc[row_indexer,col_indexer] = value instead\n",
            "\n",
            "See the caveats in the documentation: https://pandas.pydata.org/pandas-docs/stable/user_guide/indexing.html#returning-a-view-versus-a-copy\n",
            "  original['datetime'] = pd.to_datetime(original['datetime'])\n"
          ]
        },
        {
          "output_type": "display_data",
          "data": {
            "text/plain": [
              "<Figure size 640x480 with 1 Axes>"
            ],
            "image/png": "[encoded data removed]"
          },
          "metadata": {}
        }
      ]
    },
    {
      "cell_type": "code",
      "source": [
        "# Create a list of forecast dates and prediction values\n",
        "data = list(zip(forecast_dates, y_pred_future))\n",
        "\n",
        "# Create a list of headers for the table\n",
        "headers = ['Date', 'Prediction']\n",
        "table = tabulate(data, headers=headers, tablefmt='fancy_grid')\n",
        "# Print the table\n",
        "print(\"Hasil Forecast RNN scenario 1\")\n",
        "print(table)"
      ],
      "metadata": {
        "id": "LGqJRjLAlSDl",
        "colab": {
          "base_uri": "https://localhost:8080/"
        },
        "outputId": "40feff8a-baee-4c16-ab5a-73620698f86c"
      },
      "execution_count": null,
      "outputs": [
        {
          "output_type": "stream",
          "name": "stdout",
          "text": [
            "Hasil Forecast RNN scenario 1\n",
            "╒═════════════════════╤══════════════╕\n",
            "│ Date                │   Prediction │\n",
            "╞═════════════════════╪══════════════╡\n",
            "│ 2023-01-01 00:00:00 │      46539.9 │\n",
            "├─────────────────────┼──────────────┤\n",
            "│ 2023-02-01 00:00:00 │      92212.8 │\n",
            "├─────────────────────┼──────────────┤\n",
            "│ 2023-03-01 00:00:00 │     273125   │\n",
            "├─────────────────────┼──────────────┤\n",
            "│ 2023-04-01 00:00:00 │     248934   │\n",
            "├─────────────────────┼──────────────┤\n",
            "│ 2023-05-01 00:00:00 │     270753   │\n",
            "├─────────────────────┼──────────────┤\n",
            "│ 2023-06-01 00:00:00 │     265643   │\n",
            "├─────────────────────┼──────────────┤\n",
            "│ 2023-07-01 00:00:00 │      83658.3 │\n",
            "├─────────────────────┼──────────────┤\n",
            "│ 2023-08-01 00:00:00 │     203521   │\n",
            "├─────────────────────┼──────────────┤\n",
            "│ 2023-09-01 00:00:00 │     242059   │\n",
            "├─────────────────────┼──────────────┤\n",
            "│ 2023-10-01 00:00:00 │      65297.4 │\n",
            "├─────────────────────┼──────────────┤\n",
            "│ 2023-11-01 00:00:00 │     293835   │\n",
            "├─────────────────────┼──────────────┤\n",
            "│ 2023-12-01 00:00:00 │     181882   │\n",
            "╘═════════════════════╧══════════════╛\n"
          ]
        }
      ]
    },
    {
      "cell_type": "markdown",
      "source": [
        "# Scenario 2- 70%train : 30%test"
      ],
      "metadata": {
        "id": "IPTfsziwnH-z"
      }
    },
    {
      "cell_type": "code",
      "source": [
        "# Define sequence length and features\n",
        "sequence_length2 = 12  # Number of time steps in each sequence\n",
        "num_features2 = len(data_training.columns)\n",
        "\n",
        "# Create sequences and corresponding labels\n",
        "sequences2 = []\n",
        "labels2 = []\n",
        "\n",
        "for i in range(len(scaled_data_train) - sequence_length2):\n",
        "    seq = scaled_data_train[i:i+sequence_length2]\n",
        "    label = scaled_data_train[i+sequence_length2][1]  # Assuming '_tempm' is the column of interest\n",
        "    sequences2.append(seq)\n",
        "    labels2.append(label)\n",
        "\n",
        "# Convert to numpy arrays\n",
        "sequences2 = np.array(sequences2)\n",
        "labels2 = np.array(labels2)\n",
        "\n",
        "# Split the data into training and testing sets\n",
        "X_train2, X_test2, Y_train2, Y_test2 = train_test_split(sequences2, labels2, test_size=0.3, random_state=42)\n",
        "\n",
        "print(\"Train X shape:\", X_train2.shape)\n",
        "print(\"Train Y shape:\", Y_train2.shape)\n",
        "print(\"Test X shape:\", X_test2.shape)\n",
        "print(\"Test Y shape:\", Y_test2.shape)\n"
      ],
      "metadata": {
        "id": "3mkPqe9cnLKp",
        "colab": {
          "base_uri": "https://localhost:8080/"
        },
        "outputId": "01fa1178-9371-4e47-a9fb-b84a77ea9236"
      },
      "execution_count": null,
      "outputs": [
        {
          "output_type": "stream",
          "name": "stdout",
          "text": [
            "Train X shape: (67, 12, 2)\n",
            "Train Y shape: (67,)\n",
            "Test X shape: (29, 12, 2)\n",
            "Test Y shape: (29,)\n"
          ]
        }
      ]
    },
    {
      "cell_type": "code",
      "source": [
        "#Create the RNN model\n",
        "model2 = Sequential()\n",
        "\n",
        "#Add RNN layers with dropout\n",
        "model2.add(SimpleRNN(60,activation=\"tanh\",return_sequences=True, input_shape=(X_train2.shape[1], X_train2.shape[2]))) # Unit = 12,24,36,48 (Bebas)\n",
        "model2.add(SimpleRNN(48,activation=\"tanh\",return_sequences=True))\n",
        "model2.add(SimpleRNN(48,activation=\"tanh\",return_sequences=False))\n",
        "model2.add(Dense(1))\n",
        "\n",
        "model2.compile(optimizer=\"adam\",loss=\"MSE\")\n",
        "model2.summary()"
      ],
      "metadata": {
        "id": "ykMETQA_qlCr",
        "colab": {
          "base_uri": "https://localhost:8080/"
        },
        "outputId": "8fdcf8ff-ec4d-497b-8537-3e1a65e5f2e2"
      },
      "execution_count": null,
      "outputs": [
        {
          "output_type": "stream",
          "name": "stdout",
          "text": [
            "Model: \"sequential_1\"\n",
            "_________________________________________________________________\n",
            " Layer (type)                Output Shape              Param #   \n",
            "=================================================================\n",
            " simple_rnn_3 (SimpleRNN)    (None, 12, 60)            3780      \n",
            "                                                                 \n",
            " simple_rnn_4 (SimpleRNN)    (None, 12, 48)            5232      \n",
            "                                                                 \n",
            " simple_rnn_5 (SimpleRNN)    (None, 48)                4656      \n",
            "                                                                 \n",
            " dense_1 (Dense)             (None, 1)                 49        \n",
            "                                                                 \n",
            "=================================================================\n",
            "Total params: 13717 (53.58 KB)\n",
            "Trainable params: 13717 (53.58 KB)\n",
            "Non-trainable params: 0 (0.00 Byte)\n",
            "_________________________________________________________________\n"
          ]
        }
      ]
    },
    {
      "cell_type": "code",
      "source": [
        "# Define callbacks\n",
        "early_stopping2 = EarlyStopping(monitor='val_loss', patience=100, restore_best_weights=True)\n",
        "\n",
        "history2 = model2.fit(X_train2, Y_train2, epochs =100, batch_size = 12, validation_split=0.4,  # Use part of the training data as validation\n",
        "    callbacks=[early_stopping])"
      ],
      "metadata": {
        "id": "x74DOdswqzTA",
        "colab": {
          "base_uri": "https://localhost:8080/"
        },
        "outputId": "950a9ee5-44dd-44a8-f29c-4630c60edeb0"
      },
      "execution_count": null,
      "outputs": [
        {
          "output_type": "stream",
          "name": "stdout",
          "text": [
            "Epoch 1/100\n",
            "4/4 [==============================] - 3s 159ms/step - loss: 0.1935 - val_loss: 0.0719\n",
            "Epoch 2/100\n",
            "4/4 [==============================] - 0s 25ms/step - loss: 0.0714 - val_loss: 0.0379\n",
            "Epoch 3/100\n",
            "4/4 [==============================] - 0s 25ms/step - loss: 0.0401 - val_loss: 0.0207\n",
            "Epoch 4/100\n",
            "4/4 [==============================] - 0s 22ms/step - loss: 0.0293 - val_loss: 0.0640\n",
            "Epoch 5/100\n",
            "4/4 [==============================] - 0s 25ms/step - loss: 0.0277 - val_loss: 0.0214\n",
            "Epoch 6/100\n",
            "4/4 [==============================] - 0s 27ms/step - loss: 0.0130 - val_loss: 0.0152\n",
            "Epoch 7/100\n",
            "4/4 [==============================] - 0s 21ms/step - loss: 0.0046 - val_loss: 0.0175\n",
            "Epoch 8/100\n",
            "4/4 [==============================] - 0s 24ms/step - loss: 0.0066 - val_loss: 0.0121\n",
            "Epoch 9/100\n",
            "4/4 [==============================] - 0s 23ms/step - loss: 0.0031 - val_loss: 0.0103\n",
            "Epoch 10/100\n",
            "4/4 [==============================] - 0s 23ms/step - loss: 0.0039 - val_loss: 0.0098\n",
            "Epoch 11/100\n",
            "4/4 [==============================] - 0s 25ms/step - loss: 0.0030 - val_loss: 0.0102\n",
            "Epoch 12/100\n",
            "4/4 [==============================] - 0s 24ms/step - loss: 0.0016 - val_loss: 0.0081\n",
            "Epoch 13/100\n",
            "4/4 [==============================] - 0s 23ms/step - loss: 0.0017 - val_loss: 0.0086\n",
            "Epoch 14/100\n",
            "4/4 [==============================] - 0s 24ms/step - loss: 0.0013 - val_loss: 0.0090\n",
            "Epoch 15/100\n",
            "4/4 [==============================] - 0s 27ms/step - loss: 8.8574e-04 - val_loss: 0.0077\n",
            "Epoch 16/100\n",
            "4/4 [==============================] - 0s 24ms/step - loss: 8.5116e-04 - val_loss: 0.0081\n",
            "Epoch 17/100\n",
            "4/4 [==============================] - 0s 22ms/step - loss: 7.1747e-04 - val_loss: 0.0072\n",
            "Epoch 18/100\n",
            "4/4 [==============================] - 0s 29ms/step - loss: 5.8031e-04 - val_loss: 0.0072\n",
            "Epoch 19/100\n",
            "4/4 [==============================] - 0s 25ms/step - loss: 4.7076e-04 - val_loss: 0.0073\n",
            "Epoch 20/100\n",
            "4/4 [==============================] - 0s 25ms/step - loss: 5.6421e-04 - val_loss: 0.0073\n",
            "Epoch 21/100\n",
            "4/4 [==============================] - 0s 34ms/step - loss: 4.0029e-04 - val_loss: 0.0072\n",
            "Epoch 22/100\n",
            "4/4 [==============================] - 0s 38ms/step - loss: 5.6912e-04 - val_loss: 0.0069\n",
            "Epoch 23/100\n",
            "4/4 [==============================] - 0s 34ms/step - loss: 5.8933e-04 - val_loss: 0.0077\n",
            "Epoch 24/100\n",
            "4/4 [==============================] - 0s 36ms/step - loss: 4.0449e-04 - val_loss: 0.0068\n",
            "Epoch 25/100\n",
            "4/4 [==============================] - 0s 38ms/step - loss: 2.9106e-04 - val_loss: 0.0070\n",
            "Epoch 26/100\n",
            "4/4 [==============================] - 0s 39ms/step - loss: 3.1789e-04 - val_loss: 0.0073\n",
            "Epoch 27/100\n",
            "4/4 [==============================] - 0s 34ms/step - loss: 3.5159e-04 - val_loss: 0.0068\n",
            "Epoch 28/100\n",
            "4/4 [==============================] - 0s 34ms/step - loss: 3.4141e-04 - val_loss: 0.0086\n",
            "Epoch 29/100\n",
            "4/4 [==============================] - 0s 32ms/step - loss: 5.6666e-04 - val_loss: 0.0067\n",
            "Epoch 30/100\n",
            "4/4 [==============================] - 0s 33ms/step - loss: 5.3876e-04 - val_loss: 0.0078\n",
            "Epoch 31/100\n",
            "4/4 [==============================] - 0s 37ms/step - loss: 4.2210e-04 - val_loss: 0.0072\n",
            "Epoch 32/100\n",
            "4/4 [==============================] - 0s 32ms/step - loss: 2.9881e-04 - val_loss: 0.0071\n",
            "Epoch 33/100\n",
            "4/4 [==============================] - 0s 38ms/step - loss: 2.0844e-04 - val_loss: 0.0074\n",
            "Epoch 34/100\n",
            "4/4 [==============================] - 0s 37ms/step - loss: 2.1958e-04 - val_loss: 0.0074\n",
            "Epoch 35/100\n",
            "4/4 [==============================] - 0s 32ms/step - loss: 2.3005e-04 - val_loss: 0.0068\n",
            "Epoch 36/100\n",
            "4/4 [==============================] - 0s 30ms/step - loss: 3.4495e-04 - val_loss: 0.0075\n",
            "Epoch 37/100\n",
            "4/4 [==============================] - 0s 33ms/step - loss: 2.0375e-04 - val_loss: 0.0067\n",
            "Epoch 38/100\n",
            "4/4 [==============================] - 0s 34ms/step - loss: 2.4610e-04 - val_loss: 0.0068\n",
            "Epoch 39/100\n",
            "4/4 [==============================] - 0s 31ms/step - loss: 2.0728e-04 - val_loss: 0.0072\n",
            "Epoch 40/100\n",
            "4/4 [==============================] - 0s 34ms/step - loss: 2.4809e-04 - val_loss: 0.0069\n",
            "Epoch 41/100\n",
            "4/4 [==============================] - 0s 34ms/step - loss: 3.0306e-04 - val_loss: 0.0071\n",
            "Epoch 42/100\n",
            "4/4 [==============================] - 0s 35ms/step - loss: 1.3101e-04 - val_loss: 0.0069\n",
            "Epoch 43/100\n",
            "4/4 [==============================] - 0s 46ms/step - loss: 1.1195e-04 - val_loss: 0.0066\n",
            "Epoch 44/100\n",
            "4/4 [==============================] - 0s 31ms/step - loss: 1.4380e-04 - val_loss: 0.0072\n",
            "Epoch 45/100\n",
            "4/4 [==============================] - 0s 33ms/step - loss: 1.7061e-04 - val_loss: 0.0069\n",
            "Epoch 46/100\n",
            "4/4 [==============================] - 0s 31ms/step - loss: 1.0649e-04 - val_loss: 0.0068\n",
            "Epoch 47/100\n",
            "4/4 [==============================] - 0s 33ms/step - loss: 8.5058e-05 - val_loss: 0.0072\n",
            "Epoch 48/100\n",
            "4/4 [==============================] - 0s 34ms/step - loss: 1.1716e-04 - val_loss: 0.0066\n",
            "Epoch 49/100\n",
            "4/4 [==============================] - 0s 25ms/step - loss: 1.1659e-04 - val_loss: 0.0070\n",
            "Epoch 50/100\n",
            "4/4 [==============================] - 0s 25ms/step - loss: 6.4628e-05 - val_loss: 0.0068\n",
            "Epoch 51/100\n",
            "4/4 [==============================] - 0s 27ms/step - loss: 1.3075e-04 - val_loss: 0.0066\n",
            "Epoch 52/100\n",
            "4/4 [==============================] - 0s 27ms/step - loss: 2.3826e-04 - val_loss: 0.0074\n",
            "Epoch 53/100\n",
            "4/4 [==============================] - 0s 27ms/step - loss: 2.6200e-04 - val_loss: 0.0066\n",
            "Epoch 54/100\n",
            "4/4 [==============================] - 0s 27ms/step - loss: 2.6754e-04 - val_loss: 0.0072\n",
            "Epoch 55/100\n",
            "4/4 [==============================] - 0s 25ms/step - loss: 1.6486e-04 - val_loss: 0.0069\n",
            "Epoch 56/100\n",
            "4/4 [==============================] - 0s 23ms/step - loss: 7.1197e-05 - val_loss: 0.0070\n",
            "Epoch 57/100\n",
            "4/4 [==============================] - 0s 23ms/step - loss: 1.8076e-04 - val_loss: 0.0070\n",
            "Epoch 58/100\n",
            "4/4 [==============================] - 0s 25ms/step - loss: 1.0927e-04 - val_loss: 0.0073\n",
            "Epoch 59/100\n",
            "4/4 [==============================] - 0s 22ms/step - loss: 7.4818e-05 - val_loss: 0.0066\n",
            "Epoch 60/100\n",
            "4/4 [==============================] - 0s 25ms/step - loss: 1.7889e-04 - val_loss: 0.0079\n",
            "Epoch 61/100\n",
            "4/4 [==============================] - 0s 22ms/step - loss: 2.5745e-04 - val_loss: 0.0069\n",
            "Epoch 62/100\n",
            "4/4 [==============================] - 0s 22ms/step - loss: 4.6116e-04 - val_loss: 0.0077\n",
            "Epoch 63/100\n",
            "4/4 [==============================] - 0s 31ms/step - loss: 6.0965e-04 - val_loss: 0.0063\n",
            "Epoch 64/100\n",
            "4/4 [==============================] - 0s 27ms/step - loss: 6.2754e-04 - val_loss: 0.0087\n",
            "Epoch 65/100\n",
            "4/4 [==============================] - 0s 27ms/step - loss: 6.8181e-04 - val_loss: 0.0068\n",
            "Epoch 66/100\n",
            "4/4 [==============================] - 0s 23ms/step - loss: 6.9331e-04 - val_loss: 0.0081\n",
            "Epoch 67/100\n",
            "4/4 [==============================] - 0s 24ms/step - loss: 0.0011 - val_loss: 0.0068\n",
            "Epoch 68/100\n",
            "4/4 [==============================] - 0s 25ms/step - loss: 6.9355e-04 - val_loss: 0.0084\n",
            "Epoch 69/100\n",
            "4/4 [==============================] - 0s 26ms/step - loss: 8.3044e-04 - val_loss: 0.0065\n",
            "Epoch 70/100\n",
            "4/4 [==============================] - 0s 26ms/step - loss: 8.4777e-04 - val_loss: 0.0073\n",
            "Epoch 71/100\n",
            "4/4 [==============================] - 0s 25ms/step - loss: 7.1621e-04 - val_loss: 0.0079\n",
            "Epoch 72/100\n",
            "4/4 [==============================] - 0s 26ms/step - loss: 8.4895e-04 - val_loss: 0.0073\n",
            "Epoch 73/100\n",
            "4/4 [==============================] - 0s 26ms/step - loss: 4.8241e-04 - val_loss: 0.0066\n",
            "Epoch 74/100\n",
            "4/4 [==============================] - 0s 21ms/step - loss: 5.4478e-04 - val_loss: 0.0080\n",
            "Epoch 75/100\n",
            "4/4 [==============================] - 0s 22ms/step - loss: 0.0013 - val_loss: 0.0064\n",
            "Epoch 76/100\n",
            "4/4 [==============================] - 0s 27ms/step - loss: 7.9962e-04 - val_loss: 0.0078\n",
            "Epoch 77/100\n",
            "4/4 [==============================] - 0s 21ms/step - loss: 7.3972e-04 - val_loss: 0.0073\n",
            "Epoch 78/100\n",
            "4/4 [==============================] - 0s 23ms/step - loss: 0.0011 - val_loss: 0.0098\n"
          ]
        }
      ]
    },
    {
      "cell_type": "code",
      "source": [
        "# Extract epoch information\n",
        "epoch_info = pd.DataFrame({\n",
        "    'Epoch': list(range(1, len(history2.history['loss']) + 1)),\n",
        "    'Loss': history2.history['loss'],\n",
        "    'Validation Loss': history2.history['val_loss']\n",
        "})\n",
        "\n",
        "# Display the epoch information table\n",
        "print(\"Epoch Information Table:\")\n",
        "print(epoch_info.to_markdown(index=False))\n"
      ],
      "metadata": {
        "id": "JftpesQLG6vO",
        "colab": {
          "base_uri": "https://localhost:8080/"
        },
        "outputId": "fce73050-d5a9-4572-d51a-ee74f6345906"
      },
      "execution_count": null,
      "outputs": [
        {
          "output_type": "stream",
          "name": "stdout",
          "text": [
            "Epoch Information Table:\n",
            "|   Epoch |        Loss |   Validation Loss |\n",
            "|--------:|------------:|------------------:|\n",
            "|       1 | 0.193548    |        0.071932   |\n",
            "|       2 | 0.0713882   |        0.0379487  |\n",
            "|       3 | 0.0401344   |        0.0206786  |\n",
            "|       4 | 0.0292564   |        0.0639977  |\n",
            "|       5 | 0.0277313   |        0.0213746  |\n",
            "|       6 | 0.012965    |        0.0151974  |\n",
            "|       7 | 0.00460575  |        0.0175299  |\n",
            "|       8 | 0.00662105  |        0.0121389  |\n",
            "|       9 | 0.00313283  |        0.0102815  |\n",
            "|      10 | 0.00393732  |        0.00977782 |\n",
            "|      11 | 0.00300028  |        0.0101583  |\n",
            "|      12 | 0.00156027  |        0.00806513 |\n",
            "|      13 | 0.00171412  |        0.00858364 |\n",
            "|      14 | 0.00134359  |        0.00904003 |\n",
            "|      15 | 0.000885741 |        0.00767419 |\n",
            "|      16 | 0.000851159 |        0.00813458 |\n",
            "|      17 | 0.000717471 |        0.00721433 |\n",
            "|      18 | 0.000580312 |        0.00719053 |\n",
            "|      19 | 0.000470756 |        0.00725594 |\n",
            "|      20 | 0.00056421  |        0.00730627 |\n",
            "|      21 | 0.000400294 |        0.00719201 |\n",
            "|      22 | 0.000569122 |        0.00689642 |\n",
            "|      23 | 0.000589329 |        0.0076991  |\n",
            "|      24 | 0.000404485 |        0.00684566 |\n",
            "|      25 | 0.00029106  |        0.00701686 |\n",
            "|      26 | 0.000317888 |        0.00726071 |\n",
            "|      27 | 0.000351588 |        0.00677093 |\n",
            "|      28 | 0.000341405 |        0.00863111 |\n",
            "|      29 | 0.000566657 |        0.00666415 |\n",
            "|      30 | 0.000538757 |        0.00780534 |\n",
            "|      31 | 0.000422103 |        0.00719525 |\n",
            "|      32 | 0.000298814 |        0.00711118 |\n",
            "|      33 | 0.000208439 |        0.00743894 |\n",
            "|      34 | 0.000219576 |        0.00736203 |\n",
            "|      35 | 0.000230045 |        0.00676716 |\n",
            "|      36 | 0.000344949 |        0.00754189 |\n",
            "|      37 | 0.000203755 |        0.00672931 |\n",
            "|      38 | 0.000246096 |        0.00677275 |\n",
            "|      39 | 0.000207279 |        0.00719827 |\n",
            "|      40 | 0.000248086 |        0.00690085 |\n",
            "|      41 | 0.000303064 |        0.00710432 |\n",
            "|      42 | 0.000131007 |        0.00690934 |\n",
            "|      43 | 0.000111946 |        0.0065986  |\n",
            "|      44 | 0.000143799 |        0.00718719 |\n",
            "|      45 | 0.000170606 |        0.00694418 |\n",
            "|      46 | 0.000106485 |        0.00683606 |\n",
            "|      47 | 8.5058e-05  |        0.00716609 |\n",
            "|      48 | 0.000117163 |        0.00662065 |\n",
            "|      49 | 0.000116595 |        0.00699092 |\n",
            "|      50 | 6.46283e-05 |        0.00681987 |\n",
            "|      51 | 0.000130746 |        0.00655855 |\n",
            "|      52 | 0.000238261 |        0.00744035 |\n",
            "|      53 | 0.000261996 |        0.00659045 |\n",
            "|      54 | 0.000267543 |        0.00720046 |\n",
            "|      55 | 0.000164863 |        0.00689962 |\n",
            "|      56 | 7.11973e-05 |        0.00704363 |\n",
            "|      57 | 0.000180755 |        0.00696028 |\n",
            "|      58 | 0.00010927  |        0.00733435 |\n",
            "|      59 | 7.48185e-05 |        0.006581   |\n",
            "|      60 | 0.000178886 |        0.0078895  |\n",
            "|      61 | 0.000257449 |        0.00693542 |\n",
            "|      62 | 0.000461161 |        0.00771153 |\n",
            "|      63 | 0.000609654 |        0.00628055 |\n",
            "|      64 | 0.000627537 |        0.00870321 |\n",
            "|      65 | 0.00068181  |        0.00684543 |\n",
            "|      66 | 0.000693312 |        0.00813851 |\n",
            "|      67 | 0.00107145  |        0.00683772 |\n",
            "|      68 | 0.000693547 |        0.00843631 |\n",
            "|      69 | 0.000830438 |        0.00651311 |\n",
            "|      70 | 0.000847772 |        0.00728506 |\n",
            "|      71 | 0.00071621  |        0.00791657 |\n",
            "|      72 | 0.000848949 |        0.00726743 |\n",
            "|      73 | 0.000482415 |        0.00664027 |\n",
            "|      74 | 0.000544784 |        0.00804631 |\n",
            "|      75 | 0.00129272  |        0.00637111 |\n",
            "|      76 | 0.000799621 |        0.00778812 |\n",
            "|      77 | 0.000739722 |        0.00727642 |\n",
            "|      78 | 0.00108355  |        0.0098346  |\n"
          ]
        }
      ]
    },
    {
      "cell_type": "code",
      "source": [
        "# Plot training & validation loss values\n",
        "plt.plot(history2.history['loss'])\n",
        "plt.plot(history2.history['val_loss'])\n",
        "plt.title('Model Loss')\n",
        "plt.xlabel('Epoch')\n",
        "plt.ylabel('Loss')\n",
        "plt.legend(['Train', 'Validation'], loc='upper right')\n",
        "#plt.show()"
      ],
      "metadata": {
        "id": "TgIJpr6lq3F7",
        "colab": {
          "base_uri": "https://localhost:8080/",
          "height": 489
        },
        "outputId": "478cd9cd-0888-4183-e773-8766d43920c9"
      },
      "execution_count": null,
      "outputs": [
        {
          "output_type": "execute_result",
          "data": {
            "text/plain": [
              "<matplotlib.legend.Legend at 0x7e1ec6842140>"
            ]
          },
          "metadata": {},
          "execution_count": 28
        },
        {
          "output_type": "display_data",
          "data": {
            "text/plain": [
              "<Figure size 640x480 with 1 Axes>"
            ],
            "image/png": "[encoded data removed]"
          },
          "metadata": {}
        }
      ]
    },
    {
      "cell_type": "code",
      "source": [
        "#Predict for 12 months\n",
        "n_past2 = 1\n",
        "n_month_for_prediction2 = 12\n",
        "predict_period_month2 = pd.date_range(list(train_datetime)[-n_past2], periods=n_month_for_prediction2, freq='M').tolist()\n",
        "print(predict_period_month2)"
      ],
      "metadata": {
        "id": "x5OmElLHrOZF",
        "colab": {
          "base_uri": "https://localhost:8080/"
        },
        "outputId": "f39448e0-18cb-4b63-bb77-283f7bafca28"
      },
      "execution_count": null,
      "outputs": [
        {
          "output_type": "stream",
          "name": "stdout",
          "text": [
            "[Timestamp('2022-12-31 00:00:00', freq='M'), Timestamp('2023-01-31 00:00:00', freq='M'), Timestamp('2023-02-28 00:00:00', freq='M'), Timestamp('2023-03-31 00:00:00', freq='M'), Timestamp('2023-04-30 00:00:00', freq='M'), Timestamp('2023-05-31 00:00:00', freq='M'), Timestamp('2023-06-30 00:00:00', freq='M'), Timestamp('2023-07-31 00:00:00', freq='M'), Timestamp('2023-08-31 00:00:00', freq='M'), Timestamp('2023-09-30 00:00:00', freq='M'), Timestamp('2023-10-31 00:00:00', freq='M'), Timestamp('2023-11-30 00:00:00', freq='M')]\n"
          ]
        }
      ]
    },
    {
      "cell_type": "code",
      "source": [
        "prediction2 = model2.predict(X_train[-n_month_for_prediction:])\n",
        "mse2 = mean_squared_error(Y_train2[-n_month_for_prediction:], prediction2)\n",
        "fmape2 = np.mean(np.abs((mse2) / prediction2)) * 100\n",
        "mape2 = f\"{(fmape2*100):.2f}%\"\n",
        "mae2 = np.mean(np.abs((mse2) / prediction2))\n",
        "\n",
        "print(\"MSE:\", mse2)\n",
        "print(\"MAPE:\", mape2)\n",
        "print(\"MAE:\", mae2)\n",
        "\n"
      ],
      "metadata": {
        "id": "xIYYTudhrWxp",
        "colab": {
          "base_uri": "https://localhost:8080/"
        },
        "outputId": "1cb05812-e5fe-49c4-c23b-17757613030a"
      },
      "execution_count": null,
      "outputs": [
        {
          "output_type": "stream",
          "name": "stdout",
          "text": [
            "1/1 [==============================] - 0s 370ms/step\n",
            "MSE: 0.004001334240983541\n",
            "MAPE: 43.23%\n",
            "MAE: 0.004323458\n"
          ]
        }
      ]
    },
    {
      "cell_type": "code",
      "source": [
        "prediction_copies2 = np.repeat(prediction2, data_training.shape[1], axis=-1)\n",
        "y_pred_future2 = scaler.inverse_transform(prediction_copies2)[:,0]"
      ],
      "metadata": {
        "id": "dhgyFTisPwI8"
      },
      "execution_count": null,
      "outputs": []
    },
    {
      "cell_type": "code",
      "source": [
        "forecast_dates2 = []\n",
        "\n",
        "for time_i in predict_period_month2:\n",
        "    forecast_dates2.append(time_i.date())\n",
        "\n",
        "df_forecast2 = pd.DataFrame({'Date': forecast_dates2, 'total_visitor': y_pred_future2})\n",
        "df_forecast2['date'] = pd.to_datetime(df_forecast2['Date'])\n",
        "\n",
        "# Assuming 'original' contains the original data with 'Datetime' and 'jumlah_penderita' columns\n",
        "original = data_original[['datetime', 'total_visitor']]\n",
        "original['datetime'] = pd.to_datetime(original['datetime'])\n",
        "original = original.loc[original['datetime'] >= '2014-01-01']\n",
        "\n",
        "sns.lineplot(data=original, x='datetime', y='total_visitor', label='Original')\n",
        "sns.lineplot(data=df_forecast2, x='date', y='total_visitor', label='Forecast')\n",
        "\n",
        "plt.xlabel('Year')\n",
        "plt.ylabel('total visitor')\n",
        "plt.title('Forecasted Data 1 Year with 70:30 split')\n",
        "plt.legend()\n",
        "plt.show()\n",
        "\n",
        "# Generate the forecast dates from January 2023 to December 2023\n",
        "forecast_dates2 = pd.date_range(start='2023-01-01', end='2023-12-01', freq='MS')\n",
        "\n",
        "# Create a list of forecast dates and prediction values\n",
        "data = list(zip(forecast_dates2, y_pred_future2))"
      ],
      "metadata": {
        "id": "T-Huh2kKQaip",
        "colab": {
          "base_uri": "https://localhost:8080/",
          "height": 576
        },
        "outputId": "5f9a1728-4105-4ba6-b472-07b76a71a9ae"
      },
      "execution_count": null,
      "outputs": [
        {
          "output_type": "stream",
          "name": "stderr",
          "text": [
            "<ipython-input-32-b87c1e5081ec>:11: SettingWithCopyWarning: \n",
            "A value is trying to be set on a copy of a slice from a DataFrame.\n",
            "Try using .loc[row_indexer,col_indexer] = value instead\n",
            "\n",
            "See the caveats in the documentation: https://pandas.pydata.org/pandas-docs/stable/user_guide/indexing.html#returning-a-view-versus-a-copy\n",
            "  original['datetime'] = pd.to_datetime(original['datetime'])\n"
          ]
        },
        {
          "output_type": "display_data",
          "data": {
            "text/plain": [
              "<Figure size 640x480 with 1 Axes>"
            ],
            "image/png": "[encoded data removed]"
          },
          "metadata": {}
        }
      ]
    },
    {
      "cell_type": "code",
      "source": [
        "# Create a list of forecast dates and prediction values\n",
        "data2 = list(zip(forecast_dates2, y_pred_future2))\n",
        "\n",
        "# Create a list of headers for the table\n",
        "headers = ['Date', 'Prediction']\n",
        "table2 = tabulate(data2, headers=headers, tablefmt='fancy_grid')\n",
        "# Print the table\n",
        "print(\"Hasil Forecast RNN scenario 2\")\n",
        "print(table2)"
      ],
      "metadata": {
        "id": "pyqBiAXkSg1g",
        "colab": {
          "base_uri": "https://localhost:8080/"
        },
        "outputId": "df24b11f-76ff-467d-cb5e-9dad109a47aa"
      },
      "execution_count": null,
      "outputs": [
        {
          "output_type": "stream",
          "name": "stdout",
          "text": [
            "Hasil Forecast RNN scenario 2\n",
            "╒═════════════════════╤══════════════╕\n",
            "│ Date                │   Prediction │\n",
            "╞═════════════════════╪══════════════╡\n",
            "│ 2023-01-01 00:00:00 │      46758.7 │\n",
            "├─────────────────────┼──────────────┤\n",
            "│ 2023-02-01 00:00:00 │      93505.1 │\n",
            "├─────────────────────┼──────────────┤\n",
            "│ 2023-03-01 00:00:00 │     276513   │\n",
            "├─────────────────────┼──────────────┤\n",
            "│ 2023-04-01 00:00:00 │     247733   │\n",
            "├─────────────────────┼──────────────┤\n",
            "│ 2023-05-01 00:00:00 │     274370   │\n",
            "├─────────────────────┼──────────────┤\n",
            "│ 2023-06-01 00:00:00 │     266379   │\n",
            "├─────────────────────┼──────────────┤\n",
            "│ 2023-07-01 00:00:00 │      79519.2 │\n",
            "├─────────────────────┼──────────────┤\n",
            "│ 2023-08-01 00:00:00 │     206765   │\n",
            "├─────────────────────┼──────────────┤\n",
            "│ 2023-09-01 00:00:00 │     239054   │\n",
            "├─────────────────────┼──────────────┤\n",
            "│ 2023-10-01 00:00:00 │      70927.2 │\n",
            "├─────────────────────┼──────────────┤\n",
            "│ 2023-11-01 00:00:00 │     290472   │\n",
            "├─────────────────────┼──────────────┤\n",
            "│ 2023-12-01 00:00:00 │     196720   │\n",
            "╘═════════════════════╧══════════════╛\n"
          ]
        }
      ]
    },
    {
      "cell_type": "markdown",
      "source": [
        "#Scenario 3- 60%train : 40%test"
      ],
      "metadata": {
        "id": "4-rfvwp8RX-4"
      }
    },
    {
      "cell_type": "code",
      "source": [
        "# Define sequence length and features\n",
        "sequence_length3 = 12  # Number of time steps in each sequence\n",
        "num_features3 = len(data_training.columns)\n",
        "\n",
        "# Create sequences and corresponding labels\n",
        "sequences3 = []\n",
        "labels3 = []\n",
        "\n",
        "for i in range(len(scaled_data_train) - sequence_length3):\n",
        "    seq = scaled_data_train[i:i+sequence_length3]\n",
        "    label = scaled_data_train[i+sequence_length3][1]  # Assuming '_tempm' is the column of interest\n",
        "    sequences3.append(seq)\n",
        "    labels3.append(label)\n",
        "\n",
        "# Convert to numpy arrays\n",
        "sequences3 = np.array(sequences3)\n",
        "labels3 = np.array(labels3)\n",
        "\n",
        "# Split the data into training and testing sets\n",
        "X_train3, X_test3, Y_train3, Y_test3 = train_test_split(sequences3, labels3, test_size=0.4, random_state=42)\n",
        "\n",
        "print(\"Train X shape:\", X_train3.shape)\n",
        "print(\"Train Y shape:\", Y_train3.shape)\n",
        "print(\"Test X shape:\", X_test3.shape)\n",
        "print(\"Test Y shape:\", Y_test3.shape)\n"
      ],
      "metadata": {
        "id": "YZDgwi3zRmAL",
        "colab": {
          "base_uri": "https://localhost:8080/"
        },
        "outputId": "d32f6465-870a-4284-f656-3201e845ff91"
      },
      "execution_count": null,
      "outputs": [
        {
          "output_type": "stream",
          "name": "stdout",
          "text": [
            "Train X shape: (57, 12, 2)\n",
            "Train Y shape: (57,)\n",
            "Test X shape: (39, 12, 2)\n",
            "Test Y shape: (39,)\n"
          ]
        }
      ]
    },
    {
      "cell_type": "code",
      "source": [
        "#Create the RNN model\n",
        "model3 = Sequential()\n",
        "\n",
        "#Add RNN layers with dropout\n",
        "model3.add(SimpleRNN(60,activation=\"tanh\",return_sequences=True, input_shape=(X_train3.shape[1], X_train3.shape[2]))) # Unit = 12,24,36,48 (Bebas)\n",
        "model3.add(SimpleRNN(48,activation=\"tanh\",return_sequences=True))\n",
        "model3.add(SimpleRNN(48,activation=\"tanh\",return_sequences=False))\n",
        "model3.add(Dense(1))\n",
        "\n",
        "model3.compile(optimizer=\"adam\",loss=\"MSE\")\n",
        "model3.summary()"
      ],
      "metadata": {
        "id": "ZSNbxp1ZS7Du",
        "colab": {
          "base_uri": "https://localhost:8080/"
        },
        "outputId": "8b94ac83-8d81-4980-84ee-eb44e520c1a9"
      },
      "execution_count": null,
      "outputs": [
        {
          "output_type": "stream",
          "name": "stdout",
          "text": [
            "Model: \"sequential_2\"\n",
            "_________________________________________________________________\n",
            " Layer (type)                Output Shape              Param #   \n",
            "=================================================================\n",
            " simple_rnn_6 (SimpleRNN)    (None, 12, 60)            3780      \n",
            "                                                                 \n",
            " simple_rnn_7 (SimpleRNN)    (None, 12, 48)            5232      \n",
            "                                                                 \n",
            " simple_rnn_8 (SimpleRNN)    (None, 48)                4656      \n",
            "                                                                 \n",
            " dense_2 (Dense)             (None, 1)                 49        \n",
            "                                                                 \n",
            "=================================================================\n",
            "Total params: 13717 (53.58 KB)\n",
            "Trainable params: 13717 (53.58 KB)\n",
            "Non-trainable params: 0 (0.00 Byte)\n",
            "_________________________________________________________________\n"
          ]
        }
      ]
    },
    {
      "cell_type": "code",
      "source": [
        "# Define callbacks\n",
        "early_stopping3 = EarlyStopping(monitor='val_loss', patience=100, restore_best_weights=True)\n",
        "\n",
        "history3 = model3.fit(X_train3, Y_train3, epochs =100, batch_size = 12, validation_split=0.2,  # Use part of the training data as validation\n",
        "    callbacks=[early_stopping3])"
      ],
      "metadata": {
        "id": "2YOulv4LTLPh",
        "colab": {
          "base_uri": "https://localhost:8080/"
        },
        "outputId": "416c2cfe-ce64-479f-f060-5d41ec740453"
      },
      "execution_count": null,
      "outputs": [
        {
          "output_type": "stream",
          "name": "stdout",
          "text": [
            "Epoch 1/100\n",
            "4/4 [==============================] - 3s 163ms/step - loss: 0.7937 - val_loss: 0.3461\n",
            "Epoch 2/100\n",
            "4/4 [==============================] - 0s 20ms/step - loss: 0.2778 - val_loss: 0.1428\n",
            "Epoch 3/100\n",
            "4/4 [==============================] - 0s 20ms/step - loss: 0.1155 - val_loss: 0.0308\n",
            "Epoch 4/100\n",
            "4/4 [==============================] - 0s 20ms/step - loss: 0.0753 - val_loss: 0.0193\n",
            "Epoch 5/100\n",
            "4/4 [==============================] - 0s 20ms/step - loss: 0.0334 - val_loss: 0.0163\n",
            "Epoch 6/100\n",
            "4/4 [==============================] - 0s 20ms/step - loss: 0.0241 - val_loss: 0.0188\n",
            "Epoch 7/100\n",
            "4/4 [==============================] - 0s 20ms/step - loss: 0.0138 - val_loss: 0.0135\n",
            "Epoch 8/100\n",
            "4/4 [==============================] - 0s 20ms/step - loss: 0.0098 - val_loss: 0.0145\n",
            "Epoch 9/100\n",
            "4/4 [==============================] - 0s 20ms/step - loss: 0.0117 - val_loss: 0.0052\n",
            "Epoch 10/100\n",
            "4/4 [==============================] - 0s 27ms/step - loss: 0.0076 - val_loss: 0.0064\n",
            "Epoch 11/100\n",
            "4/4 [==============================] - 0s 25ms/step - loss: 0.0047 - val_loss: 0.0024\n",
            "Epoch 12/100\n",
            "4/4 [==============================] - 0s 20ms/step - loss: 0.0035 - val_loss: 0.0051\n",
            "Epoch 13/100\n",
            "4/4 [==============================] - 0s 20ms/step - loss: 0.0032 - val_loss: 0.0027\n",
            "Epoch 14/100\n",
            "4/4 [==============================] - 0s 20ms/step - loss: 0.0026 - val_loss: 0.0021\n",
            "Epoch 15/100\n",
            "4/4 [==============================] - 0s 21ms/step - loss: 0.0016 - val_loss: 0.0027\n",
            "Epoch 16/100\n",
            "4/4 [==============================] - 0s 22ms/step - loss: 0.0016 - val_loss: 0.0021\n",
            "Epoch 17/100\n",
            "4/4 [==============================] - 0s 25ms/step - loss: 0.0013 - val_loss: 0.0019\n",
            "Epoch 18/100\n",
            "4/4 [==============================] - 0s 22ms/step - loss: 0.0012 - val_loss: 0.0016\n",
            "Epoch 19/100\n",
            "4/4 [==============================] - 0s 21ms/step - loss: 0.0013 - val_loss: 0.0015\n",
            "Epoch 20/100\n",
            "4/4 [==============================] - 0s 20ms/step - loss: 9.6253e-04 - val_loss: 0.0017\n",
            "Epoch 21/100\n",
            "4/4 [==============================] - 0s 19ms/step - loss: 0.0011 - val_loss: 0.0014\n",
            "Epoch 22/100\n",
            "4/4 [==============================] - 0s 19ms/step - loss: 9.5945e-04 - val_loss: 0.0015\n",
            "Epoch 23/100\n",
            "4/4 [==============================] - 0s 25ms/step - loss: 9.3099e-04 - val_loss: 0.0014\n",
            "Epoch 24/100\n",
            "4/4 [==============================] - 0s 19ms/step - loss: 7.8399e-04 - val_loss: 0.0017\n",
            "Epoch 25/100\n",
            "4/4 [==============================] - 0s 19ms/step - loss: 8.7256e-04 - val_loss: 0.0015\n",
            "Epoch 26/100\n",
            "4/4 [==============================] - 0s 19ms/step - loss: 8.8662e-04 - val_loss: 0.0015\n",
            "Epoch 27/100\n",
            "4/4 [==============================] - 0s 20ms/step - loss: 7.2824e-04 - val_loss: 0.0014\n",
            "Epoch 28/100\n",
            "4/4 [==============================] - 0s 30ms/step - loss: 6.4254e-04 - val_loss: 0.0017\n",
            "Epoch 29/100\n",
            "4/4 [==============================] - 0s 35ms/step - loss: 7.4788e-04 - val_loss: 0.0013\n",
            "Epoch 30/100\n",
            "4/4 [==============================] - 0s 34ms/step - loss: 7.2624e-04 - val_loss: 0.0018\n",
            "Epoch 31/100\n",
            "4/4 [==============================] - 0s 34ms/step - loss: 7.6685e-04 - val_loss: 0.0014\n",
            "Epoch 32/100\n",
            "4/4 [==============================] - 0s 28ms/step - loss: 6.3241e-04 - val_loss: 0.0015\n",
            "Epoch 33/100\n",
            "4/4 [==============================] - 0s 38ms/step - loss: 5.8100e-04 - val_loss: 0.0014\n",
            "Epoch 34/100\n",
            "4/4 [==============================] - 0s 33ms/step - loss: 6.0172e-04 - val_loss: 0.0022\n",
            "Epoch 35/100\n",
            "4/4 [==============================] - 0s 27ms/step - loss: 8.0221e-04 - val_loss: 0.0013\n",
            "Epoch 36/100\n",
            "4/4 [==============================] - 0s 26ms/step - loss: 9.0099e-04 - val_loss: 0.0024\n",
            "Epoch 37/100\n",
            "4/4 [==============================] - 0s 27ms/step - loss: 7.4933e-04 - val_loss: 0.0014\n",
            "Epoch 38/100\n",
            "4/4 [==============================] - 0s 27ms/step - loss: 8.5829e-04 - val_loss: 0.0019\n",
            "Epoch 39/100\n",
            "4/4 [==============================] - 0s 28ms/step - loss: 6.6414e-04 - val_loss: 0.0013\n",
            "Epoch 40/100\n",
            "4/4 [==============================] - 0s 34ms/step - loss: 9.0486e-04 - val_loss: 0.0013\n",
            "Epoch 41/100\n",
            "4/4 [==============================] - 0s 28ms/step - loss: 7.6602e-04 - val_loss: 0.0022\n",
            "Epoch 42/100\n",
            "4/4 [==============================] - 0s 31ms/step - loss: 8.4585e-04 - val_loss: 0.0013\n",
            "Epoch 43/100\n",
            "4/4 [==============================] - 0s 34ms/step - loss: 5.3599e-04 - val_loss: 0.0014\n",
            "Epoch 44/100\n",
            "4/4 [==============================] - 0s 32ms/step - loss: 4.8535e-04 - val_loss: 0.0012\n",
            "Epoch 45/100\n",
            "4/4 [==============================] - 0s 35ms/step - loss: 4.6580e-04 - val_loss: 0.0022\n",
            "Epoch 46/100\n",
            "4/4 [==============================] - 0s 32ms/step - loss: 5.0934e-04 - val_loss: 0.0016\n",
            "Epoch 47/100\n",
            "4/4 [==============================] - 0s 35ms/step - loss: 5.0440e-04 - val_loss: 0.0022\n",
            "Epoch 48/100\n",
            "4/4 [==============================] - 0s 34ms/step - loss: 6.1383e-04 - val_loss: 0.0013\n",
            "Epoch 49/100\n",
            "4/4 [==============================] - 0s 27ms/step - loss: 4.2972e-04 - val_loss: 0.0015\n",
            "Epoch 50/100\n",
            "4/4 [==============================] - 0s 28ms/step - loss: 4.0131e-04 - val_loss: 0.0016\n",
            "Epoch 51/100\n",
            "4/4 [==============================] - 0s 35ms/step - loss: 4.0476e-04 - val_loss: 0.0014\n",
            "Epoch 52/100\n",
            "4/4 [==============================] - 0s 33ms/step - loss: 5.5424e-04 - val_loss: 0.0017\n",
            "Epoch 53/100\n",
            "4/4 [==============================] - 0s 30ms/step - loss: 3.9269e-04 - val_loss: 0.0013\n",
            "Epoch 54/100\n",
            "4/4 [==============================] - 0s 41ms/step - loss: 3.5372e-04 - val_loss: 0.0013\n",
            "Epoch 55/100\n",
            "4/4 [==============================] - 0s 34ms/step - loss: 3.6061e-04 - val_loss: 0.0015\n",
            "Epoch 56/100\n",
            "4/4 [==============================] - 0s 28ms/step - loss: 3.1263e-04 - val_loss: 0.0014\n",
            "Epoch 57/100\n",
            "4/4 [==============================] - 0s 28ms/step - loss: 3.5108e-04 - val_loss: 0.0017\n",
            "Epoch 58/100\n",
            "4/4 [==============================] - 0s 35ms/step - loss: 2.8254e-04 - val_loss: 0.0014\n",
            "Epoch 59/100\n",
            "4/4 [==============================] - 0s 34ms/step - loss: 3.1714e-04 - val_loss: 0.0022\n",
            "Epoch 60/100\n",
            "4/4 [==============================] - 0s 25ms/step - loss: 5.7878e-04 - val_loss: 0.0015\n",
            "Epoch 61/100\n",
            "4/4 [==============================] - 0s 20ms/step - loss: 3.7789e-04 - val_loss: 0.0013\n",
            "Epoch 62/100\n",
            "4/4 [==============================] - 0s 20ms/step - loss: 4.2618e-04 - val_loss: 0.0019\n",
            "Epoch 63/100\n",
            "4/4 [==============================] - 0s 26ms/step - loss: 4.7944e-04 - val_loss: 0.0017\n",
            "Epoch 64/100\n",
            "4/4 [==============================] - 0s 19ms/step - loss: 6.2285e-04 - val_loss: 0.0020\n",
            "Epoch 65/100\n",
            "4/4 [==============================] - 0s 19ms/step - loss: 4.9490e-04 - val_loss: 0.0015\n",
            "Epoch 66/100\n",
            "4/4 [==============================] - 0s 21ms/step - loss: 8.1201e-04 - val_loss: 0.0016\n",
            "Epoch 67/100\n",
            "4/4 [==============================] - 0s 19ms/step - loss: 5.4415e-04 - val_loss: 0.0018\n",
            "Epoch 68/100\n",
            "4/4 [==============================] - 0s 23ms/step - loss: 3.8643e-04 - val_loss: 0.0016\n",
            "Epoch 69/100\n",
            "4/4 [==============================] - 0s 22ms/step - loss: 4.3493e-04 - val_loss: 0.0025\n",
            "Epoch 70/100\n",
            "4/4 [==============================] - 0s 20ms/step - loss: 6.8345e-04 - val_loss: 0.0017\n",
            "Epoch 71/100\n",
            "4/4 [==============================] - 0s 20ms/step - loss: 5.3540e-04 - val_loss: 0.0017\n",
            "Epoch 72/100\n",
            "4/4 [==============================] - 0s 20ms/step - loss: 5.3807e-04 - val_loss: 0.0023\n",
            "Epoch 73/100\n",
            "4/4 [==============================] - 0s 20ms/step - loss: 5.1027e-04 - val_loss: 0.0016\n",
            "Epoch 74/100\n",
            "4/4 [==============================] - 0s 19ms/step - loss: 5.8790e-04 - val_loss: 0.0015\n",
            "Epoch 75/100\n",
            "4/4 [==============================] - 0s 19ms/step - loss: 4.0484e-04 - val_loss: 0.0024\n",
            "Epoch 76/100\n",
            "4/4 [==============================] - 0s 19ms/step - loss: 4.0202e-04 - val_loss: 0.0016\n",
            "Epoch 77/100\n",
            "4/4 [==============================] - 0s 19ms/step - loss: 5.7622e-04 - val_loss: 0.0015\n",
            "Epoch 78/100\n",
            "4/4 [==============================] - 0s 20ms/step - loss: 3.4586e-04 - val_loss: 0.0021\n",
            "Epoch 79/100\n",
            "4/4 [==============================] - 0s 21ms/step - loss: 4.8420e-04 - val_loss: 0.0017\n",
            "Epoch 80/100\n",
            "4/4 [==============================] - 0s 20ms/step - loss: 6.9172e-04 - val_loss: 0.0017\n",
            "Epoch 81/100\n",
            "4/4 [==============================] - 0s 19ms/step - loss: 7.1183e-04 - val_loss: 0.0023\n",
            "Epoch 82/100\n",
            "4/4 [==============================] - 0s 20ms/step - loss: 5.4431e-04 - val_loss: 0.0019\n",
            "Epoch 83/100\n",
            "4/4 [==============================] - 0s 26ms/step - loss: 5.7039e-04 - val_loss: 0.0018\n",
            "Epoch 84/100\n",
            "4/4 [==============================] - 0s 19ms/step - loss: 2.9921e-04 - val_loss: 0.0014\n",
            "Epoch 85/100\n",
            "4/4 [==============================] - 0s 19ms/step - loss: 2.7988e-04 - val_loss: 0.0014\n",
            "Epoch 86/100\n",
            "4/4 [==============================] - 0s 20ms/step - loss: 3.4971e-04 - val_loss: 0.0023\n",
            "Epoch 87/100\n",
            "4/4 [==============================] - 0s 20ms/step - loss: 4.2963e-04 - val_loss: 0.0016\n",
            "Epoch 88/100\n",
            "4/4 [==============================] - 0s 21ms/step - loss: 3.2576e-04 - val_loss: 0.0016\n",
            "Epoch 89/100\n",
            "4/4 [==============================] - 0s 20ms/step - loss: 3.7124e-04 - val_loss: 0.0025\n",
            "Epoch 90/100\n",
            "4/4 [==============================] - 0s 20ms/step - loss: 5.6221e-04 - val_loss: 0.0015\n",
            "Epoch 91/100\n",
            "4/4 [==============================] - 0s 21ms/step - loss: 4.8380e-04 - val_loss: 0.0018\n",
            "Epoch 92/100\n",
            "4/4 [==============================] - 0s 26ms/step - loss: 6.4467e-04 - val_loss: 0.0028\n",
            "Epoch 93/100\n",
            "4/4 [==============================] - 0s 20ms/step - loss: 8.7801e-04 - val_loss: 0.0026\n",
            "Epoch 94/100\n",
            "4/4 [==============================] - 0s 26ms/step - loss: 7.8216e-04 - val_loss: 0.0034\n",
            "Epoch 95/100\n",
            "4/4 [==============================] - 0s 20ms/step - loss: 0.0018 - val_loss: 0.0044\n",
            "Epoch 96/100\n",
            "4/4 [==============================] - 0s 19ms/step - loss: 0.0022 - val_loss: 0.0023\n",
            "Epoch 97/100\n",
            "4/4 [==============================] - 0s 19ms/step - loss: 0.0012 - val_loss: 0.0023\n",
            "Epoch 98/100\n",
            "4/4 [==============================] - 0s 23ms/step - loss: 0.0013 - val_loss: 0.0027\n",
            "Epoch 99/100\n",
            "4/4 [==============================] - 0s 44ms/step - loss: 8.3255e-04 - val_loss: 0.0019\n",
            "Epoch 100/100\n",
            "4/4 [==============================] - 0s 64ms/step - loss: 4.7098e-04 - val_loss: 0.0015\n"
          ]
        }
      ]
    },
    {
      "cell_type": "code",
      "source": [
        "# Extract epoch information\n",
        "epoch_info = pd.DataFrame({\n",
        "    'Epoch': list(range(1, len(history3.history['loss']) + 1)),\n",
        "    'Loss': history3.history['loss'],\n",
        "    'Validation Loss': history3.history['val_loss']\n",
        "})\n",
        "\n",
        "# Display the epoch information table\n",
        "print(\"Epoch Information Table:\")\n",
        "print(epoch_info.to_markdown(index=False))"
      ],
      "metadata": {
        "colab": {
          "base_uri": "https://localhost:8080/"
        },
        "id": "vqGS_CC-OTJ3",
        "outputId": "64a2b9a3-11fc-4f16-ce62-fb6a8924d5f3"
      },
      "execution_count": null,
      "outputs": [
        {
          "output_type": "stream",
          "name": "stdout",
          "text": [
            "Epoch Information Table:\n",
            "|   Epoch |        Loss |   Validation Loss |\n",
            "|--------:|------------:|------------------:|\n",
            "|       1 | 0.793668    |        0.346091   |\n",
            "|       2 | 0.277769    |        0.14281    |\n",
            "|       3 | 0.115512    |        0.0308124  |\n",
            "|       4 | 0.0753449   |        0.0192745  |\n",
            "|       5 | 0.0334291   |        0.0162686  |\n",
            "|       6 | 0.0241353   |        0.0187795  |\n",
            "|       7 | 0.0138377   |        0.0135204  |\n",
            "|       8 | 0.0098297   |        0.0144732  |\n",
            "|       9 | 0.0117112   |        0.00518017 |\n",
            "|      10 | 0.00762958  |        0.00641508 |\n",
            "|      11 | 0.00474253  |        0.00243045 |\n",
            "|      12 | 0.00349297  |        0.00505825 |\n",
            "|      13 | 0.00322458  |        0.00271179 |\n",
            "|      14 | 0.00259699  |        0.0021274  |\n",
            "|      15 | 0.00155318  |        0.0027446  |\n",
            "|      16 | 0.00163099  |        0.00211956 |\n",
            "|      17 | 0.00132142  |        0.00186842 |\n",
            "|      18 | 0.00119243  |        0.00158085 |\n",
            "|      19 | 0.0013344   |        0.00151635 |\n",
            "|      20 | 0.000962529 |        0.00166257 |\n",
            "|      21 | 0.00110153  |        0.00135048 |\n",
            "|      22 | 0.000959448 |        0.00145091 |\n",
            "|      23 | 0.000930987 |        0.0013603  |\n",
            "|      24 | 0.000783987 |        0.0016936  |\n",
            "|      25 | 0.000872564 |        0.00150635 |\n",
            "|      26 | 0.000886616 |        0.001548   |\n",
            "|      27 | 0.000728237 |        0.00144375 |\n",
            "|      28 | 0.00064254  |        0.00172775 |\n",
            "|      29 | 0.000747882 |        0.00130936 |\n",
            "|      30 | 0.000726245 |        0.00176169 |\n",
            "|      31 | 0.000766847 |        0.00142189 |\n",
            "|      32 | 0.000632412 |        0.00145912 |\n",
            "|      33 | 0.000581001 |        0.00141213 |\n",
            "|      34 | 0.000601718 |        0.00222767 |\n",
            "|      35 | 0.000802207 |        0.00130757 |\n",
            "|      36 | 0.000900987 |        0.00240544 |\n",
            "|      37 | 0.000749332 |        0.00136716 |\n",
            "|      38 | 0.00085829  |        0.00187695 |\n",
            "|      39 | 0.000664138 |        0.00128622 |\n",
            "|      40 | 0.000904859 |        0.0013281  |\n",
            "|      41 | 0.000766017 |        0.00217792 |\n",
            "|      42 | 0.000845855 |        0.00133123 |\n",
            "|      43 | 0.000535986 |        0.00143367 |\n",
            "|      44 | 0.000485354 |        0.00124828 |\n",
            "|      45 | 0.000465799 |        0.00221635 |\n",
            "|      46 | 0.000509341 |        0.00156963 |\n",
            "|      47 | 0.000504401 |        0.00219803 |\n",
            "|      48 | 0.000613835 |        0.0013351  |\n",
            "|      49 | 0.000429721 |        0.00146731 |\n",
            "|      50 | 0.000401312 |        0.00164964 |\n",
            "|      51 | 0.000404764 |        0.00135002 |\n",
            "|      52 | 0.000554237 |        0.001676   |\n",
            "|      53 | 0.000392692 |        0.00131354 |\n",
            "|      54 | 0.000353718 |        0.00134486 |\n",
            "|      55 | 0.000360614 |        0.00147874 |\n",
            "|      56 | 0.000312627 |        0.00137629 |\n",
            "|      57 | 0.000351082 |        0.00169302 |\n",
            "|      58 | 0.000282545 |        0.00137375 |\n",
            "|      59 | 0.000317137 |        0.00223441 |\n",
            "|      60 | 0.000578782 |        0.00149068 |\n",
            "|      61 | 0.000377888 |        0.00132794 |\n",
            "|      62 | 0.00042618  |        0.00186683 |\n",
            "|      63 | 0.000479439 |        0.00168533 |\n",
            "|      64 | 0.000622845 |        0.00200909 |\n",
            "|      65 | 0.000494899 |        0.00153445 |\n",
            "|      66 | 0.000812011 |        0.0015756  |\n",
            "|      67 | 0.00054415  |        0.00184335 |\n",
            "|      68 | 0.000386432 |        0.00164155 |\n",
            "|      69 | 0.00043493  |        0.00245315 |\n",
            "|      70 | 0.000683452 |        0.00165188 |\n",
            "|      71 | 0.000535398 |        0.00169118 |\n",
            "|      72 | 0.000538066 |        0.00225839 |\n",
            "|      73 | 0.000510275 |        0.00156215 |\n",
            "|      74 | 0.000587901 |        0.00154629 |\n",
            "|      75 | 0.000404839 |        0.00240866 |\n",
            "|      76 | 0.000402019 |        0.00156491 |\n",
            "|      77 | 0.000576224 |        0.00151034 |\n",
            "|      78 | 0.000345861 |        0.00212841 |\n",
            "|      79 | 0.000484205 |        0.00173497 |\n",
            "|      80 | 0.00069172  |        0.00171979 |\n",
            "|      81 | 0.000711829 |        0.00230843 |\n",
            "|      82 | 0.000544314 |        0.00186809 |\n",
            "|      83 | 0.000570392 |        0.00177654 |\n",
            "|      84 | 0.000299214 |        0.00142654 |\n",
            "|      85 | 0.000279883 |        0.00139942 |\n",
            "|      86 | 0.000349708 |        0.00227047 |\n",
            "|      87 | 0.000429626 |        0.00155296 |\n",
            "|      88 | 0.000325759 |        0.00160383 |\n",
            "|      89 | 0.00037124  |        0.00245851 |\n",
            "|      90 | 0.000562207 |        0.00152657 |\n",
            "|      91 | 0.0004838   |        0.0017786  |\n",
            "|      92 | 0.000644667 |        0.00276252 |\n",
            "|      93 | 0.000878011 |        0.00256182 |\n",
            "|      94 | 0.000782164 |        0.00338872 |\n",
            "|      95 | 0.00182527  |        0.0044111  |\n",
            "|      96 | 0.00215077  |        0.00228184 |\n",
            "|      97 | 0.00117235  |        0.00229069 |\n",
            "|      98 | 0.0013302   |        0.00271516 |\n",
            "|      99 | 0.000832553 |        0.0018596  |\n",
            "|     100 | 0.00047098  |        0.00152384 |\n"
          ]
        }
      ]
    },
    {
      "cell_type": "code",
      "source": [
        "# Plot training & validation loss values\n",
        "plt.plot(history3.history['loss'])\n",
        "plt.plot(history3.history['val_loss'])\n",
        "plt.title('Model Loss')\n",
        "plt.xlabel('Epoch')\n",
        "plt.ylabel('Loss')\n",
        "plt.legend(['Train', 'Validation'], loc='upper right')\n",
        "#plt.show()"
      ],
      "metadata": {
        "id": "niIR3tZITUSf",
        "colab": {
          "base_uri": "https://localhost:8080/",
          "height": 489
        },
        "outputId": "f8add7f3-6d65-4e73-be01-4c80c8150cfc"
      },
      "execution_count": null,
      "outputs": [
        {
          "output_type": "execute_result",
          "data": {
            "text/plain": [
              "<matplotlib.legend.Legend at 0x7e1eb67ef190>"
            ]
          },
          "metadata": {},
          "execution_count": 38
        },
        {
          "output_type": "display_data",
          "data": {
            "text/plain": [
              "<Figure size 640x480 with 1 Axes>"
            ],
            "image/png": "[encoded data removed]"
          },
          "metadata": {}
        }
      ]
    },
    {
      "cell_type": "code",
      "source": [
        "n_past3 = 1\n",
        "n_month_for_prediction3 = 12\n",
        "predict_period_month3 = pd.date_range(list(train_datetime)[-n_past3], periods=n_month_for_prediction3, freq='M').tolist()\n",
        "print(predict_period_month3)"
      ],
      "metadata": {
        "id": "aI5xbkasThAv",
        "colab": {
          "base_uri": "https://localhost:8080/"
        },
        "outputId": "13915271-1f31-4ade-af20-a5e4381a8721"
      },
      "execution_count": null,
      "outputs": [
        {
          "output_type": "stream",
          "name": "stdout",
          "text": [
            "[Timestamp('2022-12-31 00:00:00', freq='M'), Timestamp('2023-01-31 00:00:00', freq='M'), Timestamp('2023-02-28 00:00:00', freq='M'), Timestamp('2023-03-31 00:00:00', freq='M'), Timestamp('2023-04-30 00:00:00', freq='M'), Timestamp('2023-05-31 00:00:00', freq='M'), Timestamp('2023-06-30 00:00:00', freq='M'), Timestamp('2023-07-31 00:00:00', freq='M'), Timestamp('2023-08-31 00:00:00', freq='M'), Timestamp('2023-09-30 00:00:00', freq='M'), Timestamp('2023-10-31 00:00:00', freq='M'), Timestamp('2023-11-30 00:00:00', freq='M')]\n"
          ]
        }
      ]
    },
    {
      "cell_type": "code",
      "source": [
        "prediction3= model3.predict(X_train3[-n_month_for_prediction:])\n",
        "mse3 = mean_squared_error(Y_train3[-n_month_for_prediction:], prediction3)\n",
        "fmape3 = np.mean(np.abs((mse3) / prediction3)) * 100\n",
        "mape3 = f\"{(fmape3*100):.2f}%\"\n",
        "mae3 = np.mean(np.abs((mse3) / prediction3))\n",
        "\n",
        "print(\"MSE:\", mse3)\n",
        "print(\"MAPE:\", mape3)\n",
        "print(\"MAE:\", mae3)\n",
        "\n"
      ],
      "metadata": {
        "id": "SVmzuyVHToQz",
        "colab": {
          "base_uri": "https://localhost:8080/"
        },
        "outputId": "1514c768-cf31-46fa-bf5d-2f64dccb7baa"
      },
      "execution_count": null,
      "outputs": [
        {
          "output_type": "stream",
          "name": "stdout",
          "text": [
            "1/1 [==============================] - 1s 570ms/step\n",
            "MSE: 0.0015238387391252391\n",
            "MAPE: 18.15%\n",
            "MAE: 0.0018147641\n"
          ]
        }
      ]
    },
    {
      "cell_type": "code",
      "source": [
        "prediction_copies3 = np.repeat(prediction3, data_training.shape[1], axis=-1)\n",
        "y_pred_future3 = scaler.inverse_transform(prediction_copies3)[:,0]"
      ],
      "metadata": {
        "id": "a6BL5n_LUMB-"
      },
      "execution_count": null,
      "outputs": []
    },
    {
      "cell_type": "code",
      "source": [
        "forecast_dates3 = []\n",
        "\n",
        "for time_i in predict_period_month3:\n",
        "    forecast_dates3.append(time_i.date())\n",
        "\n",
        "df_forecast3 = pd.DataFrame({'Date': forecast_dates3, 'total_visitor': y_pred_future3})\n",
        "df_forecast3['date'] = pd.to_datetime(df_forecast3['Date'])\n",
        "\n",
        "# Assuming 'original' contains the original data with 'Datetime' and 'jumlah_penderita' columns\n",
        "original = data_original[['datetime', 'total_visitor']]\n",
        "original['datetime'] = pd.to_datetime(original['datetime'])\n",
        "original = original.loc[original['datetime'] >= '2014-01-01']\n",
        "\n",
        "sns.lineplot(data=original, x='datetime', y='total_visitor', label='Original')\n",
        "sns.lineplot(data=df_forecast3, x='date', y='total_visitor', label='Forecast')\n",
        "\n",
        "plt.xlabel('Year')\n",
        "plt.ylabel('total visitor')\n",
        "plt.title('Forecasted Data 1 Year with 60:40 split')\n",
        "plt.legend()\n",
        "plt.show()\n",
        "\n",
        "# Generate the forecast dates from January 2023 to December 2023\n",
        "forecast_dates3 = pd.date_range(start='2023-01-01', end='2023-12-01', freq='MS')\n",
        "\n",
        "# Create a list of forecast dates and prediction values\n",
        "data = list(zip(forecast_dates3, y_pred_future3))"
      ],
      "metadata": {
        "id": "HxSnWdUxUZ4y",
        "colab": {
          "base_uri": "https://localhost:8080/",
          "height": 576
        },
        "outputId": "37397c9d-832a-45d8-d37d-822df25b5064"
      },
      "execution_count": null,
      "outputs": [
        {
          "output_type": "stream",
          "name": "stderr",
          "text": [
            "<ipython-input-42-7b82ce271e08>:11: SettingWithCopyWarning: \n",
            "A value is trying to be set on a copy of a slice from a DataFrame.\n",
            "Try using .loc[row_indexer,col_indexer] = value instead\n",
            "\n",
            "See the caveats in the documentation: https://pandas.pydata.org/pandas-docs/stable/user_guide/indexing.html#returning-a-view-versus-a-copy\n",
            "  original['datetime'] = pd.to_datetime(original['datetime'])\n"
          ]
        },
        {
          "output_type": "display_data",
          "data": {
            "text/plain": [
              "<Figure size 640x480 with 1 Axes>"
            ],
            "image/png": "[encoded data removed]"
          },
          "metadata": {}
        }
      ]
    },
    {
      "cell_type": "code",
      "source": [
        "# Create a list of forecast dates and prediction values\n",
        "data3 = list(zip(forecast_dates3, y_pred_future3))\n",
        "\n",
        "# Create a list of headers for the table\n",
        "headers = ['Date', 'Prediction']\n",
        "table3 = tabulate(data3, headers=headers, tablefmt='fancy_grid')\n",
        "# Print the table\n",
        "print(\"Hasil Forecast RNN scenario 3\")\n",
        "print(table3)"
      ],
      "metadata": {
        "id": "AAAfgHj-UtPZ",
        "colab": {
          "base_uri": "https://localhost:8080/"
        },
        "outputId": "cdc0786f-6094-40dc-c853-eaa6713ec1f5"
      },
      "execution_count": null,
      "outputs": [
        {
          "output_type": "stream",
          "name": "stdout",
          "text": [
            "Hasil Forecast RNN scenario 3\n",
            "╒═════════════════════╤══════════════╕\n",
            "│ Date                │   Prediction │\n",
            "╞═════════════════════╪══════════════╡\n",
            "│ 2023-01-01 00:00:00 │      42258.8 │\n",
            "├─────────────────────┼──────────────┤\n",
            "│ 2023-02-01 00:00:00 │      89448.6 │\n",
            "├─────────────────────┼──────────────┤\n",
            "│ 2023-03-01 00:00:00 │     271773   │\n",
            "├─────────────────────┼──────────────┤\n",
            "│ 2023-04-01 00:00:00 │     242503   │\n",
            "├─────────────────────┼──────────────┤\n",
            "│ 2023-05-01 00:00:00 │     269644   │\n",
            "├─────────────────────┼──────────────┤\n",
            "│ 2023-06-01 00:00:00 │     262014   │\n",
            "├─────────────────────┼──────────────┤\n",
            "│ 2023-07-01 00:00:00 │      84270.8 │\n",
            "├─────────────────────┼──────────────┤\n",
            "│ 2023-08-01 00:00:00 │     212092   │\n",
            "├─────────────────────┼──────────────┤\n",
            "│ 2023-09-01 00:00:00 │     245707   │\n",
            "├─────────────────────┼──────────────┤\n",
            "│ 2023-10-01 00:00:00 │      68103.7 │\n",
            "├─────────────────────┼──────────────┤\n",
            "│ 2023-11-01 00:00:00 │     290956   │\n",
            "├─────────────────────┼──────────────┤\n",
            "│ 2023-12-01 00:00:00 │     177836   │\n",
            "╘═════════════════════╧══════════════╛\n"
          ]
        }
      ]
    },
    {
      "cell_type": "markdown",
      "source": [
        "#Comparison and conclusion"
      ],
      "metadata": {
        "id": "qznW7kBOWwlt"
      }
    },
    {
      "cell_type": "code",
      "source": [
        "\n",
        "# Define the data for each scenario\n",
        "comparison_error = [\n",
        "    {\n",
        "        'Scenario': 'Scenario 1',\n",
        "        'Model': 'RNN',\n",
        "        'MAPE': mape,\n",
        "        'MAE': mae,\n",
        "        'MSE': mse,\n",
        "    },\n",
        "    {\n",
        "        'Scenario': 'Scenario 2',\n",
        "        'Model': 'RNN',\n",
        "        'MAPE': mape2,\n",
        "        'MAE': mae2,\n",
        "        'MSE': mse2,\n",
        "    },\n",
        "    {\n",
        "        'Scenario': 'Scenario 3',\n",
        "        'Model': 'RNN',\n",
        "        'MAPE': mape3,\n",
        "        'MAE': mae3,\n",
        "        'MSE': mse3,\n",
        "    }\n",
        "]\n",
        "\n",
        "# Create a DataFrame from the scenario data\n",
        "df = pd.DataFrame(comparison_error)\n",
        "\n",
        "# Convert DataFrame to a list of rows\n",
        "rows = df.values.tolist()\n",
        "\n",
        "# Create a list of headers\n",
        "headers = df.columns.tolist()\n",
        "\n",
        "# Generate the table\n",
        "table = tabulate(rows, headers=headers, tablefmt='fancy_grid')\n",
        "\n",
        "# Print the table\n",
        "print(table)"
      ],
      "metadata": {
        "id": "BbDAPi1NVGHq",
        "colab": {
          "base_uri": "https://localhost:8080/"
        },
        "outputId": "c2cd3180-12d5-4d69-ce5d-eba951566256"
      },
      "execution_count": null,
      "outputs": [
        {
          "output_type": "stream",
          "name": "stdout",
          "text": [
            "╒════════════╤═════════╤════════╤════════════╤════════════╕\n",
            "│ Scenario   │ Model   │ MAPE   │        MAE │        MSE │\n",
            "╞════════════╪═════════╪════════╪════════════╪════════════╡\n",
            "│ Scenario 1 │ RNN     │ 12.09% │ 0.00120904 │ 0.0010341  │\n",
            "├────────────┼─────────┼────────┼────────────┼────────────┤\n",
            "│ Scenario 2 │ RNN     │ 43.23% │ 0.00432346 │ 0.00400133 │\n",
            "├────────────┼─────────┼────────┼────────────┼────────────┤\n",
            "│ Scenario 3 │ RNN     │ 18.15% │ 0.00181476 │ 0.00152384 │\n",
            "╘════════════╧═════════╧════════╧════════════╧════════════╛\n"
          ]
        }
      ]
    },
    {
      "cell_type": "code",
      "source": [
        "# Plot the wider graph\n",
        "plt.figure(figsize=(18, 6))\n",
        "sns.lineplot(data=original, x='datetime', y='total_visitor', label='Original')\n",
        "sns.lineplot(data=df_forecast, x='date', y='total_visitor', label='Scenario 1')\n",
        "sns.lineplot(data=df_forecast2, x='date', y='total_visitor', label='Scenario 2')\n",
        "sns.lineplot(data=df_forecast3, x='date', y='total_visitor', label='Scenario 3')\n",
        "\n",
        "plt.xlabel('Year')\n",
        "plt.ylabel('Total Visitor')\n",
        "plt.title('Comparison of Forecasted Data with the Original Data')\n",
        "plt.legend()\n",
        "plt.show()\n"
      ],
      "metadata": {
        "id": "ie07PGs4VHdR",
        "colab": {
          "base_uri": "https://localhost:8080/",
          "height": 564
        },
        "outputId": "fc293303-b0e7-4454-bd11-b43b56cd1b72"
      },
      "execution_count": null,
      "outputs": [
        {
          "output_type": "display_data",
          "data": {
            "text/plain": [
              "<Figure size 1800x600 with 1 Axes>"
            ],
            "image/png": "[encoded data removed]"
          },
          "metadata": {}
        }
      ]
    }
  ]
}