{
  "cells": [
    {
      "cell_type": "markdown",
      "metadata": {
        "id": "xd1N3RoSoQOS"
      },
      "source": [
        "# Import Library and Dataset"
      ]
    },
    {
      "cell_type": "code",
      "execution_count": null,
      "metadata": {
        "id": "fEBvIN3BoVZ1"
      },
      "outputs": [],
      "source": [
        "import pandas as pd\n",
        "import numpy as np\n",
        "import sklearn\n",
        "import seaborn as sns\n",
        "import sklearn.metrics as sm\n",
        "import matplotlib.pyplot as plt\n",
        "from sklearn.model_selection import GridSearchCV\n",
        "from sklearn.svm import SVR\n",
        "from sklearn.model_selection import train_test_split\n",
        "from sklearn.preprocessing import StandardScaler\n",
        "from sklearn.metrics import mean_squared_error, mean_absolute_error\n",
        "from tabulate import tabulate\n",
        "from sklearn.preprocessing import MinMaxScaler"
      ]
    },
    {
      "cell_type": "code",
      "execution_count": null,
      "metadata": {
        "colab": {
          "base_uri": "https://localhost:8080/",
          "height": 73
        },
        "id": "cP93c8sFVa0U",
        "outputId": "fe0445b7-9b6c-4d16-aa2e-53be506c61c6"
      },
      "outputs": [
        {
          "output_type": "display_data",
          "data": {
            "text/plain": [
              "<IPython.core.display.HTML object>"
            ],
            "text/html": [
              "\n",
              "     <input type=\"file\" id=\"files-bd1f3f06-92b6-4aa1-858e-0557aa2ce444\" name=\"files[]\" multiple disabled\n",
              "        style=\"border:none\" />\n",
              "     <output id=\"result-bd1f3f06-92b6-4aa1-858e-0557aa2ce444\">\n",
              "      Upload widget is only available when the cell has been executed in the\n",
              "      current browser session. Please rerun this cell to enable.\n",
              "      </output>\n",
              "      <script>// Copyright 2017 Google LLC\n",
              "//\n",
              "// Licensed under the Apache License, Version 2.0 (the \"License\");\n",
              "// you may not use this file except in compliance with the License.\n",
              "// You may obtain a copy of the License at\n",
              "//\n",
              "//      http://www.apache.org/licenses/LICENSE-2.0\n",
              "//\n",
              "// Unless required by applicable law or agreed to in writing, software\n",
              "// distributed under the License is distributed on an \"AS IS\" BASIS,\n",
              "// WITHOUT WARRANTIES OR CONDITIONS OF ANY KIND, either express or implied.\n",
              "// See the License for the specific language governing permissions and\n",
              "// limitations under the License.\n",
              "\n",
              "/**\n",
              " * @fileoverview Helpers for google.colab Python module.\n",
              " */\n",
              "(function(scope) {\n",
              "function span(text, styleAttributes = {}) {\n",
              "  const element = document.createElement('span');\n",
              "  element.textContent = text;\n",
              "  for (const key of Object.keys(styleAttributes)) {\n",
              "    element.style[key] = styleAttributes[key];\n",
              "  }\n",
              "  return element;\n",
              "}\n",
              "\n",
              "// Max number of bytes which will be uploaded at a time.\n",
              "const MAX_PAYLOAD_SIZE = 100 * 1024;\n",
              "\n",
              "function _uploadFiles(inputId, outputId) {\n",
              "  const steps = uploadFilesStep(inputId, outputId);\n",
              "  const outputElement = document.getElementById(outputId);\n",
              "  // Cache steps on the outputElement to make it available for the next call\n",
              "  // to uploadFilesContinue from Python.\n",
              "  outputElement.steps = steps;\n",
              "\n",
              "  return _uploadFilesContinue(outputId);\n",
              "}\n",
              "\n",
              "// This is roughly an async generator (not supported in the browser yet),\n",
              "// where there are multiple asynchronous steps and the Python side is going\n",
              "// to poll for completion of each step.\n",
              "// This uses a Promise to block the python side on completion of each step,\n",
              "// then passes the result of the previous step as the input to the next step.\n",
              "function _uploadFilesContinue(outputId) {\n",
              "  const outputElement = document.getElementById(outputId);\n",
              "  const steps = outputElement.steps;\n",
              "\n",
              "  const next = steps.next(outputElement.lastPromiseValue);\n",
              "  return Promise.resolve(next.value.promise).then((value) => {\n",
              "    // Cache the last promise value to make it available to the next\n",
              "    // step of the generator.\n",
              "    outputElement.lastPromiseValue = value;\n",
              "    return next.value.response;\n",
              "  });\n",
              "}\n",
              "\n",
              "/**\n",
              " * Generator function which is called between each async step of the upload\n",
              " * process.\n",
              " * @param {string} inputId Element ID of the input file picker element.\n",
              " * @param {string} outputId Element ID of the output display.\n",
              " * @return {!Iterable<!Object>} Iterable of next steps.\n",
              " */\n",
              "function* uploadFilesStep(inputId, outputId) {\n",
              "  const inputElement = document.getElementById(inputId);\n",
              "  inputElement.disabled = false;\n",
              "\n",
              "  const outputElement = document.getElementById(outputId);\n",
              "  outputElement.innerHTML = '';\n",
              "\n",
              "  const pickedPromise = new Promise((resolve) => {\n",
              "    inputElement.addEventListener('change', (e) => {\n",
              "      resolve(e.target.files);\n",
              "    });\n",
              "  });\n",
              "\n",
              "  const cancel = document.createElement('button');\n",
              "  inputElement.parentElement.appendChild(cancel);\n",
              "  cancel.textContent = 'Cancel upload';\n",
              "  const cancelPromise = new Promise((resolve) => {\n",
              "    cancel.onclick = () => {\n",
              "      resolve(null);\n",
              "    };\n",
              "  });\n",
              "\n",
              "  // Wait for the user to pick the files.\n",
              "  const files = yield {\n",
              "    promise: Promise.race([pickedPromise, cancelPromise]),\n",
              "    response: {\n",
              "      action: 'starting',\n",
              "    }\n",
              "  };\n",
              "\n",
              "  cancel.remove();\n",
              "\n",
              "  // Disable the input element since further picks are not allowed.\n",
              "  inputElement.disabled = true;\n",
              "\n",
              "  if (!files) {\n",
              "    return {\n",
              "      response: {\n",
              "        action: 'complete',\n",
              "      }\n",
              "    };\n",
              "  }\n",
              "\n",
              "  for (const file of files) {\n",
              "    const li = document.createElement('li');\n",
              "    li.append(span(file.name, {fontWeight: 'bold'}));\n",
              "    li.append(span(\n",
              "        `(${file.type || 'n/a'}) - ${file.size} bytes, ` +\n",
              "        `last modified: ${\n",
              "            file.lastModifiedDate ? file.lastModifiedDate.toLocaleDateString() :\n",
              "                                    'n/a'} - `));\n",
              "    const percent = span('0% done');\n",
              "    li.appendChild(percent);\n",
              "\n",
              "    outputElement.appendChild(li);\n",
              "\n",
              "    const fileDataPromise = new Promise((resolve) => {\n",
              "      const reader = new FileReader();\n",
              "      reader.onload = (e) => {\n",
              "        resolve(e.target.result);\n",
              "      };\n",
              "      reader.readAsArrayBuffer(file);\n",
              "    });\n",
              "    // Wait for the data to be ready.\n",
              "    let fileData = yield {\n",
              "      promise: fileDataPromise,\n",
              "      response: {\n",
              "        action: 'continue',\n",
              "      }\n",
              "    };\n",
              "\n",
              "    // Use a chunked sending to avoid message size limits. See b/62115660.\n",
              "    let position = 0;\n",
              "    do {\n",
              "      const length = Math.min(fileData.byteLength - position, MAX_PAYLOAD_SIZE);\n",
              "      const chunk = new Uint8Array(fileData, position, length);\n",
              "      position += length;\n",
              "\n",
              "      const base64 = btoa(String.fromCharCode.apply(null, chunk));\n",
              "      yield {\n",
              "        response: {\n",
              "          action: 'append',\n",
              "          file: file.name,\n",
              "          data: base64,\n",
              "        },\n",
              "      };\n",
              "\n",
              "      let percentDone = fileData.byteLength === 0 ?\n",
              "          100 :\n",
              "          Math.round((position / fileData.byteLength) * 100);\n",
              "      percent.textContent = `${percentDone}% done`;\n",
              "\n",
              "    } while (position < fileData.byteLength);\n",
              "  }\n",
              "\n",
              "  // All done.\n",
              "  yield {\n",
              "    response: {\n",
              "      action: 'complete',\n",
              "    }\n",
              "  };\n",
              "}\n",
              "\n",
              "scope.google = scope.google || {};\n",
              "scope.google.colab = scope.google.colab || {};\n",
              "scope.google.colab._files = {\n",
              "  _uploadFiles,\n",
              "  _uploadFilesContinue,\n",
              "};\n",
              "})(self);\n",
              "</script> "
            ]
          },
          "metadata": {}
        },
        {
          "output_type": "stream",
          "name": "stdout",
          "text": [
            "Saving Jakarta 2015 - 2022.csv to Jakarta 2015 - 2022.csv\n"
          ]
        }
      ],
      "source": [
        "#import files\n",
        "from google.colab import files\n",
        "uploaded = files.upload()"
      ]
    },
    {
      "cell_type": "markdown",
      "metadata": {
        "id": "8Rr2Psdvo_YQ"
      },
      "source": [
        "# Load and preprocessing data"
      ]
    },
    {
      "cell_type": "code",
      "execution_count": null,
      "metadata": {
        "id": "BssucbufVhor",
        "colab": {
          "base_uri": "https://localhost:8080/",
          "height": 394
        },
        "outputId": "d1015ce6-265d-4114-b470-b272c2cc884b"
      },
      "outputs": [
        {
          "output_type": "execute_result",
          "data": {
            "text/plain": [
              "            total_visitor  total_accomodation\n",
              "datetime                                     \n",
              "2014-01-01         193017               16332\n",
              "2014-02-01         185851               17101\n",
              "2014-03-01         204004               17438\n",
              "2014-04-01         186373               17943\n",
              "2014-05-01         190716               18123\n",
              "2014-06-01         213950               18293\n",
              "2014-07-01         173914               18592\n",
              "2014-08-01         224492               18872\n",
              "2014-09-01         179723               19102\n",
              "2014-10-01         184012               19282"
            ],
            "text/html": [
              "\n",
              "  <div id=\"df-47c4e7dc-3ceb-48c6-b3bd-cc38d5672559\" class=\"colab-df-container\">\n",
              "    <div>\n",
              "<style scoped>\n",
              "    .dataframe tbody tr th:only-of-type {\n",
              "        vertical-align: middle;\n",
              "    }\n",
              "\n",
              "    .dataframe tbody tr th {\n",
              "        vertical-align: top;\n",
              "    }\n",
              "\n",
              "    .dataframe thead th {\n",
              "        text-align: right;\n",
              "    }\n",
              "</style>\n",
              "<table border=\"1\" class=\"dataframe\">\n",
              "  <thead>\n",
              "    <tr style=\"text-align: right;\">\n",
              "      <th></th>\n",
              "      <th>total_visitor</th>\n",
              "      <th>total_accomodation</th>\n",
              "    </tr>\n",
              "    <tr>\n",
              "      <th>datetime</th>\n",
              "      <th></th>\n",
              "      <th></th>\n",
              "    </tr>\n",
              "  </thead>\n",
              "  <tbody>\n",
              "    <tr>\n",
              "      <th>2014-01-01</th>\n",
              "      <td>193017</td>\n",
              "      <td>16332</td>\n",
              "    </tr>\n",
              "    <tr>\n",
              "      <th>2014-02-01</th>\n",
              "      <td>185851</td>\n",
              "      <td>17101</td>\n",
              "    </tr>\n",
              "    <tr>\n",
              "      <th>2014-03-01</th>\n",
              "      <td>204004</td>\n",
              "      <td>17438</td>\n",
              "    </tr>\n",
              "    <tr>\n",
              "      <th>2014-04-01</th>\n",
              "      <td>186373</td>\n",
              "      <td>17943</td>\n",
              "    </tr>\n",
              "    <tr>\n",
              "      <th>2014-05-01</th>\n",
              "      <td>190716</td>\n",
              "      <td>18123</td>\n",
              "    </tr>\n",
              "    <tr>\n",
              "      <th>2014-06-01</th>\n",
              "      <td>213950</td>\n",
              "      <td>18293</td>\n",
              "    </tr>\n",
              "    <tr>\n",
              "      <th>2014-07-01</th>\n",
              "      <td>173914</td>\n",
              "      <td>18592</td>\n",
              "    </tr>\n",
              "    <tr>\n",
              "      <th>2014-08-01</th>\n",
              "      <td>224492</td>\n",
              "      <td>18872</td>\n",
              "    </tr>\n",
              "    <tr>\n",
              "      <th>2014-09-01</th>\n",
              "      <td>179723</td>\n",
              "      <td>19102</td>\n",
              "    </tr>\n",
              "    <tr>\n",
              "      <th>2014-10-01</th>\n",
              "      <td>184012</td>\n",
              "      <td>19282</td>\n",
              "    </tr>\n",
              "  </tbody>\n",
              "</table>\n",
              "</div>\n",
              "    <div class=\"colab-df-buttons\">\n",
              "\n",
              "  <div class=\"colab-df-container\">\n",
              "    <button class=\"colab-df-convert\" onclick=\"convertToInteractive('df-47c4e7dc-3ceb-48c6-b3bd-cc38d5672559')\"\n",
              "            title=\"Convert this dataframe to an interactive table.\"\n",
              "            style=\"display:none;\">\n",
              "\n",
              "  <svg xmlns=\"http://www.w3.org/2000/svg\" height=\"24px\" viewBox=\"0 -960 960 960\">\n",
              "    <path d=\"M120-120v-720h720v720H120Zm60-500h600v-160H180v160Zm220 220h160v-160H400v160Zm0 220h160v-160H400v160ZM180-400h160v-160H180v160Zm440 0h160v-160H620v160ZM180-180h160v-160H180v160Zm440 0h160v-160H620v160Z\"/>\n",
              "  </svg>\n",
              "    </button>\n",
              "\n",
              "  <style>\n",
              "    .colab-df-container {\n",
              "      display:flex;\n",
              "      gap: 12px;\n",
              "    }\n",
              "\n",
              "    .colab-df-convert {\n",
              "      background-color: #E8F0FE;\n",
              "      border: none;\n",
              "      border-radius: 50%;\n",
              "      cursor: pointer;\n",
              "      display: none;\n",
              "      fill: #1967D2;\n",
              "      height: 32px;\n",
              "      padding: 0 0 0 0;\n",
              "      width: 32px;\n",
              "    }\n",
              "\n",
              "    .colab-df-convert:hover {\n",
              "      background-color: #E2EBFA;\n",
              "      box-shadow: 0px 1px 2px rgba(60, 64, 67, 0.3), 0px 1px 3px 1px rgba(60, 64, 67, 0.15);\n",
              "      fill: #174EA6;\n",
              "    }\n",
              "\n",
              "    .colab-df-buttons div {\n",
              "      margin-bottom: 4px;\n",
              "    }\n",
              "\n",
              "    [theme=dark] .colab-df-convert {\n",
              "      background-color: #3B4455;\n",
              "      fill: #D2E3FC;\n",
              "    }\n",
              "\n",
              "    [theme=dark] .colab-df-convert:hover {\n",
              "      background-color: #434B5C;\n",
              "      box-shadow: 0px 1px 3px 1px rgba(0, 0, 0, 0.15);\n",
              "      filter: drop-shadow(0px 1px 2px rgba(0, 0, 0, 0.3));\n",
              "      fill: #FFFFFF;\n",
              "    }\n",
              "  </style>\n",
              "\n",
              "    <script>\n",
              "      const buttonEl =\n",
              "        document.querySelector('#df-47c4e7dc-3ceb-48c6-b3bd-cc38d5672559 button.colab-df-convert');\n",
              "      buttonEl.style.display =\n",
              "        google.colab.kernel.accessAllowed ? 'block' : 'none';\n",
              "\n",
              "      async function convertToInteractive(key) {\n",
              "        const element = document.querySelector('#df-47c4e7dc-3ceb-48c6-b3bd-cc38d5672559');\n",
              "        const dataTable =\n",
              "          await google.colab.kernel.invokeFunction('convertToInteractive',\n",
              "                                                    [key], {});\n",
              "        if (!dataTable) return;\n",
              "\n",
              "        const docLinkHtml = 'Like what you see? Visit the ' +\n",
              "          '<a target=\"_blank\" href=https://colab.research.google.com/notebooks/data_table.ipynb>data table notebook</a>'\n",
              "          + ' to learn more about interactive tables.';\n",
              "        element.innerHTML = '';\n",
              "        dataTable['output_type'] = 'display_data';\n",
              "        await google.colab.output.renderOutput(dataTable, element);\n",
              "        const docLink = document.createElement('div');\n",
              "        docLink.innerHTML = docLinkHtml;\n",
              "        element.appendChild(docLink);\n",
              "      }\n",
              "    </script>\n",
              "  </div>\n",
              "\n",
              "\n",
              "<div id=\"df-c8bf21fe-b03a-400d-a8b6-859f867e5442\">\n",
              "  <button class=\"colab-df-quickchart\" onclick=\"quickchart('df-c8bf21fe-b03a-400d-a8b6-859f867e5442')\"\n",
              "            title=\"Suggest charts\"\n",
              "            style=\"display:none;\">\n",
              "\n",
              "<svg xmlns=\"http://www.w3.org/2000/svg\" height=\"24px\"viewBox=\"0 0 24 24\"\n",
              "     width=\"24px\">\n",
              "    <g>\n",
              "        <path d=\"M19 3H5c-1.1 0-2 .9-2 2v14c0 1.1.9 2 2 2h14c1.1 0 2-.9 2-2V5c0-1.1-.9-2-2-2zM9 17H7v-7h2v7zm4 0h-2V7h2v10zm4 0h-2v-4h2v4z\"/>\n",
              "    </g>\n",
              "</svg>\n",
              "  </button>\n",
              "\n",
              "<style>\n",
              "  .colab-df-quickchart {\n",
              "      --bg-color: #E8F0FE;\n",
              "      --fill-color: #1967D2;\n",
              "      --hover-bg-color: #E2EBFA;\n",
              "      --hover-fill-color: #174EA6;\n",
              "      --disabled-fill-color: #AAA;\n",
              "      --disabled-bg-color: #DDD;\n",
              "  }\n",
              "\n",
              "  [theme=dark] .colab-df-quickchart {\n",
              "      --bg-color: #3B4455;\n",
              "      --fill-color: #D2E3FC;\n",
              "      --hover-bg-color: #434B5C;\n",
              "      --hover-fill-color: #FFFFFF;\n",
              "      --disabled-bg-color: #3B4455;\n",
              "      --disabled-fill-color: #666;\n",
              "  }\n",
              "\n",
              "  .colab-df-quickchart {\n",
              "    background-color: var(--bg-color);\n",
              "    border: none;\n",
              "    border-radius: 50%;\n",
              "    cursor: pointer;\n",
              "    display: none;\n",
              "    fill: var(--fill-color);\n",
              "    height: 32px;\n",
              "    padding: 0;\n",
              "    width: 32px;\n",
              "  }\n",
              "\n",
              "  .colab-df-quickchart:hover {\n",
              "    background-color: var(--hover-bg-color);\n",
              "    box-shadow: 0 1px 2px rgba(60, 64, 67, 0.3), 0 1px 3px 1px rgba(60, 64, 67, 0.15);\n",
              "    fill: var(--button-hover-fill-color);\n",
              "  }\n",
              "\n",
              "  .colab-df-quickchart-complete:disabled,\n",
              "  .colab-df-quickchart-complete:disabled:hover {\n",
              "    background-color: var(--disabled-bg-color);\n",
              "    fill: var(--disabled-fill-color);\n",
              "    box-shadow: none;\n",
              "  }\n",
              "\n",
              "  .colab-df-spinner {\n",
              "    border: 2px solid var(--fill-color);\n",
              "    border-color: transparent;\n",
              "    border-bottom-color: var(--fill-color);\n",
              "    animation:\n",
              "      spin 1s steps(1) infinite;\n",
              "  }\n",
              "\n",
              "  @keyframes spin {\n",
              "    0% {\n",
              "      border-color: transparent;\n",
              "      border-bottom-color: var(--fill-color);\n",
              "      border-left-color: var(--fill-color);\n",
              "    }\n",
              "    20% {\n",
              "      border-color: transparent;\n",
              "      border-left-color: var(--fill-color);\n",
              "      border-top-color: var(--fill-color);\n",
              "    }\n",
              "    30% {\n",
              "      border-color: transparent;\n",
              "      border-left-color: var(--fill-color);\n",
              "      border-top-color: var(--fill-color);\n",
              "      border-right-color: var(--fill-color);\n",
              "    }\n",
              "    40% {\n",
              "      border-color: transparent;\n",
              "      border-right-color: var(--fill-color);\n",
              "      border-top-color: var(--fill-color);\n",
              "    }\n",
              "    60% {\n",
              "      border-color: transparent;\n",
              "      border-right-color: var(--fill-color);\n",
              "    }\n",
              "    80% {\n",
              "      border-color: transparent;\n",
              "      border-right-color: var(--fill-color);\n",
              "      border-bottom-color: var(--fill-color);\n",
              "    }\n",
              "    90% {\n",
              "      border-color: transparent;\n",
              "      border-bottom-color: var(--fill-color);\n",
              "    }\n",
              "  }\n",
              "</style>\n",
              "\n",
              "  <script>\n",
              "    async function quickchart(key) {\n",
              "      const quickchartButtonEl =\n",
              "        document.querySelector('#' + key + ' button');\n",
              "      quickchartButtonEl.disabled = true;  // To prevent multiple clicks.\n",
              "      quickchartButtonEl.classList.add('colab-df-spinner');\n",
              "      try {\n",
              "        const charts = await google.colab.kernel.invokeFunction(\n",
              "            'suggestCharts', [key], {});\n",
              "      } catch (error) {\n",
              "        console.error('Error during call to suggestCharts:', error);\n",
              "      }\n",
              "      quickchartButtonEl.classList.remove('colab-df-spinner');\n",
              "      quickchartButtonEl.classList.add('colab-df-quickchart-complete');\n",
              "    }\n",
              "    (() => {\n",
              "      let quickchartButtonEl =\n",
              "        document.querySelector('#df-c8bf21fe-b03a-400d-a8b6-859f867e5442 button');\n",
              "      quickchartButtonEl.style.display =\n",
              "        google.colab.kernel.accessAllowed ? 'block' : 'none';\n",
              "    })();\n",
              "  </script>\n",
              "</div>\n",
              "    </div>\n",
              "  </div>\n"
            ]
          },
          "metadata": {},
          "execution_count": 64
        }
      ],
      "source": [
        "data = pd.read_csv(\"Jakarta 2015 - 2022.csv\", parse_dates=['datetime'])\n",
        "data_original = data.copy()\n",
        "train_datetime = pd.to_datetime(data['datetime'])\n",
        "data = data.set_index(\"datetime\")\n",
        "data.head(10)"
      ]
    },
    {
      "cell_type": "code",
      "execution_count": null,
      "metadata": {
        "id": "nqmwFzukVnvh",
        "colab": {
          "base_uri": "https://localhost:8080/"
        },
        "outputId": "38deed72-2ce6-4263-a9a3-c0e636a02675"
      },
      "outputs": [
        {
          "output_type": "execute_result",
          "data": {
            "text/plain": [
              "total_visitor         0\n",
              "total_accomodation    0\n",
              "dtype: int64"
            ]
          },
          "metadata": {},
          "execution_count": 65
        }
      ],
      "source": [
        "#remove null value\n",
        "data.isna().sum()"
      ]
    },
    {
      "cell_type": "code",
      "source": [
        "data_training = data"
      ],
      "metadata": {
        "id": "WBoH1Zsabm22"
      },
      "execution_count": null,
      "outputs": []
    },
    {
      "cell_type": "code",
      "source": [
        "scaler = StandardScaler()\n",
        "scaled_data= pd.DataFrame(scaler.fit_transform(data_training), columns=data_training.columns)"
      ],
      "metadata": {
        "id": "bVRra3YDakq7"
      },
      "execution_count": null,
      "outputs": []
    },
    {
      "cell_type": "markdown",
      "metadata": {
        "id": "I875QD9npy5_"
      },
      "source": [
        "# Scenario 1 -80_train : 20_test\n",
        "\n",
        "Dalam skenario ini nantinya data akan displit  sebanyak 80:20, dimana 80 baris data nantinya akan digunakan untuk melakukan prediksi total visitor di masa depan"
      ]
    },
    {
      "cell_type": "code",
      "execution_count": null,
      "metadata": {
        "id": "DTz0kgTBlrTI"
      },
      "outputs": [],
      "source": [
        "#Assigned variable for training and testing\n",
        "X = scaled_data['total_accomodation'].values\n",
        "Y = scaled_data['total_visitor'].values"
      ]
    },
    {
      "cell_type": "code",
      "source": [
        "X=X.reshape(-1,1)\n",
        "Y=Y.reshape(-1,1)"
      ],
      "metadata": {
        "id": "k9QuNKyFMTbN"
      },
      "execution_count": null,
      "outputs": []
    },
    {
      "cell_type": "code",
      "execution_count": null,
      "metadata": {
        "id": "qbGo4ILilwe_"
      },
      "outputs": [],
      "source": [
        "# Split the data into training and testing sets\n",
        "X_train, X_test, Y_train, Y_test = train_test_split(X, Y, test_size = 0.2, random_state = 42)"
      ]
    },
    {
      "cell_type": "code",
      "execution_count": null,
      "metadata": {
        "id": "Y7lZB7ZBl9EC"
      },
      "outputs": [],
      "source": [
        "# Define the parameter grid for GridSearchCV\n",
        "param_grid = {\n",
        "    'C': [0.01, 0.1, 1],\n",
        "    'epsilon': [0.01, 0.1, 1,],\n",
        "    'kernel': ['linear', 'rbf']\n",
        "}"
      ]
    },
    {
      "cell_type": "code",
      "execution_count": null,
      "metadata": {
        "id": "Tu-mdeEZ7hJK"
      },
      "outputs": [],
      "source": [
        "# Create GridSearchCV instance\n",
        "grid_search = GridSearchCV(estimator=SVR(), param_grid=param_grid, refit=True, verbose=2, cv=2)"
      ]
    },
    {
      "cell_type": "code",
      "execution_count": null,
      "metadata": {
        "id": "9y-dFe1w7jGp",
        "colab": {
          "base_uri": "https://localhost:8080/",
          "height": 1000
        },
        "outputId": "d5d0b58d-cb53-416c-9264-6bcd62cd3fd8"
      },
      "outputs": [
        {
          "output_type": "stream",
          "name": "stdout",
          "text": [
            "Fitting 2 folds for each of 18 candidates, totalling 36 fits\n",
            "[CV] END ................C=0.01, epsilon=0.01, kernel=linear; total time=   0.0s\n",
            "[CV] END ................C=0.01, epsilon=0.01, kernel=linear; total time=   0.0s\n",
            "[CV] END ...................C=0.01, epsilon=0.01, kernel=rbf; total time=   0.0s\n",
            "[CV] END ...................C=0.01, epsilon=0.01, kernel=rbf; total time=   0.0s\n",
            "[CV] END .................C=0.01, epsilon=0.1, kernel=linear; total time=   0.0s\n",
            "[CV] END .................C=0.01, epsilon=0.1, kernel=linear; total time=   0.0s\n",
            "[CV] END ....................C=0.01, epsilon=0.1, kernel=rbf; total time=   0.0s\n",
            "[CV] END ....................C=0.01, epsilon=0.1, kernel=rbf; total time=   0.0s\n",
            "[CV] END ...................C=0.01, epsilon=1, kernel=linear; total time=   0.0s\n",
            "[CV] END ...................C=0.01, epsilon=1, kernel=linear; total time=   0.0s\n",
            "[CV] END ......................C=0.01, epsilon=1, kernel=rbf; total time=   0.0s\n",
            "[CV] END ......................C=0.01, epsilon=1, kernel=rbf; total time=   0.0s\n",
            "[CV] END .................C=0.1, epsilon=0.01, kernel=linear; total time=   0.0s\n",
            "[CV] END .................C=0.1, epsilon=0.01, kernel=linear; total time=   0.0s\n",
            "[CV] END ....................C=0.1, epsilon=0.01, kernel=rbf; total time=   0.0s\n",
            "[CV] END ....................C=0.1, epsilon=0.01, kernel=rbf; total time=   0.0s\n",
            "[CV] END ..................C=0.1, epsilon=0.1, kernel=linear; total time=   0.0s\n",
            "[CV] END ..................C=0.1, epsilon=0.1, kernel=linear; total time=   0.0s\n",
            "[CV] END .....................C=0.1, epsilon=0.1, kernel=rbf; total time=   0.0s\n",
            "[CV] END .....................C=0.1, epsilon=0.1, kernel=rbf; total time=   0.0s\n",
            "[CV] END ....................C=0.1, epsilon=1, kernel=linear; total time=   0.0s\n",
            "[CV] END ....................C=0.1, epsilon=1, kernel=linear; total time=   0.0s\n",
            "[CV] END .......................C=0.1, epsilon=1, kernel=rbf; total time=   0.0s\n",
            "[CV] END .......................C=0.1, epsilon=1, kernel=rbf; total time=   0.0s\n",
            "[CV] END ...................C=1, epsilon=0.01, kernel=linear; total time=   0.0s\n",
            "[CV] END ...................C=1, epsilon=0.01, kernel=linear; total time=   0.0s\n",
            "[CV] END ......................C=1, epsilon=0.01, kernel=rbf; total time=   0.0s\n",
            "[CV] END ......................C=1, epsilon=0.01, kernel=rbf; total time=   0.0s\n",
            "[CV] END ....................C=1, epsilon=0.1, kernel=linear; total time=   0.0s\n",
            "[CV] END ....................C=1, epsilon=0.1, kernel=linear; total time=   0.0s\n",
            "[CV] END .......................C=1, epsilon=0.1, kernel=rbf; total time=   0.0s\n",
            "[CV] END .......................C=1, epsilon=0.1, kernel=rbf; total time=   0.0s\n",
            "[CV] END ......................C=1, epsilon=1, kernel=linear; total time=   0.0s\n",
            "[CV] END ......................C=1, epsilon=1, kernel=linear; total time=   0.0s\n",
            "[CV] END .........................C=1, epsilon=1, kernel=rbf; total time=   0.0s\n",
            "[CV] END .........................C=1, epsilon=1, kernel=rbf; total time=   0.0s\n"
          ]
        },
        {
          "output_type": "stream",
          "name": "stderr",
          "text": [
            "/usr/local/lib/python3.10/dist-packages/sklearn/utils/validation.py:1143: DataConversionWarning: A column-vector y was passed when a 1d array was expected. Please change the shape of y to (n_samples, ), for example using ravel().\n",
            "  y = column_or_1d(y, warn=True)\n",
            "/usr/local/lib/python3.10/dist-packages/sklearn/utils/validation.py:1143: DataConversionWarning: A column-vector y was passed when a 1d array was expected. Please change the shape of y to (n_samples, ), for example using ravel().\n",
            "  y = column_or_1d(y, warn=True)\n",
            "/usr/local/lib/python3.10/dist-packages/sklearn/utils/validation.py:1143: DataConversionWarning: A column-vector y was passed when a 1d array was expected. Please change the shape of y to (n_samples, ), for example using ravel().\n",
            "  y = column_or_1d(y, warn=True)\n",
            "/usr/local/lib/python3.10/dist-packages/sklearn/utils/validation.py:1143: DataConversionWarning: A column-vector y was passed when a 1d array was expected. Please change the shape of y to (n_samples, ), for example using ravel().\n",
            "  y = column_or_1d(y, warn=True)\n",
            "/usr/local/lib/python3.10/dist-packages/sklearn/utils/validation.py:1143: DataConversionWarning: A column-vector y was passed when a 1d array was expected. Please change the shape of y to (n_samples, ), for example using ravel().\n",
            "  y = column_or_1d(y, warn=True)\n",
            "/usr/local/lib/python3.10/dist-packages/sklearn/utils/validation.py:1143: DataConversionWarning: A column-vector y was passed when a 1d array was expected. Please change the shape of y to (n_samples, ), for example using ravel().\n",
            "  y = column_or_1d(y, warn=True)\n",
            "/usr/local/lib/python3.10/dist-packages/sklearn/utils/validation.py:1143: DataConversionWarning: A column-vector y was passed when a 1d array was expected. Please change the shape of y to (n_samples, ), for example using ravel().\n",
            "  y = column_or_1d(y, warn=True)\n",
            "/usr/local/lib/python3.10/dist-packages/sklearn/utils/validation.py:1143: DataConversionWarning: A column-vector y was passed when a 1d array was expected. Please change the shape of y to (n_samples, ), for example using ravel().\n",
            "  y = column_or_1d(y, warn=True)\n",
            "/usr/local/lib/python3.10/dist-packages/sklearn/utils/validation.py:1143: DataConversionWarning: A column-vector y was passed when a 1d array was expected. Please change the shape of y to (n_samples, ), for example using ravel().\n",
            "  y = column_or_1d(y, warn=True)\n",
            "/usr/local/lib/python3.10/dist-packages/sklearn/utils/validation.py:1143: DataConversionWarning: A column-vector y was passed when a 1d array was expected. Please change the shape of y to (n_samples, ), for example using ravel().\n",
            "  y = column_or_1d(y, warn=True)\n",
            "/usr/local/lib/python3.10/dist-packages/sklearn/utils/validation.py:1143: DataConversionWarning: A column-vector y was passed when a 1d array was expected. Please change the shape of y to (n_samples, ), for example using ravel().\n",
            "  y = column_or_1d(y, warn=True)\n",
            "/usr/local/lib/python3.10/dist-packages/sklearn/utils/validation.py:1143: DataConversionWarning: A column-vector y was passed when a 1d array was expected. Please change the shape of y to (n_samples, ), for example using ravel().\n",
            "  y = column_or_1d(y, warn=True)\n",
            "/usr/local/lib/python3.10/dist-packages/sklearn/utils/validation.py:1143: DataConversionWarning: A column-vector y was passed when a 1d array was expected. Please change the shape of y to (n_samples, ), for example using ravel().\n",
            "  y = column_or_1d(y, warn=True)\n",
            "/usr/local/lib/python3.10/dist-packages/sklearn/utils/validation.py:1143: DataConversionWarning: A column-vector y was passed when a 1d array was expected. Please change the shape of y to (n_samples, ), for example using ravel().\n",
            "  y = column_or_1d(y, warn=True)\n",
            "/usr/local/lib/python3.10/dist-packages/sklearn/utils/validation.py:1143: DataConversionWarning: A column-vector y was passed when a 1d array was expected. Please change the shape of y to (n_samples, ), for example using ravel().\n",
            "  y = column_or_1d(y, warn=True)\n",
            "/usr/local/lib/python3.10/dist-packages/sklearn/utils/validation.py:1143: DataConversionWarning: A column-vector y was passed when a 1d array was expected. Please change the shape of y to (n_samples, ), for example using ravel().\n",
            "  y = column_or_1d(y, warn=True)\n",
            "/usr/local/lib/python3.10/dist-packages/sklearn/utils/validation.py:1143: DataConversionWarning: A column-vector y was passed when a 1d array was expected. Please change the shape of y to (n_samples, ), for example using ravel().\n",
            "  y = column_or_1d(y, warn=True)\n",
            "/usr/local/lib/python3.10/dist-packages/sklearn/utils/validation.py:1143: DataConversionWarning: A column-vector y was passed when a 1d array was expected. Please change the shape of y to (n_samples, ), for example using ravel().\n",
            "  y = column_or_1d(y, warn=True)\n",
            "/usr/local/lib/python3.10/dist-packages/sklearn/utils/validation.py:1143: DataConversionWarning: A column-vector y was passed when a 1d array was expected. Please change the shape of y to (n_samples, ), for example using ravel().\n",
            "  y = column_or_1d(y, warn=True)\n",
            "/usr/local/lib/python3.10/dist-packages/sklearn/utils/validation.py:1143: DataConversionWarning: A column-vector y was passed when a 1d array was expected. Please change the shape of y to (n_samples, ), for example using ravel().\n",
            "  y = column_or_1d(y, warn=True)\n",
            "/usr/local/lib/python3.10/dist-packages/sklearn/utils/validation.py:1143: DataConversionWarning: A column-vector y was passed when a 1d array was expected. Please change the shape of y to (n_samples, ), for example using ravel().\n",
            "  y = column_or_1d(y, warn=True)\n",
            "/usr/local/lib/python3.10/dist-packages/sklearn/utils/validation.py:1143: DataConversionWarning: A column-vector y was passed when a 1d array was expected. Please change the shape of y to (n_samples, ), for example using ravel().\n",
            "  y = column_or_1d(y, warn=True)\n",
            "/usr/local/lib/python3.10/dist-packages/sklearn/utils/validation.py:1143: DataConversionWarning: A column-vector y was passed when a 1d array was expected. Please change the shape of y to (n_samples, ), for example using ravel().\n",
            "  y = column_or_1d(y, warn=True)\n",
            "/usr/local/lib/python3.10/dist-packages/sklearn/utils/validation.py:1143: DataConversionWarning: A column-vector y was passed when a 1d array was expected. Please change the shape of y to (n_samples, ), for example using ravel().\n",
            "  y = column_or_1d(y, warn=True)\n",
            "/usr/local/lib/python3.10/dist-packages/sklearn/utils/validation.py:1143: DataConversionWarning: A column-vector y was passed when a 1d array was expected. Please change the shape of y to (n_samples, ), for example using ravel().\n",
            "  y = column_or_1d(y, warn=True)\n",
            "/usr/local/lib/python3.10/dist-packages/sklearn/utils/validation.py:1143: DataConversionWarning: A column-vector y was passed when a 1d array was expected. Please change the shape of y to (n_samples, ), for example using ravel().\n",
            "  y = column_or_1d(y, warn=True)\n",
            "/usr/local/lib/python3.10/dist-packages/sklearn/utils/validation.py:1143: DataConversionWarning: A column-vector y was passed when a 1d array was expected. Please change the shape of y to (n_samples, ), for example using ravel().\n",
            "  y = column_or_1d(y, warn=True)\n",
            "/usr/local/lib/python3.10/dist-packages/sklearn/utils/validation.py:1143: DataConversionWarning: A column-vector y was passed when a 1d array was expected. Please change the shape of y to (n_samples, ), for example using ravel().\n",
            "  y = column_or_1d(y, warn=True)\n",
            "/usr/local/lib/python3.10/dist-packages/sklearn/utils/validation.py:1143: DataConversionWarning: A column-vector y was passed when a 1d array was expected. Please change the shape of y to (n_samples, ), for example using ravel().\n",
            "  y = column_or_1d(y, warn=True)\n",
            "/usr/local/lib/python3.10/dist-packages/sklearn/utils/validation.py:1143: DataConversionWarning: A column-vector y was passed when a 1d array was expected. Please change the shape of y to (n_samples, ), for example using ravel().\n",
            "  y = column_or_1d(y, warn=True)\n",
            "/usr/local/lib/python3.10/dist-packages/sklearn/utils/validation.py:1143: DataConversionWarning: A column-vector y was passed when a 1d array was expected. Please change the shape of y to (n_samples, ), for example using ravel().\n",
            "  y = column_or_1d(y, warn=True)\n",
            "/usr/local/lib/python3.10/dist-packages/sklearn/utils/validation.py:1143: DataConversionWarning: A column-vector y was passed when a 1d array was expected. Please change the shape of y to (n_samples, ), for example using ravel().\n",
            "  y = column_or_1d(y, warn=True)\n",
            "/usr/local/lib/python3.10/dist-packages/sklearn/utils/validation.py:1143: DataConversionWarning: A column-vector y was passed when a 1d array was expected. Please change the shape of y to (n_samples, ), for example using ravel().\n",
            "  y = column_or_1d(y, warn=True)\n",
            "/usr/local/lib/python3.10/dist-packages/sklearn/utils/validation.py:1143: DataConversionWarning: A column-vector y was passed when a 1d array was expected. Please change the shape of y to (n_samples, ), for example using ravel().\n",
            "  y = column_or_1d(y, warn=True)\n",
            "/usr/local/lib/python3.10/dist-packages/sklearn/utils/validation.py:1143: DataConversionWarning: A column-vector y was passed when a 1d array was expected. Please change the shape of y to (n_samples, ), for example using ravel().\n",
            "  y = column_or_1d(y, warn=True)\n",
            "/usr/local/lib/python3.10/dist-packages/sklearn/utils/validation.py:1143: DataConversionWarning: A column-vector y was passed when a 1d array was expected. Please change the shape of y to (n_samples, ), for example using ravel().\n",
            "  y = column_or_1d(y, warn=True)\n",
            "/usr/local/lib/python3.10/dist-packages/sklearn/utils/validation.py:1143: DataConversionWarning: A column-vector y was passed when a 1d array was expected. Please change the shape of y to (n_samples, ), for example using ravel().\n",
            "  y = column_or_1d(y, warn=True)\n"
          ]
        },
        {
          "output_type": "execute_result",
          "data": {
            "text/plain": [
              "GridSearchCV(cv=2, estimator=SVR(),\n",
              "             param_grid={'C': [0.01, 0.1, 1], 'epsilon': [0.01, 0.1, 1],\n",
              "                         'kernel': ['linear', 'rbf']},\n",
              "             verbose=2)"
            ],
            "text/html": [
              "<style>#sk-container-id-4 {color: black;background-color: white;}#sk-container-id-4 pre{padding: 0;}#sk-container-id-4 div.sk-toggleable {background-color: white;}#sk-container-id-4 label.sk-toggleable__label {cursor: pointer;display: block;width: 100%;margin-bottom: 0;padding: 0.3em;box-sizing: border-box;text-align: center;}#sk-container-id-4 label.sk-toggleable__label-arrow:before {content: \"▸\";float: left;margin-right: 0.25em;color: #696969;}#sk-container-id-4 label.sk-toggleable__label-arrow:hover:before {color: black;}#sk-container-id-4 div.sk-estimator:hover label.sk-toggleable__label-arrow:before {color: black;}#sk-container-id-4 div.sk-toggleable__content {max-height: 0;max-width: 0;overflow: hidden;text-align: left;background-color: #f0f8ff;}#sk-container-id-4 div.sk-toggleable__content pre {margin: 0.2em;color: black;border-radius: 0.25em;background-color: #f0f8ff;}#sk-container-id-4 input.sk-toggleable__control:checked~div.sk-toggleable__content {max-height: 200px;max-width: 100%;overflow: auto;}#sk-container-id-4 input.sk-toggleable__control:checked~label.sk-toggleable__label-arrow:before {content: \"▾\";}#sk-container-id-4 div.sk-estimator input.sk-toggleable__control:checked~label.sk-toggleable__label {background-color: #d4ebff;}#sk-container-id-4 div.sk-label input.sk-toggleable__control:checked~label.sk-toggleable__label {background-color: #d4ebff;}#sk-container-id-4 input.sk-hidden--visually {border: 0;clip: rect(1px 1px 1px 1px);clip: rect(1px, 1px, 1px, 1px);height: 1px;margin: -1px;overflow: hidden;padding: 0;position: absolute;width: 1px;}#sk-container-id-4 div.sk-estimator {font-family: monospace;background-color: #f0f8ff;border: 1px dotted black;border-radius: 0.25em;box-sizing: border-box;margin-bottom: 0.5em;}#sk-container-id-4 div.sk-estimator:hover {background-color: #d4ebff;}#sk-container-id-4 div.sk-parallel-item::after {content: \"\";width: 100%;border-bottom: 1px solid gray;flex-grow: 1;}#sk-container-id-4 div.sk-label:hover label.sk-toggleable__label {background-color: #d4ebff;}#sk-container-id-4 div.sk-serial::before {content: \"\";position: absolute;border-left: 1px solid gray;box-sizing: border-box;top: 0;bottom: 0;left: 50%;z-index: 0;}#sk-container-id-4 div.sk-serial {display: flex;flex-direction: column;align-items: center;background-color: white;padding-right: 0.2em;padding-left: 0.2em;position: relative;}#sk-container-id-4 div.sk-item {position: relative;z-index: 1;}#sk-container-id-4 div.sk-parallel {display: flex;align-items: stretch;justify-content: center;background-color: white;position: relative;}#sk-container-id-4 div.sk-item::before, #sk-container-id-4 div.sk-parallel-item::before {content: \"\";position: absolute;border-left: 1px solid gray;box-sizing: border-box;top: 0;bottom: 0;left: 50%;z-index: -1;}#sk-container-id-4 div.sk-parallel-item {display: flex;flex-direction: column;z-index: 1;position: relative;background-color: white;}#sk-container-id-4 div.sk-parallel-item:first-child::after {align-self: flex-end;width: 50%;}#sk-container-id-4 div.sk-parallel-item:last-child::after {align-self: flex-start;width: 50%;}#sk-container-id-4 div.sk-parallel-item:only-child::after {width: 0;}#sk-container-id-4 div.sk-dashed-wrapped {border: 1px dashed gray;margin: 0 0.4em 0.5em 0.4em;box-sizing: border-box;padding-bottom: 0.4em;background-color: white;}#sk-container-id-4 div.sk-label label {font-family: monospace;font-weight: bold;display: inline-block;line-height: 1.2em;}#sk-container-id-4 div.sk-label-container {text-align: center;}#sk-container-id-4 div.sk-container {/* jupyter's `normalize.less` sets `[hidden] { display: none; }` but bootstrap.min.css set `[hidden] { display: none !important; }` so we also need the `!important` here to be able to override the default hidden behavior on the sphinx rendered scikit-learn.org. See: https://github.com/scikit-learn/scikit-learn/issues/21755 */display: inline-block !important;position: relative;}#sk-container-id-4 div.sk-text-repr-fallback {display: none;}</style><div id=\"sk-container-id-4\" class=\"sk-top-container\"><div class=\"sk-text-repr-fallback\"><pre>GridSearchCV(cv=2, estimator=SVR(),\n",
              "             param_grid={&#x27;C&#x27;: [0.01, 0.1, 1], &#x27;epsilon&#x27;: [0.01, 0.1, 1],\n",
              "                         &#x27;kernel&#x27;: [&#x27;linear&#x27;, &#x27;rbf&#x27;]},\n",
              "             verbose=2)</pre><b>In a Jupyter environment, please rerun this cell to show the HTML representation or trust the notebook. <br />On GitHub, the HTML representation is unable to render, please try loading this page with nbviewer.org.</b></div><div class=\"sk-container\" hidden><div class=\"sk-item sk-dashed-wrapped\"><div class=\"sk-label-container\"><div class=\"sk-label sk-toggleable\"><input class=\"sk-toggleable__control sk-hidden--visually\" id=\"sk-estimator-id-10\" type=\"checkbox\" ><label for=\"sk-estimator-id-10\" class=\"sk-toggleable__label sk-toggleable__label-arrow\">GridSearchCV</label><div class=\"sk-toggleable__content\"><pre>GridSearchCV(cv=2, estimator=SVR(),\n",
              "             param_grid={&#x27;C&#x27;: [0.01, 0.1, 1], &#x27;epsilon&#x27;: [0.01, 0.1, 1],\n",
              "                         &#x27;kernel&#x27;: [&#x27;linear&#x27;, &#x27;rbf&#x27;]},\n",
              "             verbose=2)</pre></div></div></div><div class=\"sk-parallel\"><div class=\"sk-parallel-item\"><div class=\"sk-item\"><div class=\"sk-label-container\"><div class=\"sk-label sk-toggleable\"><input class=\"sk-toggleable__control sk-hidden--visually\" id=\"sk-estimator-id-11\" type=\"checkbox\" ><label for=\"sk-estimator-id-11\" class=\"sk-toggleable__label sk-toggleable__label-arrow\">estimator: SVR</label><div class=\"sk-toggleable__content\"><pre>SVR()</pre></div></div></div><div class=\"sk-serial\"><div class=\"sk-item\"><div class=\"sk-estimator sk-toggleable\"><input class=\"sk-toggleable__control sk-hidden--visually\" id=\"sk-estimator-id-12\" type=\"checkbox\" ><label for=\"sk-estimator-id-12\" class=\"sk-toggleable__label sk-toggleable__label-arrow\">SVR</label><div class=\"sk-toggleable__content\"><pre>SVR()</pre></div></div></div></div></div></div></div></div></div></div>"
            ]
          },
          "metadata": {},
          "execution_count": 73
        }
      ],
      "source": [
        "# Fit model with the best parameters\n",
        "grid_search.fit(X_train, Y_train)"
      ]
    },
    {
      "cell_type": "code",
      "execution_count": null,
      "metadata": {
        "colab": {
          "base_uri": "https://localhost:8080/"
        },
        "id": "9GYe7iFa7vUL",
        "outputId": "0a9165b9-c85a-40f9-efb0-ff2bfea6ec56"
      },
      "outputs": [
        {
          "output_type": "stream",
          "name": "stdout",
          "text": [
            "Best Parameters: {'C': 1, 'epsilon': 0.1, 'kernel': 'rbf'}\n"
          ]
        }
      ],
      "source": [
        "# Get the best parameters\n",
        "best_params = grid_search.best_params_\n",
        "print(\"Best Parameters:\", best_params)"
      ]
    },
    {
      "cell_type": "code",
      "source": [
        "n_past = 1\n",
        "n_month_for_prediction=12\n",
        "predict_period_month = pd.date_range(list(train_datetime)[-n_past], periods=n_month_for_prediction, freq='M').tolist()\n",
        "print(predict_period_month)"
      ],
      "metadata": {
        "colab": {
          "base_uri": "https://localhost:8080/"
        },
        "id": "TXbScBw7pKGm",
        "outputId": "f4124d2f-2493-475d-ad82-027dadd65746"
      },
      "execution_count": null,
      "outputs": [
        {
          "output_type": "stream",
          "name": "stdout",
          "text": [
            "[Timestamp('2022-12-31 00:00:00', freq='M'), Timestamp('2023-01-31 00:00:00', freq='M'), Timestamp('2023-02-28 00:00:00', freq='M'), Timestamp('2023-03-31 00:00:00', freq='M'), Timestamp('2023-04-30 00:00:00', freq='M'), Timestamp('2023-05-31 00:00:00', freq='M'), Timestamp('2023-06-30 00:00:00', freq='M'), Timestamp('2023-07-31 00:00:00', freq='M'), Timestamp('2023-08-31 00:00:00', freq='M'), Timestamp('2023-09-30 00:00:00', freq='M'), Timestamp('2023-10-31 00:00:00', freq='M'), Timestamp('2023-11-30 00:00:00', freq='M')]\n"
          ]
        }
      ]
    },
    {
      "cell_type": "code",
      "execution_count": null,
      "metadata": {
        "id": "2GaR-PvdKuWM"
      },
      "outputs": [],
      "source": [
        "# Make predictions with the best parameter\n",
        "best_regressor = grid_search.best_estimator_\n",
        "Y_pred = best_regressor.predict(X_test[-n_month_for_prediction:])"
      ]
    },
    {
      "cell_type": "code",
      "execution_count": null,
      "metadata": {
        "colab": {
          "base_uri": "https://localhost:8080/"
        },
        "id": "SYdhmvegKvsO",
        "outputId": "451c8bf6-cc9f-4d3d-ffb4-7ea846d9fb37"
      },
      "outputs": [
        {
          "output_type": "stream",
          "name": "stdout",
          "text": [
            "MSE: 0.11361666726690933\n",
            "MAPE: 1465.78%\n",
            "MAE: 0.14657756628295923\n"
          ]
        }
      ],
      "source": [
        "# Print the error metrics\n",
        "prediction = best_regressor.predict(X_train[-n_month_for_prediction:])\n",
        "mse = mean_squared_error(Y_train[-n_month_for_prediction:], prediction)\n",
        "fmape = np.mean(np.abs((mse) / prediction)) * 100\n",
        "mape = f\"{(fmape*100):.2f}%\"\n",
        "mae = np.mean(np.abs((mse) / prediction))\n",
        "\n",
        "print(\"MSE:\", mse)\n",
        "print(\"MAPE:\", mape)\n",
        "print(\"MAE:\", mae)\n",
        "\n"
      ]
    },
    {
      "cell_type": "code",
      "source": [
        "Y_test = Y_test[-n_month_for_prediction:]"
      ],
      "metadata": {
        "id": "QVwAAYomJEd6"
      },
      "execution_count": null,
      "outputs": []
    },
    {
      "cell_type": "code",
      "source": [
        "Y_pred=Y_pred.reshape(-1,1)\n",
        "prediction_copies = np.repeat(Y_pred, data_training.shape[1], axis=-1)\n",
        "Y_pred_future = scaler.inverse_transform(prediction_copies)[:,0]"
      ],
      "metadata": {
        "id": "qBy259cSpm4t"
      },
      "execution_count": null,
      "outputs": []
    },
    {
      "cell_type": "code",
      "source": [
        "Y_test = np.repeat(Y_test, data_training.shape[1], axis=-1)\n",
        "Y_test = scaler.inverse_transform(Y_test)[:,0]"
      ],
      "metadata": {
        "id": "Wg1JrOwnpv6T"
      },
      "execution_count": null,
      "outputs": []
    },
    {
      "cell_type": "code",
      "source": [
        "forecast_dates = []\n",
        "\n",
        "for time_i in predict_period_month:\n",
        "    forecast_dates.append(time_i.date())\n",
        "\n",
        "df_forecast = pd.DataFrame({'Date': forecast_dates, 'total_visitor': Y_pred_future})\n",
        "df_forecast['date'] = pd.to_datetime(df_forecast['Date'])\n",
        "\n",
        "# Assuming 'original' contains the original data with 'Datetime' and 'jumlah_penderita' columns\n",
        "original = data_original[['datetime', 'total_visitor']]\n",
        "original['datetime'] = pd.to_datetime(original['datetime'])\n",
        "original = original.loc[original['datetime'] >= '2014-01-01']\n",
        "\n",
        "sns.lineplot(data=original, x='datetime', y='total_visitor', label='Original')\n",
        "sns.lineplot(data=df_forecast, x='date', y='total_visitor', label='Forecast')\n",
        "\n",
        "plt.xlabel('Year')\n",
        "plt.ylabel('total visitor')\n",
        "plt.title('Forecasted Data 1 Year with 80:20 split')\n",
        "plt.legend()\n",
        "plt.show()\n",
        "\n",
        "# Generate the forecast dates from January 2023 to December 2023\n",
        "forecast_dates = pd.date_range(start='2023-01-01', end='2023-12-01', freq='MS')\n",
        "\n",
        "# Create a list of forecast dates and prediction values\n",
        "data = list(zip(forecast_dates, Y_pred_future))"
      ],
      "metadata": {
        "colab": {
          "base_uri": "https://localhost:8080/",
          "height": 579
        },
        "id": "91dlNF3kp0xr",
        "outputId": "36c4f9d5-244e-464f-9936-3b863283c13d"
      },
      "execution_count": null,
      "outputs": [
        {
          "output_type": "stream",
          "name": "stderr",
          "text": [
            "<ipython-input-81-dcac8c06a416>:11: SettingWithCopyWarning: \n",
            "A value is trying to be set on a copy of a slice from a DataFrame.\n",
            "Try using .loc[row_indexer,col_indexer] = value instead\n",
            "\n",
            "See the caveats in the documentation: https://pandas.pydata.org/pandas-docs/stable/user_guide/indexing.html#returning-a-view-versus-a-copy\n",
            "  original['datetime'] = pd.to_datetime(original['datetime'])\n"
          ]
        },
        {
          "output_type": "display_data",
          "data": {
            "text/plain": [
              "<Figure size 640x480 with 1 Axes>"
            ],
            "image/png": "[encoded data removed]"
          },
          "metadata": {}
        }
      ]
    },
    {
      "cell_type": "code",
      "source": [
        "# Create a list of forecast dates and prediction values\n",
        "data = list(zip(forecast_dates, Y_pred_future))\n",
        "\n",
        "# Create a list of headers for the table\n",
        "headers = ['Date', 'Prediction']\n",
        "table = tabulate(data, headers=headers, tablefmt='fancy_grid')\n",
        "# Print the table\n",
        "print(\"Hasil Forecast SVR scenario 1\")\n",
        "print(table)"
      ],
      "metadata": {
        "colab": {
          "base_uri": "https://localhost:8080/"
        },
        "id": "hQCrap-SYIUD",
        "outputId": "b3ac03d0-6d02-41fd-d54f-29699d04180b"
      },
      "execution_count": null,
      "outputs": [
        {
          "output_type": "stream",
          "name": "stdout",
          "text": [
            "Hasil Forecast SVR scenario 1\n",
            "╒═════════════════════╤══════════════╕\n",
            "│ Date                │   Prediction │\n",
            "╞═════════════════════╪══════════════╡\n",
            "│ 2023-01-01 00:00:00 │      34324.3 │\n",
            "├─────────────────────┼──────────────┤\n",
            "│ 2023-02-01 00:00:00 │      43183.7 │\n",
            "├─────────────────────┼──────────────┤\n",
            "│ 2023-03-01 00:00:00 │     190534   │\n",
            "├─────────────────────┼──────────────┤\n",
            "│ 2023-04-01 00:00:00 │      38317.2 │\n",
            "├─────────────────────┼──────────────┤\n",
            "│ 2023-05-01 00:00:00 │     197085   │\n",
            "├─────────────────────┼──────────────┤\n",
            "│ 2023-06-01 00:00:00 │     137257   │\n",
            "├─────────────────────┼──────────────┤\n",
            "│ 2023-07-01 00:00:00 │     218123   │\n",
            "├─────────────────────┼──────────────┤\n",
            "│ 2023-08-01 00:00:00 │      71237.5 │\n",
            "├─────────────────────┼──────────────┤\n",
            "│ 2023-09-01 00:00:00 │      92630.6 │\n",
            "├─────────────────────┼──────────────┤\n",
            "│ 2023-10-01 00:00:00 │     223616   │\n",
            "├─────────────────────┼──────────────┤\n",
            "│ 2023-11-01 00:00:00 │     194003   │\n",
            "├─────────────────────┼──────────────┤\n",
            "│ 2023-12-01 00:00:00 │     212869   │\n",
            "╘═════════════════════╧══════════════╛\n"
          ]
        }
      ]
    },
    {
      "cell_type": "markdown",
      "metadata": {
        "id": "o6X67xhfwL6i"
      },
      "source": [
        "# Skenario 2 - 70_train : 30_test\n",
        "\n",
        "Dalam skenario ini nantinya data akan displit  sebanyak 70:30, dimana 70 baris data nantinya akan digunakan untuk melakukan prediksi total visitor di masa depan"
      ]
    },
    {
      "cell_type": "code",
      "execution_count": null,
      "metadata": {
        "id": "WWruIezMWCZ0"
      },
      "outputs": [],
      "source": [
        "#Assigned variable for training and testing\n",
        "X2 = scaled_data['total_accomodation'].values\n",
        "Y2 = scaled_data['total_visitor'].values"
      ]
    },
    {
      "cell_type": "code",
      "source": [
        "X2=X2.reshape(-1,1)\n",
        "Y2=Y2.reshape(-1,1)"
      ],
      "metadata": {
        "id": "pM2PaXtqucEY"
      },
      "execution_count": null,
      "outputs": []
    },
    {
      "cell_type": "code",
      "execution_count": null,
      "metadata": {
        "id": "EvrfeFi5Ww3L"
      },
      "outputs": [],
      "source": [
        "# Split the data into training and testing sets\n",
        "X_train2, X_test2, Y_train2, Y_test2 = train_test_split(X2, Y2, test_size = 0.30, random_state = 42)"
      ]
    },
    {
      "cell_type": "code",
      "execution_count": null,
      "metadata": {
        "id": "fsgTRjtzWydI"
      },
      "outputs": [],
      "source": [
        "# Define the parameter grid for GridSearchCV\n",
        "param_grid2 = {\n",
        "    'C': [0.01, 0.1, 1],\n",
        "    'epsilon': [0.01, 0.1, 1,],\n",
        "    'kernel': ['linear', 'rbf']\n",
        "}"
      ]
    },
    {
      "cell_type": "code",
      "execution_count": null,
      "metadata": {
        "id": "f35jqYEJW0Jh"
      },
      "outputs": [],
      "source": [
        "# Create GridSearchCV instance\n",
        "grid_search2 = GridSearchCV(estimator=SVR(), param_grid=param_grid2, refit=True, verbose=2, cv=2)"
      ]
    },
    {
      "cell_type": "code",
      "execution_count": null,
      "metadata": {
        "id": "iLk_saKXW6rr",
        "colab": {
          "base_uri": "https://localhost:8080/",
          "height": 1000
        },
        "outputId": "da6b38ae-143d-4cca-f9e4-a04cca492b95"
      },
      "outputs": [
        {
          "output_type": "stream",
          "name": "stdout",
          "text": [
            "Fitting 2 folds for each of 18 candidates, totalling 36 fits\n",
            "[CV] END ................C=0.01, epsilon=0.01, kernel=linear; total time=   0.0s\n",
            "[CV] END ................C=0.01, epsilon=0.01, kernel=linear; total time=   0.0s\n",
            "[CV] END ...................C=0.01, epsilon=0.01, kernel=rbf; total time=   0.0s\n",
            "[CV] END ...................C=0.01, epsilon=0.01, kernel=rbf; total time=   0.0s\n",
            "[CV] END .................C=0.01, epsilon=0.1, kernel=linear; total time=   0.0s\n",
            "[CV] END .................C=0.01, epsilon=0.1, kernel=linear; total time=   0.0s\n",
            "[CV] END ....................C=0.01, epsilon=0.1, kernel=rbf; total time=   0.0s\n",
            "[CV] END ....................C=0.01, epsilon=0.1, kernel=rbf; total time=   0.0s\n",
            "[CV] END ...................C=0.01, epsilon=1, kernel=linear; total time=   0.0s\n",
            "[CV] END ...................C=0.01, epsilon=1, kernel=linear; total time=   0.0s\n",
            "[CV] END ......................C=0.01, epsilon=1, kernel=rbf; total time=   0.0s\n",
            "[CV] END ......................C=0.01, epsilon=1, kernel=rbf; total time=   0.0s\n",
            "[CV] END .................C=0.1, epsilon=0.01, kernel=linear; total time=   0.0s\n",
            "[CV] END .................C=0.1, epsilon=0.01, kernel=linear; total time=   0.0s\n",
            "[CV] END ....................C=0.1, epsilon=0.01, kernel=rbf; total time=   0.0s\n",
            "[CV] END ....................C=0.1, epsilon=0.01, kernel=rbf; total time=   0.0s\n",
            "[CV] END ..................C=0.1, epsilon=0.1, kernel=linear; total time=   0.0s\n",
            "[CV] END ..................C=0.1, epsilon=0.1, kernel=linear; total time=   0.0s\n",
            "[CV] END .....................C=0.1, epsilon=0.1, kernel=rbf; total time=   0.0s\n",
            "[CV] END .....................C=0.1, epsilon=0.1, kernel=rbf; total time=   0.0s\n",
            "[CV] END ....................C=0.1, epsilon=1, kernel=linear; total time=   0.0s\n",
            "[CV] END ....................C=0.1, epsilon=1, kernel=linear; total time=   0.0s\n",
            "[CV] END .......................C=0.1, epsilon=1, kernel=rbf; total time=   0.0s\n",
            "[CV] END .......................C=0.1, epsilon=1, kernel=rbf; total time=   0.0s\n",
            "[CV] END ...................C=1, epsilon=0.01, kernel=linear; total time=   0.0s\n",
            "[CV] END ...................C=1, epsilon=0.01, kernel=linear; total time=   0.0s\n",
            "[CV] END ......................C=1, epsilon=0.01, kernel=rbf; total time=   0.0s\n",
            "[CV] END ......................C=1, epsilon=0.01, kernel=rbf; total time=   0.0s\n",
            "[CV] END ....................C=1, epsilon=0.1, kernel=linear; total time=   0.0s\n",
            "[CV] END ....................C=1, epsilon=0.1, kernel=linear; total time=   0.0s\n",
            "[CV] END .......................C=1, epsilon=0.1, kernel=rbf; total time=   0.0s\n",
            "[CV] END .......................C=1, epsilon=0.1, kernel=rbf; total time=   0.0s\n",
            "[CV] END ......................C=1, epsilon=1, kernel=linear; total time=   0.0s\n",
            "[CV] END ......................C=1, epsilon=1, kernel=linear; total time=   0.0s\n",
            "[CV] END .........................C=1, epsilon=1, kernel=rbf; total time=   0.0s\n",
            "[CV] END .........................C=1, epsilon=1, kernel=rbf; total time=   0.0s\n"
          ]
        },
        {
          "output_type": "stream",
          "name": "stderr",
          "text": [
            "/usr/local/lib/python3.10/dist-packages/sklearn/utils/validation.py:1143: DataConversionWarning: A column-vector y was passed when a 1d array was expected. Please change the shape of y to (n_samples, ), for example using ravel().\n",
            "  y = column_or_1d(y, warn=True)\n",
            "/usr/local/lib/python3.10/dist-packages/sklearn/utils/validation.py:1143: DataConversionWarning: A column-vector y was passed when a 1d array was expected. Please change the shape of y to (n_samples, ), for example using ravel().\n",
            "  y = column_or_1d(y, warn=True)\n",
            "/usr/local/lib/python3.10/dist-packages/sklearn/utils/validation.py:1143: DataConversionWarning: A column-vector y was passed when a 1d array was expected. Please change the shape of y to (n_samples, ), for example using ravel().\n",
            "  y = column_or_1d(y, warn=True)\n",
            "/usr/local/lib/python3.10/dist-packages/sklearn/utils/validation.py:1143: DataConversionWarning: A column-vector y was passed when a 1d array was expected. Please change the shape of y to (n_samples, ), for example using ravel().\n",
            "  y = column_or_1d(y, warn=True)\n",
            "/usr/local/lib/python3.10/dist-packages/sklearn/utils/validation.py:1143: DataConversionWarning: A column-vector y was passed when a 1d array was expected. Please change the shape of y to (n_samples, ), for example using ravel().\n",
            "  y = column_or_1d(y, warn=True)\n",
            "/usr/local/lib/python3.10/dist-packages/sklearn/utils/validation.py:1143: DataConversionWarning: A column-vector y was passed when a 1d array was expected. Please change the shape of y to (n_samples, ), for example using ravel().\n",
            "  y = column_or_1d(y, warn=True)\n",
            "/usr/local/lib/python3.10/dist-packages/sklearn/utils/validation.py:1143: DataConversionWarning: A column-vector y was passed when a 1d array was expected. Please change the shape of y to (n_samples, ), for example using ravel().\n",
            "  y = column_or_1d(y, warn=True)\n",
            "/usr/local/lib/python3.10/dist-packages/sklearn/utils/validation.py:1143: DataConversionWarning: A column-vector y was passed when a 1d array was expected. Please change the shape of y to (n_samples, ), for example using ravel().\n",
            "  y = column_or_1d(y, warn=True)\n",
            "/usr/local/lib/python3.10/dist-packages/sklearn/utils/validation.py:1143: DataConversionWarning: A column-vector y was passed when a 1d array was expected. Please change the shape of y to (n_samples, ), for example using ravel().\n",
            "  y = column_or_1d(y, warn=True)\n",
            "/usr/local/lib/python3.10/dist-packages/sklearn/utils/validation.py:1143: DataConversionWarning: A column-vector y was passed when a 1d array was expected. Please change the shape of y to (n_samples, ), for example using ravel().\n",
            "  y = column_or_1d(y, warn=True)\n",
            "/usr/local/lib/python3.10/dist-packages/sklearn/utils/validation.py:1143: DataConversionWarning: A column-vector y was passed when a 1d array was expected. Please change the shape of y to (n_samples, ), for example using ravel().\n",
            "  y = column_or_1d(y, warn=True)\n",
            "/usr/local/lib/python3.10/dist-packages/sklearn/utils/validation.py:1143: DataConversionWarning: A column-vector y was passed when a 1d array was expected. Please change the shape of y to (n_samples, ), for example using ravel().\n",
            "  y = column_or_1d(y, warn=True)\n",
            "/usr/local/lib/python3.10/dist-packages/sklearn/utils/validation.py:1143: DataConversionWarning: A column-vector y was passed when a 1d array was expected. Please change the shape of y to (n_samples, ), for example using ravel().\n",
            "  y = column_or_1d(y, warn=True)\n",
            "/usr/local/lib/python3.10/dist-packages/sklearn/utils/validation.py:1143: DataConversionWarning: A column-vector y was passed when a 1d array was expected. Please change the shape of y to (n_samples, ), for example using ravel().\n",
            "  y = column_or_1d(y, warn=True)\n",
            "/usr/local/lib/python3.10/dist-packages/sklearn/utils/validation.py:1143: DataConversionWarning: A column-vector y was passed when a 1d array was expected. Please change the shape of y to (n_samples, ), for example using ravel().\n",
            "  y = column_or_1d(y, warn=True)\n",
            "/usr/local/lib/python3.10/dist-packages/sklearn/utils/validation.py:1143: DataConversionWarning: A column-vector y was passed when a 1d array was expected. Please change the shape of y to (n_samples, ), for example using ravel().\n",
            "  y = column_or_1d(y, warn=True)\n",
            "/usr/local/lib/python3.10/dist-packages/sklearn/utils/validation.py:1143: DataConversionWarning: A column-vector y was passed when a 1d array was expected. Please change the shape of y to (n_samples, ), for example using ravel().\n",
            "  y = column_or_1d(y, warn=True)\n",
            "/usr/local/lib/python3.10/dist-packages/sklearn/utils/validation.py:1143: DataConversionWarning: A column-vector y was passed when a 1d array was expected. Please change the shape of y to (n_samples, ), for example using ravel().\n",
            "  y = column_or_1d(y, warn=True)\n",
            "/usr/local/lib/python3.10/dist-packages/sklearn/utils/validation.py:1143: DataConversionWarning: A column-vector y was passed when a 1d array was expected. Please change the shape of y to (n_samples, ), for example using ravel().\n",
            "  y = column_or_1d(y, warn=True)\n",
            "/usr/local/lib/python3.10/dist-packages/sklearn/utils/validation.py:1143: DataConversionWarning: A column-vector y was passed when a 1d array was expected. Please change the shape of y to (n_samples, ), for example using ravel().\n",
            "  y = column_or_1d(y, warn=True)\n",
            "/usr/local/lib/python3.10/dist-packages/sklearn/utils/validation.py:1143: DataConversionWarning: A column-vector y was passed when a 1d array was expected. Please change the shape of y to (n_samples, ), for example using ravel().\n",
            "  y = column_or_1d(y, warn=True)\n",
            "/usr/local/lib/python3.10/dist-packages/sklearn/utils/validation.py:1143: DataConversionWarning: A column-vector y was passed when a 1d array was expected. Please change the shape of y to (n_samples, ), for example using ravel().\n",
            "  y = column_or_1d(y, warn=True)\n",
            "/usr/local/lib/python3.10/dist-packages/sklearn/utils/validation.py:1143: DataConversionWarning: A column-vector y was passed when a 1d array was expected. Please change the shape of y to (n_samples, ), for example using ravel().\n",
            "  y = column_or_1d(y, warn=True)\n",
            "/usr/local/lib/python3.10/dist-packages/sklearn/utils/validation.py:1143: DataConversionWarning: A column-vector y was passed when a 1d array was expected. Please change the shape of y to (n_samples, ), for example using ravel().\n",
            "  y = column_or_1d(y, warn=True)\n",
            "/usr/local/lib/python3.10/dist-packages/sklearn/utils/validation.py:1143: DataConversionWarning: A column-vector y was passed when a 1d array was expected. Please change the shape of y to (n_samples, ), for example using ravel().\n",
            "  y = column_or_1d(y, warn=True)\n",
            "/usr/local/lib/python3.10/dist-packages/sklearn/utils/validation.py:1143: DataConversionWarning: A column-vector y was passed when a 1d array was expected. Please change the shape of y to (n_samples, ), for example using ravel().\n",
            "  y = column_or_1d(y, warn=True)\n",
            "/usr/local/lib/python3.10/dist-packages/sklearn/utils/validation.py:1143: DataConversionWarning: A column-vector y was passed when a 1d array was expected. Please change the shape of y to (n_samples, ), for example using ravel().\n",
            "  y = column_or_1d(y, warn=True)\n",
            "/usr/local/lib/python3.10/dist-packages/sklearn/utils/validation.py:1143: DataConversionWarning: A column-vector y was passed when a 1d array was expected. Please change the shape of y to (n_samples, ), for example using ravel().\n",
            "  y = column_or_1d(y, warn=True)\n",
            "/usr/local/lib/python3.10/dist-packages/sklearn/utils/validation.py:1143: DataConversionWarning: A column-vector y was passed when a 1d array was expected. Please change the shape of y to (n_samples, ), for example using ravel().\n",
            "  y = column_or_1d(y, warn=True)\n",
            "/usr/local/lib/python3.10/dist-packages/sklearn/utils/validation.py:1143: DataConversionWarning: A column-vector y was passed when a 1d array was expected. Please change the shape of y to (n_samples, ), for example using ravel().\n",
            "  y = column_or_1d(y, warn=True)\n",
            "/usr/local/lib/python3.10/dist-packages/sklearn/utils/validation.py:1143: DataConversionWarning: A column-vector y was passed when a 1d array was expected. Please change the shape of y to (n_samples, ), for example using ravel().\n",
            "  y = column_or_1d(y, warn=True)\n",
            "/usr/local/lib/python3.10/dist-packages/sklearn/utils/validation.py:1143: DataConversionWarning: A column-vector y was passed when a 1d array was expected. Please change the shape of y to (n_samples, ), for example using ravel().\n",
            "  y = column_or_1d(y, warn=True)\n",
            "/usr/local/lib/python3.10/dist-packages/sklearn/utils/validation.py:1143: DataConversionWarning: A column-vector y was passed when a 1d array was expected. Please change the shape of y to (n_samples, ), for example using ravel().\n",
            "  y = column_or_1d(y, warn=True)\n",
            "/usr/local/lib/python3.10/dist-packages/sklearn/utils/validation.py:1143: DataConversionWarning: A column-vector y was passed when a 1d array was expected. Please change the shape of y to (n_samples, ), for example using ravel().\n",
            "  y = column_or_1d(y, warn=True)\n",
            "/usr/local/lib/python3.10/dist-packages/sklearn/utils/validation.py:1143: DataConversionWarning: A column-vector y was passed when a 1d array was expected. Please change the shape of y to (n_samples, ), for example using ravel().\n",
            "  y = column_or_1d(y, warn=True)\n",
            "/usr/local/lib/python3.10/dist-packages/sklearn/utils/validation.py:1143: DataConversionWarning: A column-vector y was passed when a 1d array was expected. Please change the shape of y to (n_samples, ), for example using ravel().\n",
            "  y = column_or_1d(y, warn=True)\n",
            "/usr/local/lib/python3.10/dist-packages/sklearn/utils/validation.py:1143: DataConversionWarning: A column-vector y was passed when a 1d array was expected. Please change the shape of y to (n_samples, ), for example using ravel().\n",
            "  y = column_or_1d(y, warn=True)\n"
          ]
        },
        {
          "output_type": "execute_result",
          "data": {
            "text/plain": [
              "GridSearchCV(cv=2, estimator=SVR(),\n",
              "             param_grid={'C': [0.01, 0.1, 1], 'epsilon': [0.01, 0.1, 1],\n",
              "                         'kernel': ['linear', 'rbf']},\n",
              "             verbose=2)"
            ],
            "text/html": [
              "<style>#sk-container-id-5 {color: black;background-color: white;}#sk-container-id-5 pre{padding: 0;}#sk-container-id-5 div.sk-toggleable {background-color: white;}#sk-container-id-5 label.sk-toggleable__label {cursor: pointer;display: block;width: 100%;margin-bottom: 0;padding: 0.3em;box-sizing: border-box;text-align: center;}#sk-container-id-5 label.sk-toggleable__label-arrow:before {content: \"▸\";float: left;margin-right: 0.25em;color: #696969;}#sk-container-id-5 label.sk-toggleable__label-arrow:hover:before {color: black;}#sk-container-id-5 div.sk-estimator:hover label.sk-toggleable__label-arrow:before {color: black;}#sk-container-id-5 div.sk-toggleable__content {max-height: 0;max-width: 0;overflow: hidden;text-align: left;background-color: #f0f8ff;}#sk-container-id-5 div.sk-toggleable__content pre {margin: 0.2em;color: black;border-radius: 0.25em;background-color: #f0f8ff;}#sk-container-id-5 input.sk-toggleable__control:checked~div.sk-toggleable__content {max-height: 200px;max-width: 100%;overflow: auto;}#sk-container-id-5 input.sk-toggleable__control:checked~label.sk-toggleable__label-arrow:before {content: \"▾\";}#sk-container-id-5 div.sk-estimator input.sk-toggleable__control:checked~label.sk-toggleable__label {background-color: #d4ebff;}#sk-container-id-5 div.sk-label input.sk-toggleable__control:checked~label.sk-toggleable__label {background-color: #d4ebff;}#sk-container-id-5 input.sk-hidden--visually {border: 0;clip: rect(1px 1px 1px 1px);clip: rect(1px, 1px, 1px, 1px);height: 1px;margin: -1px;overflow: hidden;padding: 0;position: absolute;width: 1px;}#sk-container-id-5 div.sk-estimator {font-family: monospace;background-color: #f0f8ff;border: 1px dotted black;border-radius: 0.25em;box-sizing: border-box;margin-bottom: 0.5em;}#sk-container-id-5 div.sk-estimator:hover {background-color: #d4ebff;}#sk-container-id-5 div.sk-parallel-item::after {content: \"\";width: 100%;border-bottom: 1px solid gray;flex-grow: 1;}#sk-container-id-5 div.sk-label:hover label.sk-toggleable__label {background-color: #d4ebff;}#sk-container-id-5 div.sk-serial::before {content: \"\";position: absolute;border-left: 1px solid gray;box-sizing: border-box;top: 0;bottom: 0;left: 50%;z-index: 0;}#sk-container-id-5 div.sk-serial {display: flex;flex-direction: column;align-items: center;background-color: white;padding-right: 0.2em;padding-left: 0.2em;position: relative;}#sk-container-id-5 div.sk-item {position: relative;z-index: 1;}#sk-container-id-5 div.sk-parallel {display: flex;align-items: stretch;justify-content: center;background-color: white;position: relative;}#sk-container-id-5 div.sk-item::before, #sk-container-id-5 div.sk-parallel-item::before {content: \"\";position: absolute;border-left: 1px solid gray;box-sizing: border-box;top: 0;bottom: 0;left: 50%;z-index: -1;}#sk-container-id-5 div.sk-parallel-item {display: flex;flex-direction: column;z-index: 1;position: relative;background-color: white;}#sk-container-id-5 div.sk-parallel-item:first-child::after {align-self: flex-end;width: 50%;}#sk-container-id-5 div.sk-parallel-item:last-child::after {align-self: flex-start;width: 50%;}#sk-container-id-5 div.sk-parallel-item:only-child::after {width: 0;}#sk-container-id-5 div.sk-dashed-wrapped {border: 1px dashed gray;margin: 0 0.4em 0.5em 0.4em;box-sizing: border-box;padding-bottom: 0.4em;background-color: white;}#sk-container-id-5 div.sk-label label {font-family: monospace;font-weight: bold;display: inline-block;line-height: 1.2em;}#sk-container-id-5 div.sk-label-container {text-align: center;}#sk-container-id-5 div.sk-container {/* jupyter's `normalize.less` sets `[hidden] { display: none; }` but bootstrap.min.css set `[hidden] { display: none !important; }` so we also need the `!important` here to be able to override the default hidden behavior on the sphinx rendered scikit-learn.org. See: https://github.com/scikit-learn/scikit-learn/issues/21755 */display: inline-block !important;position: relative;}#sk-container-id-5 div.sk-text-repr-fallback {display: none;}</style><div id=\"sk-container-id-5\" class=\"sk-top-container\"><div class=\"sk-text-repr-fallback\"><pre>GridSearchCV(cv=2, estimator=SVR(),\n",
              "             param_grid={&#x27;C&#x27;: [0.01, 0.1, 1], &#x27;epsilon&#x27;: [0.01, 0.1, 1],\n",
              "                         &#x27;kernel&#x27;: [&#x27;linear&#x27;, &#x27;rbf&#x27;]},\n",
              "             verbose=2)</pre><b>In a Jupyter environment, please rerun this cell to show the HTML representation or trust the notebook. <br />On GitHub, the HTML representation is unable to render, please try loading this page with nbviewer.org.</b></div><div class=\"sk-container\" hidden><div class=\"sk-item sk-dashed-wrapped\"><div class=\"sk-label-container\"><div class=\"sk-label sk-toggleable\"><input class=\"sk-toggleable__control sk-hidden--visually\" id=\"sk-estimator-id-13\" type=\"checkbox\" ><label for=\"sk-estimator-id-13\" class=\"sk-toggleable__label sk-toggleable__label-arrow\">GridSearchCV</label><div class=\"sk-toggleable__content\"><pre>GridSearchCV(cv=2, estimator=SVR(),\n",
              "             param_grid={&#x27;C&#x27;: [0.01, 0.1, 1], &#x27;epsilon&#x27;: [0.01, 0.1, 1],\n",
              "                         &#x27;kernel&#x27;: [&#x27;linear&#x27;, &#x27;rbf&#x27;]},\n",
              "             verbose=2)</pre></div></div></div><div class=\"sk-parallel\"><div class=\"sk-parallel-item\"><div class=\"sk-item\"><div class=\"sk-label-container\"><div class=\"sk-label sk-toggleable\"><input class=\"sk-toggleable__control sk-hidden--visually\" id=\"sk-estimator-id-14\" type=\"checkbox\" ><label for=\"sk-estimator-id-14\" class=\"sk-toggleable__label sk-toggleable__label-arrow\">estimator: SVR</label><div class=\"sk-toggleable__content\"><pre>SVR()</pre></div></div></div><div class=\"sk-serial\"><div class=\"sk-item\"><div class=\"sk-estimator sk-toggleable\"><input class=\"sk-toggleable__control sk-hidden--visually\" id=\"sk-estimator-id-15\" type=\"checkbox\" ><label for=\"sk-estimator-id-15\" class=\"sk-toggleable__label sk-toggleable__label-arrow\">SVR</label><div class=\"sk-toggleable__content\"><pre>SVR()</pre></div></div></div></div></div></div></div></div></div></div>"
            ]
          },
          "metadata": {},
          "execution_count": 88
        }
      ],
      "source": [
        "# Fit model with the best parameters\n",
        "grid_search2.fit(X_train2, Y_train2)"
      ]
    },
    {
      "cell_type": "code",
      "execution_count": null,
      "metadata": {
        "id": "XDPX_TIIZEyM",
        "colab": {
          "base_uri": "https://localhost:8080/"
        },
        "outputId": "aafca61c-c46c-42c1-f15a-239c8596d9eb"
      },
      "outputs": [
        {
          "output_type": "stream",
          "name": "stdout",
          "text": [
            "Best Parameters: {'C': 1, 'epsilon': 0.1, 'kernel': 'rbf'}\n"
          ]
        }
      ],
      "source": [
        "# Get the best parameters\n",
        "best_params2 = grid_search2.best_params_\n",
        "print(\"Best Parameters:\", best_params)"
      ]
    },
    {
      "cell_type": "code",
      "source": [
        "n_past2 = 2\n",
        "n_month_for_prediction2=12\n",
        "predict_period_month2 = pd.date_range(list(train_datetime)[-n_past2], periods=n_month_for_prediction2, freq='M').tolist()\n",
        "print(predict_period_month2)"
      ],
      "metadata": {
        "colab": {
          "base_uri": "https://localhost:8080/"
        },
        "id": "SLCqX79je6Rw",
        "outputId": "f78bc7b6-760f-4510-f222-615295267272"
      },
      "execution_count": null,
      "outputs": [
        {
          "output_type": "stream",
          "name": "stdout",
          "text": [
            "[Timestamp('2022-11-30 00:00:00', freq='M'), Timestamp('2022-12-31 00:00:00', freq='M'), Timestamp('2023-01-31 00:00:00', freq='M'), Timestamp('2023-02-28 00:00:00', freq='M'), Timestamp('2023-03-31 00:00:00', freq='M'), Timestamp('2023-04-30 00:00:00', freq='M'), Timestamp('2023-05-31 00:00:00', freq='M'), Timestamp('2023-06-30 00:00:00', freq='M'), Timestamp('2023-07-31 00:00:00', freq='M'), Timestamp('2023-08-31 00:00:00', freq='M'), Timestamp('2023-09-30 00:00:00', freq='M'), Timestamp('2023-10-31 00:00:00', freq='M')]\n"
          ]
        }
      ]
    },
    {
      "cell_type": "code",
      "execution_count": null,
      "metadata": {
        "id": "_-VyLK8GZF_n"
      },
      "outputs": [],
      "source": [
        "# Make predictions with the best parameter\n",
        "best_regressor2 = grid_search2.best_estimator_\n",
        "Y_pred2 = best_regressor2.predict(X_test2[-n_month_for_prediction2:])"
      ]
    },
    {
      "cell_type": "code",
      "source": [
        "# Print the error metrics\n",
        "prediction2 = best_regressor2.predict(X_train2[-n_month_for_prediction:])\n",
        "mse2 = mean_squared_error(Y_train2[-n_month_for_prediction:], prediction2)\n",
        "fmape2 = np.mean(np.abs((mse2) / prediction2)) * 100\n",
        "mape2 = f\"{(fmape2*100):.2f}%\"\n",
        "mae2 = np.mean(np.abs((mse2) / prediction2))\n",
        "\n",
        "print(\"MSE:\", mse2)\n",
        "print(\"MAPE:\", mape2)\n",
        "print(\"MAE:\", mae2)\n"
      ],
      "metadata": {
        "colab": {
          "base_uri": "https://localhost:8080/"
        },
        "id": "5eGlBVmJaAe7",
        "outputId": "b1e0a30c-cb41-4bc9-e6d3-e7173aab1e94"
      },
      "execution_count": null,
      "outputs": [
        {
          "output_type": "stream",
          "name": "stdout",
          "text": [
            "MSE: 0.11410621750220085\n",
            "MAPE: 1475.24%\n",
            "MAE: 0.14752412656429045\n"
          ]
        }
      ]
    },
    {
      "cell_type": "code",
      "source": [
        "Y_test2 = Y_test2[-n_month_for_prediction:]"
      ],
      "metadata": {
        "id": "1oggTRWLUomV"
      },
      "execution_count": null,
      "outputs": []
    },
    {
      "cell_type": "code",
      "source": [
        "Y_pred2=Y_pred2.reshape(-1,1)\n",
        "prediction_copies2 = np.repeat(Y_pred2, data_training.shape[1], axis=-1)\n",
        "Y_pred_future2 = scaler.inverse_transform(prediction_copies2)[:,0]"
      ],
      "metadata": {
        "id": "z2Hiy3ECU7ly"
      },
      "execution_count": null,
      "outputs": []
    },
    {
      "cell_type": "code",
      "source": [
        "forecast_dates2 = []\n",
        "\n",
        "for time_i in predict_period_month2:\n",
        "    forecast_dates2.append(time_i.date())\n",
        "\n",
        "df_forecast2 = pd.DataFrame({'Date': forecast_dates2, 'total_visitor': Y_pred_future2})\n",
        "df_forecast2['date'] = pd.to_datetime(df_forecast2['Date'])\n",
        "\n",
        "# Assuming 'original' contains the original data with 'Datetime' and 'total_visitor' columns\n",
        "original = data_original[['datetime', 'total_visitor']]\n",
        "original['datetime'] = pd.to_datetime(original['datetime'])\n",
        "original = original.loc[original['datetime'] >= '2014-01-01']\n",
        "\n",
        "# Plotting with the correct DataFrame and column names\n",
        "sns.lineplot(data=original, x='datetime', y='total_visitor', label='Original')\n",
        "sns.lineplot(data=df_forecast2, x='Date', y='total_visitor', label='Forecast')\n",
        "\n",
        "plt.xlabel('Year')\n",
        "plt.ylabel('total visitor')\n",
        "plt.title('Forecasted Data 1 Year with 70:30 split')\n",
        "plt.legend()\n",
        "plt.show()\n",
        "\n",
        "# Generate the forecast dates from January 2023 to December 2023\n",
        "forecast_dates2 = pd.date_range(start='2023-01-01', end='2023-12-01', freq='MS')\n",
        "\n",
        "# Create a list of forecast dates and prediction values\n",
        "data = list(zip(forecast_dates2, Y_pred_future2))"
      ],
      "metadata": {
        "colab": {
          "base_uri": "https://localhost:8080/",
          "height": 579
        },
        "id": "AQS2tKQVemq9",
        "outputId": "49d3f20c-abee-44be-c8d1-c4d772180cf7"
      },
      "execution_count": null,
      "outputs": [
        {
          "output_type": "stream",
          "name": "stderr",
          "text": [
            "<ipython-input-95-ed6bc7c394fd>:11: SettingWithCopyWarning: \n",
            "A value is trying to be set on a copy of a slice from a DataFrame.\n",
            "Try using .loc[row_indexer,col_indexer] = value instead\n",
            "\n",
            "See the caveats in the documentation: https://pandas.pydata.org/pandas-docs/stable/user_guide/indexing.html#returning-a-view-versus-a-copy\n",
            "  original['datetime'] = pd.to_datetime(original['datetime'])\n"
          ]
        },
        {
          "output_type": "display_data",
          "data": {
            "text/plain": [
              "<Figure size 640x480 with 1 Axes>"
            ],
            "image/png": "[encoded data removed]"
          },
          "metadata": {}
        }
      ]
    },
    {
      "cell_type": "code",
      "source": [
        "# Create a list of forecast dates and prediction values\n",
        "data2 = list(zip(forecast_dates2, Y_pred_future2))\n",
        "\n",
        "# Create a list of headers for the table\n",
        "headers = ['Date', 'Prediction']\n",
        "table2 = tabulate(data2, headers=headers, tablefmt='fancy_grid')\n",
        "# Print the table\n",
        "print(\"Hasil Forecast SVR scenario 2\")\n",
        "print(table2)"
      ],
      "metadata": {
        "colab": {
          "base_uri": "https://localhost:8080/"
        },
        "id": "52H-j8klaIi-",
        "outputId": "e31dd1c2-1c50-4f69-a4c3-838ae0226fa2"
      },
      "execution_count": null,
      "outputs": [
        {
          "output_type": "stream",
          "name": "stdout",
          "text": [
            "Hasil Forecast SVR scenario 2\n",
            "╒═════════════════════╤══════════════╕\n",
            "│ Date                │   Prediction │\n",
            "╞═════════════════════╪══════════════╡\n",
            "│ 2023-01-01 00:00:00 │     212040   │\n",
            "├─────────────────────┼──────────────┤\n",
            "│ 2023-02-01 00:00:00 │     184623   │\n",
            "├─────────────────────┼──────────────┤\n",
            "│ 2023-03-01 00:00:00 │     199816   │\n",
            "├─────────────────────┼──────────────┤\n",
            "│ 2023-04-01 00:00:00 │     198685   │\n",
            "├─────────────────────┼──────────────┤\n",
            "│ 2023-05-01 00:00:00 │     204823   │\n",
            "├─────────────────────┼──────────────┤\n",
            "│ 2023-06-01 00:00:00 │     233955   │\n",
            "├─────────────────────┼──────────────┤\n",
            "│ 2023-07-01 00:00:00 │      49622.8 │\n",
            "├─────────────────────┼──────────────┤\n",
            "│ 2023-08-01 00:00:00 │     197083   │\n",
            "├─────────────────────┼──────────────┤\n",
            "│ 2023-09-01 00:00:00 │     229182   │\n",
            "├─────────────────────┼──────────────┤\n",
            "│ 2023-10-01 00:00:00 │      13201.5 │\n",
            "├─────────────────────┼──────────────┤\n",
            "│ 2023-11-01 00:00:00 │      13121.6 │\n",
            "├─────────────────────┼──────────────┤\n",
            "│ 2023-12-01 00:00:00 │     195660   │\n",
            "╘═════════════════════╧══════════════╛\n"
          ]
        }
      ]
    },
    {
      "cell_type": "markdown",
      "metadata": {
        "id": "Usd5ZDHj56c5"
      },
      "source": [
        "# Skenario 3 - 60_train : 40_test\n",
        "\n",
        "Dalam skenario ini nantinya data akan displit  sebanyak 60:40, dimana 60 baris data nantinya akan digunakan untuk melakukan prediksi total visitor di masa depan"
      ]
    },
    {
      "cell_type": "code",
      "execution_count": null,
      "metadata": {
        "id": "xCfmwpkl6GWH"
      },
      "outputs": [],
      "source": [
        "X3 = scaled_data['total_accomodation'].values\n",
        "Y3 = scaled_data['total_visitor'].values"
      ]
    },
    {
      "cell_type": "code",
      "source": [
        "X3=X3.reshape(-1,1)\n",
        "Y3=Y3.reshape(-1,1)"
      ],
      "metadata": {
        "id": "c30KUY64lAvp"
      },
      "execution_count": null,
      "outputs": []
    },
    {
      "cell_type": "code",
      "execution_count": null,
      "metadata": {
        "id": "PWIXplUk6HZD"
      },
      "outputs": [],
      "source": [
        "# Split the data into training and testing sets\n",
        "X_train3, X_test3, Y_train3, Y_test3 = train_test_split(X3, Y3, test_size = 0.40, random_state = 42)"
      ]
    },
    {
      "cell_type": "code",
      "execution_count": null,
      "metadata": {
        "id": "iTH1Fnxl6tm0"
      },
      "outputs": [],
      "source": [
        "# Define the parameter grid for GridSearchCV\n",
        "param_grid3 = {\n",
        "    'C': [0.01, 0.1, 1],\n",
        "    'epsilon': [0.01, 0.1, 1,],\n",
        "    'kernel': ['linear', 'rbf']\n",
        "}"
      ]
    },
    {
      "cell_type": "code",
      "execution_count": null,
      "metadata": {
        "id": "FGZIANMa62Rh"
      },
      "outputs": [],
      "source": [
        "# Create GridSearchCV instance\n",
        "grid_search3 = GridSearchCV(estimator=SVR(), param_grid=param_grid3, refit=True, verbose=2, cv=2)"
      ]
    },
    {
      "cell_type": "code",
      "execution_count": null,
      "metadata": {
        "id": "qQeidpLw64lQ",
        "colab": {
          "base_uri": "https://localhost:8080/",
          "height": 1000
        },
        "outputId": "c7bbcec1-9b03-4e82-922b-4d805442f2b6"
      },
      "outputs": [
        {
          "output_type": "stream",
          "name": "stdout",
          "text": [
            "Fitting 2 folds for each of 18 candidates, totalling 36 fits\n",
            "[CV] END ................C=0.01, epsilon=0.01, kernel=linear; total time=   0.0s\n",
            "[CV] END ................C=0.01, epsilon=0.01, kernel=linear; total time=   0.0s\n",
            "[CV] END ...................C=0.01, epsilon=0.01, kernel=rbf; total time=   0.0s\n",
            "[CV] END ...................C=0.01, epsilon=0.01, kernel=rbf; total time=   0.0s\n",
            "[CV] END .................C=0.01, epsilon=0.1, kernel=linear; total time=   0.0s\n",
            "[CV] END .................C=0.01, epsilon=0.1, kernel=linear; total time=   0.0s\n",
            "[CV] END ....................C=0.01, epsilon=0.1, kernel=rbf; total time=   0.0s\n",
            "[CV] END ....................C=0.01, epsilon=0.1, kernel=rbf; total time=   0.0s\n",
            "[CV] END ...................C=0.01, epsilon=1, kernel=linear; total time=   0.0s\n",
            "[CV] END ...................C=0.01, epsilon=1, kernel=linear; total time=   0.0s\n",
            "[CV] END ......................C=0.01, epsilon=1, kernel=rbf; total time=   0.0s\n",
            "[CV] END ......................C=0.01, epsilon=1, kernel=rbf; total time=   0.0s\n",
            "[CV] END .................C=0.1, epsilon=0.01, kernel=linear; total time=   0.0s\n",
            "[CV] END .................C=0.1, epsilon=0.01, kernel=linear; total time=   0.0s\n",
            "[CV] END ....................C=0.1, epsilon=0.01, kernel=rbf; total time=   0.0s\n",
            "[CV] END ....................C=0.1, epsilon=0.01, kernel=rbf; total time=   0.0s\n",
            "[CV] END ..................C=0.1, epsilon=0.1, kernel=linear; total time=   0.0s\n",
            "[CV] END ..................C=0.1, epsilon=0.1, kernel=linear; total time=   0.0s\n",
            "[CV] END .....................C=0.1, epsilon=0.1, kernel=rbf; total time=   0.0s\n",
            "[CV] END .....................C=0.1, epsilon=0.1, kernel=rbf; total time=   0.0s\n",
            "[CV] END ....................C=0.1, epsilon=1, kernel=linear; total time=   0.0s\n",
            "[CV] END ....................C=0.1, epsilon=1, kernel=linear; total time=   0.0s\n",
            "[CV] END .......................C=0.1, epsilon=1, kernel=rbf; total time=   0.0s\n",
            "[CV] END .......................C=0.1, epsilon=1, kernel=rbf; total time=   0.0s\n",
            "[CV] END ...................C=1, epsilon=0.01, kernel=linear; total time=   0.0s\n",
            "[CV] END ...................C=1, epsilon=0.01, kernel=linear; total time=   0.0s\n",
            "[CV] END ......................C=1, epsilon=0.01, kernel=rbf; total time=   0.0s\n",
            "[CV] END ......................C=1, epsilon=0.01, kernel=rbf; total time=   0.0s\n",
            "[CV] END ....................C=1, epsilon=0.1, kernel=linear; total time=   0.0s\n",
            "[CV] END ....................C=1, epsilon=0.1, kernel=linear; total time=   0.0s\n",
            "[CV] END .......................C=1, epsilon=0.1, kernel=rbf; total time=   0.0s\n",
            "[CV] END .......................C=1, epsilon=0.1, kernel=rbf; total time=   0.0s\n",
            "[CV] END ......................C=1, epsilon=1, kernel=linear; total time=   0.0s\n",
            "[CV] END ......................C=1, epsilon=1, kernel=linear; total time=   0.0s\n",
            "[CV] END .........................C=1, epsilon=1, kernel=rbf; total time=   0.0s\n",
            "[CV] END .........................C=1, epsilon=1, kernel=rbf; total time=   0.0s\n"
          ]
        },
        {
          "output_type": "stream",
          "name": "stderr",
          "text": [
            "/usr/local/lib/python3.10/dist-packages/sklearn/utils/validation.py:1143: DataConversionWarning: A column-vector y was passed when a 1d array was expected. Please change the shape of y to (n_samples, ), for example using ravel().\n",
            "  y = column_or_1d(y, warn=True)\n",
            "/usr/local/lib/python3.10/dist-packages/sklearn/utils/validation.py:1143: DataConversionWarning: A column-vector y was passed when a 1d array was expected. Please change the shape of y to (n_samples, ), for example using ravel().\n",
            "  y = column_or_1d(y, warn=True)\n",
            "/usr/local/lib/python3.10/dist-packages/sklearn/utils/validation.py:1143: DataConversionWarning: A column-vector y was passed when a 1d array was expected. Please change the shape of y to (n_samples, ), for example using ravel().\n",
            "  y = column_or_1d(y, warn=True)\n",
            "/usr/local/lib/python3.10/dist-packages/sklearn/utils/validation.py:1143: DataConversionWarning: A column-vector y was passed when a 1d array was expected. Please change the shape of y to (n_samples, ), for example using ravel().\n",
            "  y = column_or_1d(y, warn=True)\n",
            "/usr/local/lib/python3.10/dist-packages/sklearn/utils/validation.py:1143: DataConversionWarning: A column-vector y was passed when a 1d array was expected. Please change the shape of y to (n_samples, ), for example using ravel().\n",
            "  y = column_or_1d(y, warn=True)\n",
            "/usr/local/lib/python3.10/dist-packages/sklearn/utils/validation.py:1143: DataConversionWarning: A column-vector y was passed when a 1d array was expected. Please change the shape of y to (n_samples, ), for example using ravel().\n",
            "  y = column_or_1d(y, warn=True)\n",
            "/usr/local/lib/python3.10/dist-packages/sklearn/utils/validation.py:1143: DataConversionWarning: A column-vector y was passed when a 1d array was expected. Please change the shape of y to (n_samples, ), for example using ravel().\n",
            "  y = column_or_1d(y, warn=True)\n",
            "/usr/local/lib/python3.10/dist-packages/sklearn/utils/validation.py:1143: DataConversionWarning: A column-vector y was passed when a 1d array was expected. Please change the shape of y to (n_samples, ), for example using ravel().\n",
            "  y = column_or_1d(y, warn=True)\n",
            "/usr/local/lib/python3.10/dist-packages/sklearn/utils/validation.py:1143: DataConversionWarning: A column-vector y was passed when a 1d array was expected. Please change the shape of y to (n_samples, ), for example using ravel().\n",
            "  y = column_or_1d(y, warn=True)\n",
            "/usr/local/lib/python3.10/dist-packages/sklearn/utils/validation.py:1143: DataConversionWarning: A column-vector y was passed when a 1d array was expected. Please change the shape of y to (n_samples, ), for example using ravel().\n",
            "  y = column_or_1d(y, warn=True)\n",
            "/usr/local/lib/python3.10/dist-packages/sklearn/utils/validation.py:1143: DataConversionWarning: A column-vector y was passed when a 1d array was expected. Please change the shape of y to (n_samples, ), for example using ravel().\n",
            "  y = column_or_1d(y, warn=True)\n",
            "/usr/local/lib/python3.10/dist-packages/sklearn/utils/validation.py:1143: DataConversionWarning: A column-vector y was passed when a 1d array was expected. Please change the shape of y to (n_samples, ), for example using ravel().\n",
            "  y = column_or_1d(y, warn=True)\n",
            "/usr/local/lib/python3.10/dist-packages/sklearn/utils/validation.py:1143: DataConversionWarning: A column-vector y was passed when a 1d array was expected. Please change the shape of y to (n_samples, ), for example using ravel().\n",
            "  y = column_or_1d(y, warn=True)\n",
            "/usr/local/lib/python3.10/dist-packages/sklearn/utils/validation.py:1143: DataConversionWarning: A column-vector y was passed when a 1d array was expected. Please change the shape of y to (n_samples, ), for example using ravel().\n",
            "  y = column_or_1d(y, warn=True)\n",
            "/usr/local/lib/python3.10/dist-packages/sklearn/utils/validation.py:1143: DataConversionWarning: A column-vector y was passed when a 1d array was expected. Please change the shape of y to (n_samples, ), for example using ravel().\n",
            "  y = column_or_1d(y, warn=True)\n",
            "/usr/local/lib/python3.10/dist-packages/sklearn/utils/validation.py:1143: DataConversionWarning: A column-vector y was passed when a 1d array was expected. Please change the shape of y to (n_samples, ), for example using ravel().\n",
            "  y = column_or_1d(y, warn=True)\n",
            "/usr/local/lib/python3.10/dist-packages/sklearn/utils/validation.py:1143: DataConversionWarning: A column-vector y was passed when a 1d array was expected. Please change the shape of y to (n_samples, ), for example using ravel().\n",
            "  y = column_or_1d(y, warn=True)\n",
            "/usr/local/lib/python3.10/dist-packages/sklearn/utils/validation.py:1143: DataConversionWarning: A column-vector y was passed when a 1d array was expected. Please change the shape of y to (n_samples, ), for example using ravel().\n",
            "  y = column_or_1d(y, warn=True)\n",
            "/usr/local/lib/python3.10/dist-packages/sklearn/utils/validation.py:1143: DataConversionWarning: A column-vector y was passed when a 1d array was expected. Please change the shape of y to (n_samples, ), for example using ravel().\n",
            "  y = column_or_1d(y, warn=True)\n",
            "/usr/local/lib/python3.10/dist-packages/sklearn/utils/validation.py:1143: DataConversionWarning: A column-vector y was passed when a 1d array was expected. Please change the shape of y to (n_samples, ), for example using ravel().\n",
            "  y = column_or_1d(y, warn=True)\n",
            "/usr/local/lib/python3.10/dist-packages/sklearn/utils/validation.py:1143: DataConversionWarning: A column-vector y was passed when a 1d array was expected. Please change the shape of y to (n_samples, ), for example using ravel().\n",
            "  y = column_or_1d(y, warn=True)\n",
            "/usr/local/lib/python3.10/dist-packages/sklearn/utils/validation.py:1143: DataConversionWarning: A column-vector y was passed when a 1d array was expected. Please change the shape of y to (n_samples, ), for example using ravel().\n",
            "  y = column_or_1d(y, warn=True)\n",
            "/usr/local/lib/python3.10/dist-packages/sklearn/utils/validation.py:1143: DataConversionWarning: A column-vector y was passed when a 1d array was expected. Please change the shape of y to (n_samples, ), for example using ravel().\n",
            "  y = column_or_1d(y, warn=True)\n",
            "/usr/local/lib/python3.10/dist-packages/sklearn/utils/validation.py:1143: DataConversionWarning: A column-vector y was passed when a 1d array was expected. Please change the shape of y to (n_samples, ), for example using ravel().\n",
            "  y = column_or_1d(y, warn=True)\n",
            "/usr/local/lib/python3.10/dist-packages/sklearn/utils/validation.py:1143: DataConversionWarning: A column-vector y was passed when a 1d array was expected. Please change the shape of y to (n_samples, ), for example using ravel().\n",
            "  y = column_or_1d(y, warn=True)\n",
            "/usr/local/lib/python3.10/dist-packages/sklearn/utils/validation.py:1143: DataConversionWarning: A column-vector y was passed when a 1d array was expected. Please change the shape of y to (n_samples, ), for example using ravel().\n",
            "  y = column_or_1d(y, warn=True)\n",
            "/usr/local/lib/python3.10/dist-packages/sklearn/utils/validation.py:1143: DataConversionWarning: A column-vector y was passed when a 1d array was expected. Please change the shape of y to (n_samples, ), for example using ravel().\n",
            "  y = column_or_1d(y, warn=True)\n",
            "/usr/local/lib/python3.10/dist-packages/sklearn/utils/validation.py:1143: DataConversionWarning: A column-vector y was passed when a 1d array was expected. Please change the shape of y to (n_samples, ), for example using ravel().\n",
            "  y = column_or_1d(y, warn=True)\n",
            "/usr/local/lib/python3.10/dist-packages/sklearn/utils/validation.py:1143: DataConversionWarning: A column-vector y was passed when a 1d array was expected. Please change the shape of y to (n_samples, ), for example using ravel().\n",
            "  y = column_or_1d(y, warn=True)\n",
            "/usr/local/lib/python3.10/dist-packages/sklearn/utils/validation.py:1143: DataConversionWarning: A column-vector y was passed when a 1d array was expected. Please change the shape of y to (n_samples, ), for example using ravel().\n",
            "  y = column_or_1d(y, warn=True)\n",
            "/usr/local/lib/python3.10/dist-packages/sklearn/utils/validation.py:1143: DataConversionWarning: A column-vector y was passed when a 1d array was expected. Please change the shape of y to (n_samples, ), for example using ravel().\n",
            "  y = column_or_1d(y, warn=True)\n",
            "/usr/local/lib/python3.10/dist-packages/sklearn/utils/validation.py:1143: DataConversionWarning: A column-vector y was passed when a 1d array was expected. Please change the shape of y to (n_samples, ), for example using ravel().\n",
            "  y = column_or_1d(y, warn=True)\n",
            "/usr/local/lib/python3.10/dist-packages/sklearn/utils/validation.py:1143: DataConversionWarning: A column-vector y was passed when a 1d array was expected. Please change the shape of y to (n_samples, ), for example using ravel().\n",
            "  y = column_or_1d(y, warn=True)\n",
            "/usr/local/lib/python3.10/dist-packages/sklearn/utils/validation.py:1143: DataConversionWarning: A column-vector y was passed when a 1d array was expected. Please change the shape of y to (n_samples, ), for example using ravel().\n",
            "  y = column_or_1d(y, warn=True)\n",
            "/usr/local/lib/python3.10/dist-packages/sklearn/utils/validation.py:1143: DataConversionWarning: A column-vector y was passed when a 1d array was expected. Please change the shape of y to (n_samples, ), for example using ravel().\n",
            "  y = column_or_1d(y, warn=True)\n",
            "/usr/local/lib/python3.10/dist-packages/sklearn/utils/validation.py:1143: DataConversionWarning: A column-vector y was passed when a 1d array was expected. Please change the shape of y to (n_samples, ), for example using ravel().\n",
            "  y = column_or_1d(y, warn=True)\n",
            "/usr/local/lib/python3.10/dist-packages/sklearn/utils/validation.py:1143: DataConversionWarning: A column-vector y was passed when a 1d array was expected. Please change the shape of y to (n_samples, ), for example using ravel().\n",
            "  y = column_or_1d(y, warn=True)\n"
          ]
        },
        {
          "output_type": "execute_result",
          "data": {
            "text/plain": [
              "GridSearchCV(cv=2, estimator=SVR(),\n",
              "             param_grid={'C': [0.01, 0.1, 1], 'epsilon': [0.01, 0.1, 1],\n",
              "                         'kernel': ['linear', 'rbf']},\n",
              "             verbose=2)"
            ],
            "text/html": [
              "<style>#sk-container-id-6 {color: black;background-color: white;}#sk-container-id-6 pre{padding: 0;}#sk-container-id-6 div.sk-toggleable {background-color: white;}#sk-container-id-6 label.sk-toggleable__label {cursor: pointer;display: block;width: 100%;margin-bottom: 0;padding: 0.3em;box-sizing: border-box;text-align: center;}#sk-container-id-6 label.sk-toggleable__label-arrow:before {content: \"▸\";float: left;margin-right: 0.25em;color: #696969;}#sk-container-id-6 label.sk-toggleable__label-arrow:hover:before {color: black;}#sk-container-id-6 div.sk-estimator:hover label.sk-toggleable__label-arrow:before {color: black;}#sk-container-id-6 div.sk-toggleable__content {max-height: 0;max-width: 0;overflow: hidden;text-align: left;background-color: #f0f8ff;}#sk-container-id-6 div.sk-toggleable__content pre {margin: 0.2em;color: black;border-radius: 0.25em;background-color: #f0f8ff;}#sk-container-id-6 input.sk-toggleable__control:checked~div.sk-toggleable__content {max-height: 200px;max-width: 100%;overflow: auto;}#sk-container-id-6 input.sk-toggleable__control:checked~label.sk-toggleable__label-arrow:before {content: \"▾\";}#sk-container-id-6 div.sk-estimator input.sk-toggleable__control:checked~label.sk-toggleable__label {background-color: #d4ebff;}#sk-container-id-6 div.sk-label input.sk-toggleable__control:checked~label.sk-toggleable__label {background-color: #d4ebff;}#sk-container-id-6 input.sk-hidden--visually {border: 0;clip: rect(1px 1px 1px 1px);clip: rect(1px, 1px, 1px, 1px);height: 1px;margin: -1px;overflow: hidden;padding: 0;position: absolute;width: 1px;}#sk-container-id-6 div.sk-estimator {font-family: monospace;background-color: #f0f8ff;border: 1px dotted black;border-radius: 0.25em;box-sizing: border-box;margin-bottom: 0.5em;}#sk-container-id-6 div.sk-estimator:hover {background-color: #d4ebff;}#sk-container-id-6 div.sk-parallel-item::after {content: \"\";width: 100%;border-bottom: 1px solid gray;flex-grow: 1;}#sk-container-id-6 div.sk-label:hover label.sk-toggleable__label {background-color: #d4ebff;}#sk-container-id-6 div.sk-serial::before {content: \"\";position: absolute;border-left: 1px solid gray;box-sizing: border-box;top: 0;bottom: 0;left: 50%;z-index: 0;}#sk-container-id-6 div.sk-serial {display: flex;flex-direction: column;align-items: center;background-color: white;padding-right: 0.2em;padding-left: 0.2em;position: relative;}#sk-container-id-6 div.sk-item {position: relative;z-index: 1;}#sk-container-id-6 div.sk-parallel {display: flex;align-items: stretch;justify-content: center;background-color: white;position: relative;}#sk-container-id-6 div.sk-item::before, #sk-container-id-6 div.sk-parallel-item::before {content: \"\";position: absolute;border-left: 1px solid gray;box-sizing: border-box;top: 0;bottom: 0;left: 50%;z-index: -1;}#sk-container-id-6 div.sk-parallel-item {display: flex;flex-direction: column;z-index: 1;position: relative;background-color: white;}#sk-container-id-6 div.sk-parallel-item:first-child::after {align-self: flex-end;width: 50%;}#sk-container-id-6 div.sk-parallel-item:last-child::after {align-self: flex-start;width: 50%;}#sk-container-id-6 div.sk-parallel-item:only-child::after {width: 0;}#sk-container-id-6 div.sk-dashed-wrapped {border: 1px dashed gray;margin: 0 0.4em 0.5em 0.4em;box-sizing: border-box;padding-bottom: 0.4em;background-color: white;}#sk-container-id-6 div.sk-label label {font-family: monospace;font-weight: bold;display: inline-block;line-height: 1.2em;}#sk-container-id-6 div.sk-label-container {text-align: center;}#sk-container-id-6 div.sk-container {/* jupyter's `normalize.less` sets `[hidden] { display: none; }` but bootstrap.min.css set `[hidden] { display: none !important; }` so we also need the `!important` here to be able to override the default hidden behavior on the sphinx rendered scikit-learn.org. See: https://github.com/scikit-learn/scikit-learn/issues/21755 */display: inline-block !important;position: relative;}#sk-container-id-6 div.sk-text-repr-fallback {display: none;}</style><div id=\"sk-container-id-6\" class=\"sk-top-container\"><div class=\"sk-text-repr-fallback\"><pre>GridSearchCV(cv=2, estimator=SVR(),\n",
              "             param_grid={&#x27;C&#x27;: [0.01, 0.1, 1], &#x27;epsilon&#x27;: [0.01, 0.1, 1],\n",
              "                         &#x27;kernel&#x27;: [&#x27;linear&#x27;, &#x27;rbf&#x27;]},\n",
              "             verbose=2)</pre><b>In a Jupyter environment, please rerun this cell to show the HTML representation or trust the notebook. <br />On GitHub, the HTML representation is unable to render, please try loading this page with nbviewer.org.</b></div><div class=\"sk-container\" hidden><div class=\"sk-item sk-dashed-wrapped\"><div class=\"sk-label-container\"><div class=\"sk-label sk-toggleable\"><input class=\"sk-toggleable__control sk-hidden--visually\" id=\"sk-estimator-id-16\" type=\"checkbox\" ><label for=\"sk-estimator-id-16\" class=\"sk-toggleable__label sk-toggleable__label-arrow\">GridSearchCV</label><div class=\"sk-toggleable__content\"><pre>GridSearchCV(cv=2, estimator=SVR(),\n",
              "             param_grid={&#x27;C&#x27;: [0.01, 0.1, 1], &#x27;epsilon&#x27;: [0.01, 0.1, 1],\n",
              "                         &#x27;kernel&#x27;: [&#x27;linear&#x27;, &#x27;rbf&#x27;]},\n",
              "             verbose=2)</pre></div></div></div><div class=\"sk-parallel\"><div class=\"sk-parallel-item\"><div class=\"sk-item\"><div class=\"sk-label-container\"><div class=\"sk-label sk-toggleable\"><input class=\"sk-toggleable__control sk-hidden--visually\" id=\"sk-estimator-id-17\" type=\"checkbox\" ><label for=\"sk-estimator-id-17\" class=\"sk-toggleable__label sk-toggleable__label-arrow\">estimator: SVR</label><div class=\"sk-toggleable__content\"><pre>SVR()</pre></div></div></div><div class=\"sk-serial\"><div class=\"sk-item\"><div class=\"sk-estimator sk-toggleable\"><input class=\"sk-toggleable__control sk-hidden--visually\" id=\"sk-estimator-id-18\" type=\"checkbox\" ><label for=\"sk-estimator-id-18\" class=\"sk-toggleable__label sk-toggleable__label-arrow\">SVR</label><div class=\"sk-toggleable__content\"><pre>SVR()</pre></div></div></div></div></div></div></div></div></div></div>"
            ]
          },
          "metadata": {},
          "execution_count": 102
        }
      ],
      "source": [
        "# Fit model with the best parameters\n",
        "grid_search3.fit(X_train3, Y_train3)"
      ]
    },
    {
      "cell_type": "code",
      "execution_count": null,
      "metadata": {
        "id": "CFsmnzEz66Mw",
        "colab": {
          "base_uri": "https://localhost:8080/"
        },
        "outputId": "929a4de4-5eba-41be-9eab-5494c01757c8"
      },
      "outputs": [
        {
          "output_type": "stream",
          "name": "stdout",
          "text": [
            "Best Parameters: {'C': 1, 'epsilon': 0.1, 'kernel': 'rbf'}\n"
          ]
        }
      ],
      "source": [
        "# Get the best parameters\n",
        "best_params3 = grid_search3.best_params_\n",
        "print(\"Best Parameters:\", best_params)"
      ]
    },
    {
      "cell_type": "code",
      "source": [
        "n_past3 = 2\n",
        "n_month_for_prediction3=12\n",
        "predict_period_month3 = pd.date_range(list(train_datetime)[-n_past3], periods=n_month_for_prediction3, freq='M').tolist()\n",
        "print(predict_period_month3)"
      ],
      "metadata": {
        "colab": {
          "base_uri": "https://localhost:8080/"
        },
        "id": "Nrk3Jr26ldMV",
        "outputId": "94ea7c0c-83c4-4b71-dc22-0e9fe2e55317"
      },
      "execution_count": null,
      "outputs": [
        {
          "output_type": "stream",
          "name": "stdout",
          "text": [
            "[Timestamp('2022-11-30 00:00:00', freq='M'), Timestamp('2022-12-31 00:00:00', freq='M'), Timestamp('2023-01-31 00:00:00', freq='M'), Timestamp('2023-02-28 00:00:00', freq='M'), Timestamp('2023-03-31 00:00:00', freq='M'), Timestamp('2023-04-30 00:00:00', freq='M'), Timestamp('2023-05-31 00:00:00', freq='M'), Timestamp('2023-06-30 00:00:00', freq='M'), Timestamp('2023-07-31 00:00:00', freq='M'), Timestamp('2023-08-31 00:00:00', freq='M'), Timestamp('2023-09-30 00:00:00', freq='M'), Timestamp('2023-10-31 00:00:00', freq='M')]\n"
          ]
        }
      ]
    },
    {
      "cell_type": "code",
      "execution_count": null,
      "metadata": {
        "id": "ma9jV1Z87V9c"
      },
      "outputs": [],
      "source": [
        "# Make predictions with the best parameter\n",
        "best_regressor3 = grid_search3.best_estimator_\n",
        "Y_pred3 = best_regressor.predict(X_test3[-n_month_for_prediction3:])"
      ]
    },
    {
      "cell_type": "code",
      "source": [
        "# Print the error metrics\n",
        "prediction3 = best_regressor3.predict(X_train3[-n_month_for_prediction:])\n",
        "mse3 = mean_squared_error(Y_train3[-n_month_for_prediction:], prediction2)\n",
        "fmape3 = np.mean(np.abs((mse3) / prediction3)) * 100\n",
        "mape3 = f\"{(fmape3*100):.2f}%\"\n",
        "mae3 = np.mean(np.abs((mse3) / prediction3))\n",
        "\n",
        "print(\"MSE:\", mse3)\n",
        "print(\"MAPE:\", mape3)\n",
        "print(\"MAE:\", mae3)\n"
      ],
      "metadata": {
        "colab": {
          "base_uri": "https://localhost:8080/"
        },
        "id": "FJX3tUdPajIs",
        "outputId": "82512627-2530-464d-e2ba-7aaf660b1d43"
      },
      "execution_count": null,
      "outputs": [
        {
          "output_type": "stream",
          "name": "stdout",
          "text": [
            "MSE: 0.11410621750220085\n",
            "MAPE: 1555.84%\n",
            "MAE: 0.15558360723888745\n"
          ]
        }
      ]
    },
    {
      "cell_type": "code",
      "source": [
        "Y_test3 = Y_test3[-n_month_for_prediction:]"
      ],
      "metadata": {
        "id": "WgnoA99jmH-5"
      },
      "execution_count": null,
      "outputs": []
    },
    {
      "cell_type": "code",
      "source": [
        "Y_pred3=Y_pred3.reshape(-1,1)\n",
        "prediction_copies3 = np.repeat(Y_pred3, data_training.shape[1], axis=-1)\n",
        "Y_pred_future3 = scaler.inverse_transform(prediction_copies2)[:,0]"
      ],
      "metadata": {
        "id": "vLj9fMKvmKU7"
      },
      "execution_count": null,
      "outputs": []
    },
    {
      "cell_type": "code",
      "source": [
        "import seaborn as sns\n",
        "import matplotlib.pyplot as plt\n",
        "\n",
        "# Corrected variable name\n",
        "forecast_dates3 = []\n",
        "\n",
        "for time_i in predict_period_month3:\n",
        "    forecast_dates3.append(time_i.date())\n",
        "\n",
        "df_forecast3 = pd.DataFrame({'Date': forecast_dates3, 'total_visitor': Y_pred_future3})\n",
        "df_forecast3['date'] = pd.to_datetime(df_forecast3['Date'])\n",
        "\n",
        "# Assuming 'original' contains the original data with 'Datetime' and 'total_visitor' columns\n",
        "original = data_original[['datetime', 'total_visitor']]\n",
        "original['datetime'] = pd.to_datetime(original['datetime'])\n",
        "original = original.loc[original['datetime'] >= '2014-01-01']\n",
        "\n",
        "# Plotting with the correct DataFrame and column names\n",
        "sns.lineplot(data=original, x='datetime', y='total_visitor', label='Original')\n",
        "sns.lineplot(data=df_forecast3, x='Date', y='total_visitor', label='Forecast')\n",
        "\n",
        "plt.xlabel('Year')\n",
        "plt.ylabel('total visitor')\n",
        "plt.title('Forecasted Data 1 Year with 60:40 split')\n",
        "plt.legend()\n",
        "plt.show()\n",
        "\n",
        "# Generate the forecast dates from January 2023 to December 2023\n",
        "forecast_dates3 = pd.date_range(start='2023-01-01', end='2023-12-01', freq='MS')\n",
        "\n",
        "# Create a list of forecast dates and prediction values\n",
        "data = list(zip(forecast_dates3, Y_pred_future3))"
      ],
      "metadata": {
        "colab": {
          "base_uri": "https://localhost:8080/",
          "height": 579
        },
        "id": "ydz9N1Qql4D_",
        "outputId": "e6b788bf-90ae-4ee8-8ab2-d63119ad88b4"
      },
      "execution_count": null,
      "outputs": [
        {
          "output_type": "stream",
          "name": "stderr",
          "text": [
            "<ipython-input-109-2a9414551645>:15: SettingWithCopyWarning: \n",
            "A value is trying to be set on a copy of a slice from a DataFrame.\n",
            "Try using .loc[row_indexer,col_indexer] = value instead\n",
            "\n",
            "See the caveats in the documentation: https://pandas.pydata.org/pandas-docs/stable/user_guide/indexing.html#returning-a-view-versus-a-copy\n",
            "  original['datetime'] = pd.to_datetime(original['datetime'])\n"
          ]
        },
        {
          "output_type": "display_data",
          "data": {
            "text/plain": [
              "<Figure size 640x480 with 1 Axes>"
            ],
            "image/png": "[encoded data removed]"
          },
          "metadata": {}
        }
      ]
    },
    {
      "cell_type": "code",
      "source": [
        "# Create a list of forecast dates and prediction values\n",
        "data3 = list(zip(forecast_dates3, Y_pred_future3))\n",
        "\n",
        "# Create a list of headers for the table\n",
        "headers = ['Date', 'Prediction']\n",
        "table3 = tabulate(data3, headers=headers, tablefmt='fancy_grid')\n",
        "# Print the table\n",
        "print(\"Hasil Forecast SVR scenario 3\")\n",
        "print(table3)"
      ],
      "metadata": {
        "id": "aZrauIgKskf2",
        "colab": {
          "base_uri": "https://localhost:8080/"
        },
        "outputId": "c8be39a1-d69b-4a83-93b0-6b160dade1cb"
      },
      "execution_count": null,
      "outputs": [
        {
          "output_type": "stream",
          "name": "stdout",
          "text": [
            "Hasil Forecast SVR scenario 3\n",
            "╒═════════════════════╤══════════════╕\n",
            "│ Date                │   Prediction │\n",
            "╞═════════════════════╪══════════════╡\n",
            "│ 2023-01-01 00:00:00 │     212040   │\n",
            "├─────────────────────┼──────────────┤\n",
            "│ 2023-02-01 00:00:00 │     184623   │\n",
            "├─────────────────────┼──────────────┤\n",
            "│ 2023-03-01 00:00:00 │     199816   │\n",
            "├─────────────────────┼──────────────┤\n",
            "│ 2023-04-01 00:00:00 │     198685   │\n",
            "├─────────────────────┼──────────────┤\n",
            "│ 2023-05-01 00:00:00 │     204823   │\n",
            "├─────────────────────┼──────────────┤\n",
            "│ 2023-06-01 00:00:00 │     233955   │\n",
            "├─────────────────────┼──────────────┤\n",
            "│ 2023-07-01 00:00:00 │      49622.8 │\n",
            "├─────────────────────┼──────────────┤\n",
            "│ 2023-08-01 00:00:00 │     197083   │\n",
            "├─────────────────────┼──────────────┤\n",
            "│ 2023-09-01 00:00:00 │     229182   │\n",
            "├─────────────────────┼──────────────┤\n",
            "│ 2023-10-01 00:00:00 │      13201.5 │\n",
            "├─────────────────────┼──────────────┤\n",
            "│ 2023-11-01 00:00:00 │      13121.6 │\n",
            "├─────────────────────┼──────────────┤\n",
            "│ 2023-12-01 00:00:00 │     195660   │\n",
            "╘═════════════════════╧══════════════╛\n"
          ]
        }
      ]
    },
    {
      "cell_type": "markdown",
      "source": [
        "# Comparison and conclusion"
      ],
      "metadata": {
        "id": "7aE00KqKa5xX"
      }
    },
    {
      "cell_type": "code",
      "source": [
        "\n",
        "# Define the data for each scenario\n",
        "comparison_error = [\n",
        "    {\n",
        "        'Scenario': 'Scenario 1',\n",
        "        'Model': 'RNN',\n",
        "        'MAPE': mape,\n",
        "        'MAE': mae,\n",
        "        'MSE': mse,\n",
        "    },\n",
        "    {\n",
        "        'Scenario': 'Scenario 2',\n",
        "        'Model': 'RNN',\n",
        "        'MAPE': mape2,\n",
        "        'MAE': mae2,\n",
        "        'MSE': mse2,\n",
        "    },\n",
        "    {\n",
        "        'Scenario': 'Scenario 3',\n",
        "        'Model': 'RNN',\n",
        "        'MAPE': mape3,\n",
        "        'MAE': mae3,\n",
        "        'MSE': mse3,\n",
        "    }\n",
        "]\n",
        "\n",
        "# Create a DataFrame from the scenario data\n",
        "df = pd.DataFrame(comparison_error)\n",
        "\n",
        "# Convert DataFrame to a list of rows\n",
        "rows = df.values.tolist()\n",
        "\n",
        "# Create a list of headers\n",
        "headers = df.columns.tolist()\n",
        "\n",
        "# Generate the table\n",
        "table = tabulate(rows, headers=headers, tablefmt='fancy_grid')\n",
        "\n",
        "# Print the table\n",
        "print(table)"
      ],
      "metadata": {
        "colab": {
          "base_uri": "https://localhost:8080/"
        },
        "id": "2iUhYJ7Ya9mQ",
        "outputId": "7810b1e3-ee9d-4025-d286-138dfb515877"
      },
      "execution_count": null,
      "outputs": [
        {
          "output_type": "stream",
          "name": "stdout",
          "text": [
            "╒════════════╤═════════╤══════════╤══════════╤══════════╕\n",
            "│ Scenario   │ Model   │ MAPE     │      MAE │      MSE │\n",
            "╞════════════╪═════════╪══════════╪══════════╪══════════╡\n",
            "│ Scenario 1 │ RNN     │ 1465.78% │ 0.146578 │ 0.113617 │\n",
            "├────────────┼─────────┼──────────┼──────────┼──────────┤\n",
            "│ Scenario 2 │ RNN     │ 1475.24% │ 0.147524 │ 0.114106 │\n",
            "├────────────┼─────────┼──────────┼──────────┼──────────┤\n",
            "│ Scenario 3 │ RNN     │ 1555.84% │ 0.155584 │ 0.114106 │\n",
            "╘════════════╧═════════╧══════════╧══════════╧══════════╛\n"
          ]
        }
      ]
    },
    {
      "cell_type": "code",
      "source": [
        "# Plot the wider graph\n",
        "plt.figure(figsize=(18, 6))\n",
        "sns.lineplot(data=original, x='datetime', y='total_visitor', label='Original')\n",
        "sns.lineplot(data=df_forecast, x='date', y='total_visitor', label='Scenario 1')\n",
        "sns.lineplot(data=df_forecast2, x='date', y='total_visitor', label='Scenario 2')\n",
        "sns.lineplot(data=df_forecast3, x='date', y='total_visitor', label='Scenario 3')\n",
        "\n",
        "plt.xlabel('Year')\n",
        "plt.ylabel('Total Visitor')\n",
        "plt.title('Comparison of Forecasted Data with the Original Data')\n",
        "plt.legend()\n",
        "plt.show()\n"
      ],
      "metadata": {
        "colab": {
          "base_uri": "https://localhost:8080/",
          "height": 564
        },
        "id": "DqolYYmdbGk9",
        "outputId": "19e66beb-f92e-4cb8-ce2b-8672cd204c42"
      },
      "execution_count": null,
      "outputs": [
        {
          "output_type": "display_data",
          "data": {
            "text/plain": [
              "<Figure size 1800x600 with 1 Axes>"
            ],
            "image/png": "[encoded data removed]"
          },
          "metadata": {}
        }
      ]
    }
  ],
  "metadata": {
    "colab": {
      "provenance": [],
      "toc_visible": true
    },
    "kernelspec": {
      "display_name": "Python 3",
      "name": "python3"
    },
    "language_info": {
      "name": "python"
    }
  },
  "nbformat": 4,
  "nbformat_minor": 0
}